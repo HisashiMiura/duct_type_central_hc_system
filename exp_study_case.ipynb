{
 "cells": [
  {
   "cell_type": "markdown",
   "metadata": {},
   "source": [
    "# 検討ケース"
   ]
  },
  {
   "cell_type": "markdown",
   "metadata": {},
   "source": [
    "本モジュールでは、試算例で示すケースを定義します。"
   ]
  },
  {
   "cell_type": "markdown",
   "metadata": {},
   "source": [
    "## 試算ケース"
   ]
  },
  {
   "cell_type": "code",
   "execution_count": 1,
   "metadata": {},
   "outputs": [],
   "source": [
    "def get_case():\n",
    "    return {\n",
    "        'region': 6,\n",
    "        'house' : {\n",
    "            'a_mr': 29.81,\n",
    "            'a_or': 51.34,\n",
    "            'a_a': 120.08,\n",
    "            'r_env': 266.0 / 90.0,\n",
    "            'insulation': 'h11',\n",
    "            'solar_gain': 'middle',\n",
    "        },\n",
    "        'system' : {\n",
    "            'input': 'default',\n",
    "            'is_duct_insulated': True,\n",
    "            'vav_system': False,\n",
    "            'ventilation_included': True,\n",
    "            'v_hs_rtd_h': None,\n",
    "            'v_hs_rtd_c': None,\n",
    "            'cap_rtd_h': None, # used default value\n",
    "            'cap_rtd_c': None, # used default value\n",
    "        }\n",
    "    }"
   ]
  },
  {
   "cell_type": "markdown",
   "metadata": {},
   "source": [
    "## 表示日"
   ]
  },
  {
   "cell_type": "markdown",
   "metadata": {},
   "source": [
    "試算結果を１日単位で表示する場合に表示する日を暖房時と冷房時それぞれ指定します。"
   ]
  },
  {
   "cell_type": "code",
   "execution_count": 2,
   "metadata": {},
   "outputs": [],
   "source": [
    "def get_display_day():\n",
    "    \n",
    "    hday = '2/23' #2/23 がトリッキー\n",
    "    cday = '9/1'\n",
    "    \n",
    "    return hday, cday"
   ]
  },
  {
   "cell_type": "code",
   "execution_count": null,
   "metadata": {},
   "outputs": [],
   "source": []
  }
 ],
 "metadata": {
  "kernelspec": {
   "display_name": "Python 3",
   "language": "python",
   "name": "python3"
  },
  "language_info": {
   "codemirror_mode": {
    "name": "ipython",
    "version": 3
   },
   "file_extension": ".py",
   "mimetype": "text/x-python",
   "name": "python",
   "nbconvert_exporter": "python",
   "pygments_lexer": "ipython3",
   "version": "3.6.4"
  }
 },
 "nbformat": 4,
 "nbformat_minor": 2
}
