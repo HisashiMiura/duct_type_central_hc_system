{
 "cells": [
  {
   "cell_type": "code",
   "execution_count": 1,
   "metadata": {},
   "outputs": [
    {
     "name": "stdout",
     "output_type": "stream",
     "text": [
      "Importing Jupyter notebook from report_study_case.ipynb\n"
     ]
    }
   ],
   "source": [
    "import nbimporter\n",
    "\n",
    "import central_system as cs\n",
    "\n",
    "import report_study_case "
   ]
  },
  {
   "cell_type": "markdown",
   "metadata": {},
   "source": [
    "# 本計算で共通で使用される属性"
   ]
  },
  {
   "cell_type": "markdown",
   "metadata": {},
   "source": [
    "本モジュールでは本計算で共通で使用される属性を定義します。"
   ]
  },
  {
   "cell_type": "markdown",
   "metadata": {},
   "source": [
    "## 0. 検討ケース"
   ]
  },
  {
   "cell_type": "markdown",
   "metadata": {},
   "source": [
    "試算するケースを取得します。"
   ]
  },
  {
   "cell_type": "code",
   "execution_count": 2,
   "metadata": {},
   "outputs": [
    {
     "data": {
      "text/plain": [
       "{'region': 6,\n",
       " 'house': {'a_mr': 29.81,\n",
       "  'a_or': 51.34,\n",
       "  'a_a': 120.08,\n",
       "  'r_env': 2.9555555555555557,\n",
       "  'insulation': 'h11',\n",
       "  'solar_gain': 'middle'},\n",
       " 'system': {'default_heat_source_spec': True,\n",
       "  'v_hs_rtd_h': 1800.0,\n",
       "  'v_hs_rtd_c': 1800.0,\n",
       "  'is_duct_insulated': True,\n",
       "  'vav_system': False,\n",
       "  'cap_rtd_h': None,\n",
       "  'cap_rtd_c': None}}"
      ]
     },
     "execution_count": 2,
     "metadata": {},
     "output_type": "execute_result"
    }
   ],
   "source": [
    "case = report_study_case.get_case()\n",
    "case"
   ]
  },
  {
   "cell_type": "markdown",
   "metadata": {},
   "source": [
    "## 1. 空気の密度"
   ]
  },
  {
   "cell_type": "markdown",
   "metadata": {},
   "source": [
    "空気の密度 $\\rho$ は 1.2 kg/m<sup>3</sup> とする。"
   ]
  },
  {
   "cell_type": "code",
   "execution_count": 3,
   "metadata": {},
   "outputs": [
    {
     "data": {
      "text/plain": [
       "1.2"
      ]
     },
     "execution_count": 3,
     "metadata": {},
     "output_type": "execute_result"
    }
   ],
   "source": [
    "rho = cs.get_air_density()\n",
    "rho"
   ]
  },
  {
   "cell_type": "markdown",
   "metadata": {},
   "source": [
    "## 2. 空気の比熱"
   ]
  },
  {
   "cell_type": "markdown",
   "metadata": {},
   "source": [
    "空気の比熱 $c$ は1006.0 J/kgK とする。"
   ]
  },
  {
   "cell_type": "code",
   "execution_count": 4,
   "metadata": {},
   "outputs": [
    {
     "data": {
      "text/plain": [
       "1006.0"
      ]
     },
     "execution_count": 4,
     "metadata": {},
     "output_type": "execute_result"
    }
   ],
   "source": [
    "c = cs.get_specific_heat()\n",
    "c"
   ]
  },
  {
   "cell_type": "markdown",
   "metadata": {},
   "source": [
    "## 3. 水の蒸発潜熱 "
   ]
  },
  {
   "cell_type": "markdown",
   "metadata": {},
   "source": [
    "$$ L_{wtr} = 2500.8 - 2.3668 \\theta $$\n",
    "\n",
    "$L_{wtr}$：水の蒸発潜熱, kJ/kg  \n",
    "$\\theta$：温度, ℃  \n",
    "\n",
    "ここで、（水の蒸発潜熱は冷房期の潜熱負荷算定のために求めるため）温度は27℃とする。"
   ]
  },
  {
   "cell_type": "code",
   "execution_count": 5,
   "metadata": {},
   "outputs": [
    {
     "data": {
      "text/plain": [
       "2434.5296000000003"
      ]
     },
     "execution_count": 5,
     "metadata": {},
     "output_type": "execute_result"
    }
   ],
   "source": [
    "l_wtr = cs.get_evaporation_latent_heat()\n",
    "l_wtr"
   ]
  },
  {
   "cell_type": "markdown",
   "metadata": {},
   "source": [
    "## 3. 外部モジュールへの引き渡し"
   ]
  },
  {
   "cell_type": "markdown",
   "metadata": {},
   "source": [
    "本モジュールを外部のモジュールから呼び出して必要な値を取得する場合に利用する関数を定義します。"
   ]
  },
  {
   "cell_type": "code",
   "execution_count": 6,
   "metadata": {},
   "outputs": [],
   "source": [
    "def get_general_property():\n",
    "    \n",
    "    # air density, kg/m3\n",
    "    rho = cs.get_air_density()\n",
    "    \n",
    "    # air specific heat, J/kgK\n",
    "    c = cs.get_specific_heat()\n",
    "    \n",
    "    # latent heat of evaporation, kJ/kg\n",
    "    l_wtr = cs.get_evaporation_latent_heat()\n",
    "    \n",
    "    return rho, c, l_wtr"
   ]
  },
  {
   "cell_type": "code",
   "execution_count": null,
   "metadata": {},
   "outputs": [],
   "source": []
  }
 ],
 "metadata": {
  "kernelspec": {
   "display_name": "Python 3",
   "language": "python",
   "name": "python3"
  },
  "language_info": {
   "codemirror_mode": {
    "name": "ipython",
    "version": 3
   },
   "file_extension": ".py",
   "mimetype": "text/x-python",
   "name": "python",
   "nbconvert_exporter": "python",
   "pygments_lexer": "ipython3",
   "version": "3.6.4"
  }
 },
 "nbformat": 4,
 "nbformat_minor": 2
}
