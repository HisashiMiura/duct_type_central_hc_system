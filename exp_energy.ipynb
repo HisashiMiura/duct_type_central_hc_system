{
 "cells": [
  {
   "cell_type": "code",
   "execution_count": 1,
   "metadata": {},
   "outputs": [
    {
     "name": "stdout",
     "output_type": "stream",
     "text": [
      "Importing Jupyter notebook from exp_study_case.ipynb\n",
      "Importing Jupyter notebook from exp_external_conditions.ipynb\n",
      "Importing Jupyter notebook from exp_system_spec.ipynb\n",
      "Importing Jupyter notebook from exp_house_spec.ipynb\n",
      "Importing Jupyter notebook from exp_general_property.ipynb\n",
      "Importing Jupyter notebook from exp_occupant_usage.ipynb\n",
      "Importing Jupyter notebook from exp_circulating_air_flow.ipynb\n",
      "Importing Jupyter notebook from exp_load.ipynb\n",
      "Importing Jupyter notebook from exp_treated_and_untreated_heat.ipynb\n",
      "Importing Jupyter notebook from exp_theoretical_efficiency.ipynb\n"
     ]
    }
   ],
   "source": [
    "import numpy as np\n",
    "import matplotlib.pyplot as plt\n",
    "import nbimporter\n",
    "\n",
    "import central_system as cs\n",
    "import analyze_control as ac\n",
    "import read_load as rl\n",
    "\n",
    "import exp_study_case\n",
    "import exp_external_conditions\n",
    "import exp_system_spec\n",
    "import exp_house_spec\n",
    "import exp_general_property\n",
    "import exp_occupant_usage\n",
    "import exp_circulating_air_flow\n",
    "import exp_load\n",
    "import exp_treated_and_untreated_heat\n",
    "from exp_theoretical_efficiency import get_e_th_h_test, get_e_th_c_test, get_e_th_h, get_e_th_c\n",
    "\n",
    "# 日本語フォント\n",
    "import pylab\n",
    "from matplotlib.font_manager import FontProperties\n",
    "fp = FontProperties(fname='C:\\WINDOWS\\Fonts\\msgothic.ttc', size = 12)"
   ]
  },
  {
   "cell_type": "markdown",
   "metadata": {},
   "source": [
    "# 0. 検討ケース"
   ]
  },
  {
   "cell_type": "markdown",
   "metadata": {},
   "source": [
    "試算するケースを取得します。"
   ]
  },
  {
   "cell_type": "code",
   "execution_count": 2,
   "metadata": {},
   "outputs": [
    {
     "data": {
      "text/plain": [
       "{'region': 6,\n",
       " 'house': {'a_mr': 29.81,\n",
       "  'a_or': 51.34,\n",
       "  'a_a': 120.08,\n",
       "  'r_env': 2.9555555555555557,\n",
       "  'insulation': 'h11',\n",
       "  'solar_gain': 'middle'},\n",
       " 'system': {'input': 'default',\n",
       "  'v_hs_rtd_h': None,\n",
       "  'v_hs_rtd_c': None,\n",
       "  'is_duct_insulated': True,\n",
       "  'vav_system': False,\n",
       "  'cap_rtd_h': None,\n",
       "  'cap_rtd_c': None}}"
      ]
     },
     "execution_count": 2,
     "metadata": {},
     "output_type": "execute_result"
    }
   ],
   "source": [
    "case = exp_study_case.get_case()\n",
    "case"
   ]
  },
  {
   "cell_type": "markdown",
   "metadata": {},
   "source": [
    "1日グラフを描画する日を取得します。"
   ]
  },
  {
   "cell_type": "code",
   "execution_count": 3,
   "metadata": {},
   "outputs": [],
   "source": [
    "hday, cday = exp_study_case.get_display_day()"
   ]
  },
  {
   "cell_type": "markdown",
   "metadata": {},
   "source": [
    "## 1. 外部モジュールの読み込み"
   ]
  },
  {
   "cell_type": "markdown",
   "metadata": {},
   "source": [
    "### 熱源機の仕様"
   ]
  },
  {
   "cell_type": "markdown",
   "metadata": {},
   "source": [
    "外部モジュール exp_system_spec を参照のこと。\n",
    "\n",
    "$q_{rtd,H}$：定格暖房能力, W  \n",
    "$q_{rtd,C}$：定格冷房能力, W  \n",
    "$V_{hs,rtd,H}$：熱源機の暖房時の定格風量, m<sup>3</sup>/h  \n",
    "$V_{hs,rtd,C}$：熱源機の冷房時の定格風量, m<sup>3</sup>/h  "
   ]
  },
  {
   "cell_type": "code",
   "execution_count": 4,
   "metadata": {},
   "outputs": [
    {
     "data": {
      "text/plain": [
       "('default',\n",
       " True,\n",
       " False,\n",
       " 7733.9925600000015,\n",
       " 7664.646360000001,\n",
       " 1654.226845584,\n",
       " 1647.195140904,\n",
       " 2056.9129148936177,\n",
       " 2417.8695141955836,\n",
       " 241.2635794112,\n",
       " 240.32601878719998,\n",
       " None,\n",
       " None,\n",
       " None,\n",
       " None,\n",
       " None,\n",
       " None,\n",
       " None,\n",
       " None)"
      ]
     },
     "execution_count": 4,
     "metadata": {},
     "output_type": "execute_result"
    }
   ],
   "source": [
    "input_method, is_duct_insulated, vav_system, \\\n",
    "    q_rtd_h, q_rtd_c, v_hs_rtd_h, v_hs_rtd_c, p_rtd_h, p_rtd_c, p_fan_rtd_h, p_fan_rtd_c, \\\n",
    "    q_mid_h, q_mid_c, v_hs_mid_h, v_hs_mid_c, p_mid_h, p_mid_c, p_fan_mid_h, p_fan_mid_c \\\n",
    "    = exp_system_spec.get_system_spec(case['region'], case['house']['a_a'], case['system'])\n",
    "input_method, is_duct_insulated, vav_system, \\\n",
    "    q_rtd_h, q_rtd_c, v_hs_rtd_h, v_hs_rtd_c, p_rtd_h, p_rtd_c, p_fan_rtd_h, p_fan_rtd_c, \\\n",
    "    q_mid_h, q_mid_c, v_hs_mid_h, v_hs_mid_c, p_mid_h, p_mid_c, p_fan_mid_h, p_fan_mid_c"
   ]
  },
  {
   "cell_type": "markdown",
   "metadata": {},
   "source": [
    "### 住宅の仕様"
   ]
  },
  {
   "cell_type": "markdown",
   "metadata": {},
   "source": [
    "外部モジュール exp_house_spec を参照のこと。  \n",
    "\n",
    "$r_{env}$：床面積の合計に対する外皮の部位の面積の合計の比  \n",
    "$A_A$：床面積の合計, m<sup>2</sup>  \n",
    "$A_{MR}$：主たる居室の床面積, m<sup>2</sup>  \n",
    "$A_{OR}$：その他の居室の床面積, m<sup>2</sup>  \n",
    "$A_{NR}$：非居室の床面積, m<sup>2</sup>  \n",
    "$A_{HCZ,R,i}$：標準住戸における暖冷房区画 $i$ の床面積, m<sup>2</sup>  \n",
    "$A_{HCZ,i}$：暖冷房区画 $i$ の床面積, m<sup>2</sup>  \n",
    "$A_{prt,i}$：暖冷房区画 $i$ から見た非暖冷房空間の間仕切りの面積, m<sup>2</sup>  \n",
    "$U_{prt}$：間仕切りの熱貫流率, W/m<sup>2</sup>K  \n",
    "$Q$：熱損失係数, W/m<sup>2</sup>K  \n",
    "$\\mu_H$：暖房期の日射取得係数, ((W/m<sup>2</sup>)/(W/m<sup>2</sup>))  \n",
    "$\\mu_C$：冷房期の日射取得係数, ((W/m<sup>2</sup>)/(W/m<sup>2</sup>))  \n",
    "$V_{vent,i}$：暖冷房区画 $i$ の機械換気量, m<sup>3</sup>/h  "
   ]
  },
  {
   "cell_type": "code",
   "execution_count": 5,
   "metadata": {},
   "outputs": [
    {
     "data": {
      "text/plain": [
       "(2.9555555555555557,\n",
       " 120.08,\n",
       " 29.81,\n",
       " 51.34,\n",
       " 38.92999999999999,\n",
       " array([29.81, 16.56, 13.25, 10.76, 10.77,  3.31,  1.66,  3.31, 13.25,\n",
       "         4.97, 10.77,  1.66]),\n",
       " array([37.99636619, 27.7187943 , 22.17838312, 18.01052093, 18.02725933]),\n",
       " 2.1739130434782608,\n",
       " 2.7,\n",
       " 0.101,\n",
       " 0.062,\n",
       " array([60., 20., 40., 20., 20.]))"
      ]
     },
     "execution_count": 5,
     "metadata": {},
     "output_type": "execute_result"
    }
   ],
   "source": [
    "r_env, a_a, a_mr, a_or, a_nr, a_hcz, a_prt, u_prt, q, mu_h, mu_c, v_vent = \\\n",
    "    exp_house_spec.get_house_spec(case['region'], case['house'])\n",
    "r_env, a_a, a_mr, a_or, a_nr, a_hcz, a_prt, u_prt, q, mu_h, mu_c, v_vent"
   ]
  },
  {
   "cell_type": "markdown",
   "metadata": {},
   "source": [
    "### 物性値"
   ]
  },
  {
   "cell_type": "markdown",
   "metadata": {},
   "source": [
    "外部モジュール exp_general_property を参照のこと。\n",
    "\n",
    "$\\rho$：空気の密度, kg/m<sup>3</sup>  \n",
    "$c$：空気の比熱, J/kgK  \n",
    "$L_{wtr}$：水の蒸発潜熱, kJ/kg  \n",
    "「平日」「休日」の別"
   ]
  },
  {
   "cell_type": "code",
   "execution_count": 6,
   "metadata": {},
   "outputs": [
    {
     "data": {
      "text/plain": [
       "(1.2,\n",
       " 1006.0,\n",
       " 2434.5296000000003,\n",
       " array(['休日', '休日', '休日', ..., '休日', '休日', '休日'], dtype=object))"
      ]
     },
     "execution_count": 6,
     "metadata": {},
     "output_type": "execute_result"
    }
   ],
   "source": [
    "rho, c, l_wtr, calender = exp_general_property.get_general_property()\n",
    "rho, c, l_wtr, calender"
   ]
  },
  {
   "cell_type": "markdown",
   "metadata": {},
   "source": [
    "### 気候条件"
   ]
  },
  {
   "cell_type": "markdown",
   "metadata": {},
   "source": [
    "外部モジュール exp_external_conditions を参照のこと。\n",
    "\n",
    "$\\theta_{ex,d,t}$：日付$d$の時刻$t$における外気温度, ℃  \n",
    "$x_{ex,d,t}$：日付$d$の時刻$t$における絶対湿度, kg/kg(DA)  \n",
    "$h_{ex_d,t}$：日付$d$の時刻$t$における相対湿度, %  \n",
    "$J_{d,t}$：日付$d$の時刻$t$における水平面全天日射量, W/m<sup>2</sup>  \n",
    "$\\theta_{SAT,d,t}$：日付$d$の時刻$t$における水平面における等価外気温度, ℃  "
   ]
  },
  {
   "cell_type": "code",
   "execution_count": 7,
   "metadata": {},
   "outputs": [
    {
     "data": {
      "text/plain": [
       "(array([2.6, 2.9, 2.8, ..., 3.1, 2.7, 2.3]),\n",
       " array([0.0033, 0.0032, 0.0032, ..., 0.0032, 0.0032, 0.0032]),\n",
       " array([72.52135498, 68.85197153, 69.34240102, ..., 67.88267058,\n",
       "        69.83672797, 71.8536949 ]),\n",
       " array([0., 0., 0., ..., 0., 0., 0.]),\n",
       " array([2.6, 2.9, 2.8, ..., 3.1, 2.7, 2.3]))"
      ]
     },
     "execution_count": 7,
     "metadata": {},
     "output_type": "execute_result"
    }
   ],
   "source": [
    "theta_ex, x_ex, h_ex, j, theta_sat = exp_external_conditions.get_external_conditions(case['region'])\n",
    "theta_ex, x_ex, h_ex, j, theta_sat"
   ]
  },
  {
   "cell_type": "markdown",
   "metadata": {},
   "source": [
    "### 居住者の使い方"
   ]
  },
  {
   "cell_type": "markdown",
   "metadata": {},
   "source": [
    "外部モジュール exp_occupant_usage を参照のこと。\n",
    "\n",
    "暖冷房期間  \n",
    "$n_{p,d,t}$：日付$d$の時刻$t$における在室人数  \n",
    "$q_{gen,d,t}$：日付$d$の時刻$t$における内部発熱, W  \n",
    "$w_{gen,d,t}$：日付$d$の時刻$t$における内部発湿, g/h  \n",
    "$V_{local,d,t}$：日付$d$時刻$t$における局所換気量, m<sup>3</sup>/h  \n",
    "$V_{local,MR,d,t}$：日付$d$時刻$t$における主たる居室の局所換気量, m<sup>3</sup>/h  \n",
    "$V_{local,OR,d,t}$：日付$d$時刻$t$におけるその他の居室の局所換気量, m<sup>3</sup>/h  \n",
    "$V_{local,NR,d,t}$：日付$d$時刻$t$における非居室の局所換気量, m<sup>3</sup>/h  \n",
    "$\\theta_{set,h}$：暖房時の設定温度, ℃  \n",
    "$\\theta_{set,c}$：冷房時の設定温度, ℃  \n",
    "$X_{set,c}$：冷房時の設定絶対湿度, kg/kgDA  "
   ]
  },
  {
   "cell_type": "code",
   "execution_count": 8,
   "metadata": {},
   "outputs": [
    {
     "data": {
      "text/plain": [
       "(array(['h', 'h', 'h', ..., 'h', 'h', 'h'], dtype='<U1'),\n",
       " array([4., 4., 4., ..., 4., 3., 3.]),\n",
       " array([126.4, 126.4, 126.4, ..., 763. , 815. , 242.7]),\n",
       " array([0., 0., 0., ..., 0., 0., 0.]),\n",
       " array([  0. ,   0. ,   0. , ...,  25. ,  27. , 100.8]),\n",
       " array([0., 0., 0., ..., 0., 0., 0.]),\n",
       " array([0., 0., 0., ..., 0., 0., 0.]),\n",
       " array([  0. ,   0. ,   0. , ...,  25. ,  27. , 100.8]),\n",
       " 20.0,\n",
       " 27.0,\n",
       " 0.013425743)"
      ]
     },
     "execution_count": 8,
     "metadata": {},
     "output_type": "execute_result"
    }
   ],
   "source": [
    "hc_period, n_p, q_gen, w_gen, v_local, v_local_mr, v_local_or, v_local_nr, theta_set_h, theta_set_c, x_set_c \\\n",
    "    = exp_occupant_usage.get_occupant_usage(case['region'], a_mr, a_or, a_nr, calender)\n",
    "hc_period, n_p, q_gen, w_gen, v_local, v_local_mr, v_local_or, v_local_nr, theta_set_h, theta_set_c, x_set_c"
   ]
  },
  {
   "cell_type": "markdown",
   "metadata": {},
   "source": [
    "### 循環風量"
   ]
  },
  {
   "cell_type": "markdown",
   "metadata": {},
   "source": [
    "外部モジュール exp_circulating_air_flow を参照のこと。\n",
    "\n",
    "$V'_{supply,d,t,i}$：日付 $d$ の時刻 $t$ における暖冷房区画 $i$ へのVAV調整前の吹き出し風量, m<sup>3</sup>/h  "
   ]
  },
  {
   "cell_type": "code",
   "execution_count": 9,
   "metadata": {},
   "outputs": [
    {
     "data": {
      "text/plain": [
       "array([[431.73098011, 424.75936241, 427.08323498, ..., 384.98610203,\n",
       "        397.25927854, 478.51698686],\n",
       "       [239.83445255, 235.96159146, 237.25254516, ..., 213.86681817,\n",
       "        220.6847921 , 265.82493467],\n",
       "       [191.89652756, 188.79777095, 189.83068982, ..., 171.11928386,\n",
       "        176.57448643, 212.69205219],\n",
       "       [155.83446313, 153.3180389 , 154.15684698, ..., 138.96177316,\n",
       "        143.39180936, 172.72199861],\n",
       "       [155.9792907 , 153.46052778, 154.30011542, ..., 139.09091979,\n",
       "        143.52507312, 172.88252092]])"
      ]
     },
     "execution_count": 9,
     "metadata": {},
     "output_type": "execute_result"
    }
   ],
   "source": [
    "v_d_supply = exp_circulating_air_flow.get_circulating_air_flow(\n",
    "    a_a, a_hcz, q, mu_h, mu_c, v_vent, theta_ex, x_ex, j, hc_period, n_p, q_gen, w_gen, v_local,\n",
    "    theta_set_h, theta_set_c, x_set_c,\n",
    "    q_rtd_h, q_rtd_c, v_hs_rtd_h, v_hs_rtd_c)\n",
    "v_d_supply"
   ]
  },
  {
   "cell_type": "markdown",
   "metadata": {},
   "source": [
    "### 暖冷房負荷"
   ]
  },
  {
   "cell_type": "markdown",
   "metadata": {},
   "source": [
    "外部モジュール exp_load を参照のこと。\n",
    "\n",
    "$\\theta_{ac,d,t}$：日付 $d$ の時刻 $t$ における暖冷房室の温度, ℃  \n",
    "$X_{ac,d,t}$：日付 $d$ の時刻 $t$ における暖冷房室の絶対湿度, kg/kgDA  \n",
    "$\\theta'_{nac,d,t}$：日付 $d$ の時刻 $t$ における負荷バランス時（※）の非暖冷房空間の温度, ℃  \n",
    "$X'_{nac,d,t}$：日付 $d$ の時刻 $t$ における負荷バランス時（※）の非暖冷房空間の絶対湿度, kg/kgDA  \n",
    "$L'_{H,d,t,i}$：日付 $d$ の時刻 $t$ における室 $i$ の1時間当たりの負荷バランス時（※）の間仕切り熱損失を含む暖房負荷, MJ/h  \n",
    "$L'_{CS,d,t,i}$：日付 $d$ の時刻 $t$ における室 $i$ の1時間当たりの負荷バランス時（※）の間仕切り熱取得を含む顕熱冷房負荷, MJ/h  \n",
    "$L'_{CL,d,t,i}$：日付 $d$ の時刻 $t$ における室 $i$ の1時間当たりの負荷バランス時（※）の間仕切り熱取得を含む潜熱冷房負荷, MJ/h  "
   ]
  },
  {
   "cell_type": "code",
   "execution_count": 10,
   "metadata": {
    "scrolled": true
   },
   "outputs": [
    {
     "data": {
      "text/plain": [
       "(array([20., 20., 20., ..., 20., 20., 20.]),\n",
       " array([0.0033, 0.0032, 0.0032, ..., 0.0032, 0.0032, 0.0032]),\n",
       " array([18.14819847, 18.13408239, 18.13369986, ..., 18.19891006,\n",
       "        17.50034825, 18.33028546]),\n",
       " array([0.0033, 0.0032, 0.0032, ..., 0.0032, 0.0032, 0.0032]),\n",
       " array([[6.25375701, 6.21285461, 6.23357836, ..., 4.87304727, 6.23606361,\n",
       "         6.2312911 ],\n",
       "        [2.73031074, 2.72120294, 2.72807592, ..., 2.54324989, 2.80356869,\n",
       "         2.70500066],\n",
       "        [1.80262711, 1.78426724, 1.78618363, ..., 2.1278451 , 1.90620444,\n",
       "         1.78436228],\n",
       "        [1.67820495, 1.66276464, 1.66718856, ..., 1.14868705, 1.70493067,\n",
       "         1.65547944],\n",
       "        [2.08309753, 2.06547907, 2.06983304, ..., 1.56256299, 2.09474812,\n",
       "         2.05808817]]),\n",
       " array([[0., 0., 0., ..., 0., 0., 0.],\n",
       "        [0., 0., 0., ..., 0., 0., 0.],\n",
       "        [0., 0., 0., ..., 0., 0., 0.],\n",
       "        [0., 0., 0., ..., 0., 0., 0.],\n",
       "        [0., 0., 0., ..., 0., 0., 0.]]),\n",
       " array([[-0., -0., -0., ..., -0., -0., -0.],\n",
       "        [-0., -0., -0., ..., -0., -0., -0.],\n",
       "        [-0., -0., -0., ..., -0., -0., -0.],\n",
       "        [-0., -0., -0., ..., -0., -0., -0.],\n",
       "        [-0., -0., -0., ..., -0., -0., -0.]]))"
      ]
     },
     "execution_count": 10,
     "metadata": {},
     "output_type": "execute_result"
    }
   ],
   "source": [
    "theta_ac, x_ac, theta_d_nac, x_d_nac, l_d_h, l_d_cs, l_d_cl = exp_load.get_load(\n",
    "    case['region'], case['house'], hc_period, theta_ex, x_ex, theta_set_h, theta_set_c, x_set_c,\n",
    "    q, a_nr, v_local_nr, v_d_supply, u_prt, a_prt)\n",
    "theta_ac, x_ac, theta_d_nac, x_d_nac, l_d_h, l_d_cs, l_d_cl"
   ]
  },
  {
   "cell_type": "markdown",
   "metadata": {},
   "source": [
    "### 処理・未処理熱量"
   ]
  },
  {
   "cell_type": "markdown",
   "metadata": {},
   "source": [
    "外部モジュール exp_treated_and_untreated_heat を参照のこと。\n",
    "\n",
    "$\\theta_{hs,in,d,t}$：日付 $d$ の時刻 $t$ における熱源機入り口温度, ℃  \n",
    "$X_{hs,in,d,t}$：日付 $d$ の時刻 $t$ における熱源機入り口絶対湿度, kg/kgDA  \n",
    "$\\theta_{hs,out,H,d,t}$：日付 $d$ の時刻 $t$ における暖房時の熱源機の出口空気温度, ℃  \n",
    "$\\theta_{hs,out,C,d,t}$：日付 $d$ の時刻 $t$ における冷房時の熱源機の出口空気温度, ℃  \n",
    "$X_{hs,out,C,d,t}$：日付 $d$ の時刻 $t$ における冷房時の熱源機の出口空気絶対湿度, kg/kgDA  \n",
    "$V_{supply,d,t,i}$：日付 $d$ の時刻 $t$ における暖冷房区画 $i$ への吹き出し風量, m<sup>3</sup>/h  \n",
    "運転状態：'h'=暖房運転中, 'c'=冷房運転中, 'n'=運転停止中"
   ]
  },
  {
   "cell_type": "code",
   "execution_count": 11,
   "metadata": {},
   "outputs": [],
   "source": [
    "theta_hs_in, x_hs_in, theta_hs_out_h, theta_hs_out_c, x_hs_out_c, v_supply, operation = exp_treated_and_untreated_heat.get_heat(\n",
    "    case['region'], a_a, a_hcz, u_prt, a_prt, q, a_nr, q_rtd_h, q_rtd_c,\n",
    "    theta_sat, theta_ac, x_ac, is_duct_insulated, theta_d_nac, x_d_nac, vav_system,\n",
    "    hc_period, l_d_h, l_d_cs, l_d_cl, v_d_supply, v_vent, v_local_nr)"
   ]
  },
  {
   "cell_type": "code",
   "execution_count": 12,
   "metadata": {
    "scrolled": true
   },
   "outputs": [
    {
     "data": {
      "text/plain": [
       "(array([18.45523478, 18.44089875, 18.44152019, ..., 18.3499633 ,\n",
       "        17.78408525, 18.61440392]),\n",
       " array([0.0033, 0.0032, 0.0032, ..., 0.0032, 0.0032, 0.0032]),\n",
       " array([31.11301145, 31.23123799, 31.1947806 , ..., 30.58410861,\n",
       "        32.32572968, 29.86998459]),\n",
       " array([20., 20., 20., ..., 20., 20., 20.]),\n",
       " array([0.0033, 0.0032, 0.0032, ..., 0.0032, 0.0032, 0.0032]),\n",
       " array([[431.73098011, 424.75936241, 427.08323498, ..., 384.98610203,\n",
       "         397.25927854, 478.51698686],\n",
       "        [239.83445255, 235.96159146, 237.25254516, ..., 213.86681817,\n",
       "         220.6847921 , 265.82493467],\n",
       "        [191.89652756, 188.79777095, 189.83068982, ..., 171.11928386,\n",
       "         176.57448643, 212.69205219],\n",
       "        [155.83446313, 153.3180389 , 154.15684698, ..., 138.96177316,\n",
       "         143.39180936, 172.72199861],\n",
       "        [155.9792907 , 153.46052778, 154.30011542, ..., 139.09091979,\n",
       "         143.52507312, 172.88252092]]),\n",
       " array(['h', 'h', 'h', ..., 'h', 'h', 'h'], dtype='<U1'))"
      ]
     },
     "execution_count": 12,
     "metadata": {},
     "output_type": "execute_result"
    }
   ],
   "source": [
    "theta_hs_in, x_hs_in, theta_hs_out_h, theta_hs_out_c, x_hs_out_c, v_supply, operation"
   ]
  },
  {
   "cell_type": "markdown",
   "metadata": {},
   "source": [
    "## 2. 処理熱量"
   ]
  },
  {
   "cell_type": "markdown",
   "metadata": {},
   "source": [
    "「暖房運転中」\n",
    "\n",
    "$$ Q_{hs,H,d,t} = \\left( \\theta_{hs,out,H,d,t} - \\theta_{hs,in,d,t} \\right) c \\rho \\sum_{i=1}^5{V_{supply,d,t,i}} \\times 10^{-6} $$\n",
    "\n",
    "「暖房運転中」以外\n",
    "\n",
    "$$ Q_{hs,H,d,t} = 0 $$\n",
    "\n",
    "「冷房運転中」\n",
    "\n",
    "$$ Q_{hs,CS,d,t} = \\left( \\theta_{hs,in,d,t} - \\theta_{hs,out,C,d,t} \\right) c \\rho \\sum_{i=1}^5{V_{supply,d,t,i}} \\times 10^{-6} $$\n",
    "\n",
    "$$ Q_{hs,CL,d,t} = \\left( X_{hs,in,d,t} - X_{hs,out,C,d,t} \\right) L_{wtr} \\rho \\sum_{i=1}^5{V_{supply,d,t,i}} \\times 10^{-3} $$ \n",
    "\n",
    "$$ Q_{hs,C,d,t} = Q_{hs,CS,d,t} + Q_{hs,CL,d,t} $$\n",
    "\n",
    "「冷房運転中」以外\n",
    "\n",
    "$$ Q_{hs,CS,d,t} = 0 $$\n",
    "\n",
    "$$ Q_{hs,CL,d,t} = 0 $$\n",
    "\n",
    "$$ Q_{hs,C,d,t} = 0 $$"
   ]
  },
  {
   "cell_type": "markdown",
   "metadata": {},
   "source": [
    "$Q_{hs,H,d,t}$：日付 $d$ の時刻 $t$ における1時間当たりの熱源機の暖房出力, MJ/h  \n",
    "$Q_{hs,CS,d,t}$：日付 $d$ の時刻 $t$ における1時間当たりの熱源機の冷房顕熱出力, MJ/h  \n",
    "$Q_{hs,CL,d,t}$：日付 $d$ の時刻 $t$ における1時間当たりの熱源機の冷房潜熱出力, MJ/h  \n",
    "$Q_{hs,C,d,t}$：日付 $d$ の時刻 $t$ における1時間当たりの熱源機の冷房全熱出力, MJ/h  \n",
    "$\\theta_{hs,out,H,d,t}$：日付 $d$ の時刻 $t$ における暖房時の熱源機の出口空気温度, ℃  \n",
    "$\\theta_{hs,out,C,d,t}$：日付 $d$ の時刻 $t$ における冷房時の熱源機の出口空気温度, ℃  \n",
    "$X_{hs,out,C,d,t}$：日付 $d$ の時刻 $t$ における冷房時の熱源機の出口絶対湿度, ℃  \n",
    "$\\theta_{hs,in,d,t}$：日付 $d$ の時刻 $t$ における熱源機の入口空気温度, ℃  \n",
    "$X_{hs,in,d,t}$：日付 $d$ の時刻 $t$ における熱源機の入口絶対湿度, ℃  \n",
    "$c$：空気の比熱, J/kgK  \n",
    "$\\rho$：空気の密度, kg/m<sup>3</sup>  \n",
    "$L_{wtr}$：水の蒸発潜熱, kJ/kg  \n",
    "$V_{supply,d,t,i}$：日付 $d$ の時刻 $t$ における暖冷房室 $i$ への吹き出し風量, m<sup>3</sup>/h  "
   ]
  },
  {
   "cell_type": "code",
   "execution_count": 13,
   "metadata": {},
   "outputs": [],
   "source": [
    "q_hs_h = cs.get_heat_source_heating_output(theta_hs_out_h, theta_hs_in, v_supply, operation)\n",
    "q_hs_c, q_hs_cs, q_hs_cl = cs.get_heat_source_cooling_output(theta_hs_in, x_hs_in, theta_hs_out_c, x_hs_out_c, v_supply, operation)"
   ]
  },
  {
   "cell_type": "code",
   "execution_count": 14,
   "metadata": {},
   "outputs": [
    {
     "data": {
      "image/png": "[encoded data removed]",
      "text/plain": [
       "<Figure size 1080x288 with 1 Axes>"
      ]
     },
     "metadata": {},
     "output_type": "display_data"
    }
   ],
   "source": [
    "ac.draw_graph(y_title='output, MJ/d', ys=[\n",
    "    (q_hs_h, 'heating'),\n",
    "    (q_hs_cs, 'sensible cooling'),\n",
    "    (q_hs_cl, 'latent cooling')\n",
    "], op='itg')"
   ]
  },
  {
   "cell_type": "markdown",
   "metadata": {},
   "source": [
    "## 2. 試験時の圧縮機の圧縮効率"
   ]
  },
  {
   "cell_type": "markdown",
   "metadata": {},
   "source": [
    "### 定格暖房能力運転時"
   ]
  },
  {
   "cell_type": "markdown",
   "metadata": {},
   "source": [
    "$$ \\eta_{rtd,H} = \\frac{e_{rtd,H}}{e_{th,rtd,H}} $$\n",
    "\n",
    "$$ e_{rtd,H} = \\frac{q_{hs,rtd,H}}{P_{hs,rtd,H} - P_{fan,rtd,H}} $$\n",
    "\n",
    "$\\eta_{rtd,H}$：定格暖房能力運転時における圧縮機の圧縮効率   \n",
    "$e_{rtd,H}$：定格暖房能力運転時における暖房効率  \n",
    "$e_{th,rtd,H}$：定格暖房能力運転時における冷凍サイクルの理論暖房効率  \n",
    "$q_{hs,rtd,H}$：空調機の定格暖房能力, W  \n",
    "$P_{hs,rtd,H}$：空調機の定格暖房消費電力, W   \n",
    "$P_{fan,rtd,H}$：定格暖房能力運転時における送風機の消費電力, W   "
   ]
  },
  {
   "cell_type": "markdown",
   "metadata": {},
   "source": [
    "ここで、定格暖房能力運転時における冷凍サイクルの理論暖房効率$e_{th,H,rtd}$は、外気温度 $ \\theta_{ex} $ は7℃、顕熱暖房能力 $ q_{hs,H} $ は定格暖房能力能力 $ q_{hs,H,rtd} $、熱源機の風量 $ V_{hs} $ は定格暖房能力運転時における熱源機の風量 $ V_{fan,H,rtd} $、熱源機入口温度 $ \\theta_{hs,in,H} $は20℃に等しいとして、冷凍サイクルの計算（モジュール exp_theoretical_efficiency の「暖房試験時」の計算を参照）により求まるものとする。  \n",
    "また、$\\eta_{rtd,H}$は、0.0未満の場合は0.0、1.0より大の場合は1.0とする。"
   ]
  },
  {
   "cell_type": "code",
   "execution_count": 15,
   "metadata": {},
   "outputs": [
    {
     "data": {
      "text/plain": [
       "6.956211461915662"
      ]
     },
     "execution_count": 15,
     "metadata": {},
     "output_type": "execute_result"
    }
   ],
   "source": [
    "e_th_rtd_h = get_e_th_h_test(theta_hs_in_h=20.0, q_hs_h=q_rtd_h, v_hs=v_hs_rtd_h, theta_ex=7.0)\n",
    "e_th_rtd_h"
   ]
  },
  {
   "cell_type": "code",
   "execution_count": 16,
   "metadata": {},
   "outputs": [],
   "source": [
    "def get_eta_rtd_h(q_hs_rtd_h, p_hs_rtd_h, p_fan_rtd_h, e_th_rtd_h):\n",
    "    e_rtd_h = q_hs_rtd_h / (p_hs_rtd_h - p_fan_rtd_h)\n",
    "    eta_rtd_h = e_rtd_h / e_th_rtd_h\n",
    "    return np.clip(eta_rtd_h, 0.0, 1.0)"
   ]
  },
  {
   "cell_type": "code",
   "execution_count": 17,
   "metadata": {
    "scrolled": true
   },
   "outputs": [
    {
     "data": {
      "text/plain": [
       "0.6123489806958877"
      ]
     },
     "execution_count": 17,
     "metadata": {},
     "output_type": "execute_result"
    }
   ],
   "source": [
    "get_eta_rtd_h(q_hs_rtd_h = q_rtd_h, p_hs_rtd_h=p_rtd_h, p_fan_rtd_h=p_fan_rtd_h, e_th_rtd_h=e_th_rtd_h)"
   ]
  },
  {
   "cell_type": "markdown",
   "metadata": {},
   "source": [
    "### 中間暖房能力運転時"
   ]
  },
  {
   "cell_type": "markdown",
   "metadata": {},
   "source": [
    "空調機の中間暖房能力 $q_{hs,mid,H}$・空調機の中間暖房消費電力 $P_{hs,mid,H}$・中間暖房能力運転時における送風機の消費電力 $P_{fan,mid,H}$ を入力する場合は下式による。   "
   ]
  },
  {
   "cell_type": "markdown",
   "metadata": {},
   "source": [
    "$$ \\eta_{mid,H} = \\frac{e_{mid,H}}{e_{th,mid,H}} $$\n",
    "\n",
    "$$ e_{mid,H} = \\frac{q_{hs,mid,H}}{P_{hs,mid,H} - P_{fan,mid,H}} $$\n",
    "\n",
    "$\\eta_{mid,H}$：中間暖房能力運転時における圧縮機の圧縮効率   \n",
    "$e_{mid,H}$：中間暖房能力運転時における暖房効率  \n",
    "$e_{th,mid,H}$：中間暖房能力運転時における冷凍サイクルの理論暖房効率  \n",
    "$q_{hs,mid,H}$：空調機の中間暖房能力, W  \n",
    "$P_{hs,mid,H}$：空調機の中間暖房消費電力, W   \n",
    "$P_{fan,mid,H}$：中間暖房能力運転時における送風機の消費電力, W   "
   ]
  },
  {
   "cell_type": "markdown",
   "metadata": {},
   "source": [
    "ここで、中間暖房能力運転時における冷凍サイクルの理論暖房効率$e_{th,H,mid}$は、外気温度 $ \\theta_{ex} $ は7℃、顕熱暖房能力 $ q_{hs,H} $ は中間暖房能力能力 $ q_{hs,H,mid} $、熱源機の風量 $ V_{hs} $ は中間暖房能力運転時における熱源機の風量 $ V_{fan,H,mid} $、熱源機入口温度 $ \\theta_{hs,in,H} $は20℃に等しいとして、冷凍サイクルの計算（モジュール exp_theoretical_efficiency の「暖房試験時」の計算を参照）により求まるものとする。  \n",
    "また、$\\eta_{rtd,H}$は、0.0未満の場合は0.0、1.0より大の場合は1.0とする。"
   ]
  },
  {
   "cell_type": "markdown",
   "metadata": {},
   "source": [
    "空調機の中間暖房能力 $q_{hs,mid,H}$・空調機の中間暖房消費電力 $P_{hs,mid,H}$・中間暖房能力運転時における送風機の消費電力 $P_{fan,mid,H}$ を入力しない場合は下式による。   "
   ]
  },
  {
   "cell_type": "markdown",
   "metadata": {},
   "source": [
    "$$ \\eta_{mid,H} = \\eta_{rtd,H} \\times 0.95 $$\n",
    "\n",
    "$\\eta_{mid,H}$：中間暖房能力運転時における圧縮機の圧縮効率   \n",
    "$\\eta_{rtd,H}$：定格暖房能力運転時における圧縮機の圧縮効率   "
   ]
  },
  {
   "cell_type": "markdown",
   "metadata": {},
   "source": [
    "### 最小暖房能力運転時"
   ]
  },
  {
   "cell_type": "markdown",
   "metadata": {},
   "source": [
    "$$ \\eta_{min,H} = \\eta_{rtd,H} \\times 0.65 $$\n",
    "\n",
    "$\\eta_{min,H}$：最小暖房能力運転時における圧縮機の圧縮効率   \n",
    "$\\eta_{rtd,H}$：定格暖房能力運転時における圧縮機の圧縮効率   "
   ]
  },
  {
   "cell_type": "markdown",
   "metadata": {},
   "source": [
    "### 定格冷房能力運転時"
   ]
  },
  {
   "cell_type": "markdown",
   "metadata": {},
   "source": [
    "$$ \\eta_{rtd,C} = \\frac{e_{rtd,C}}{e_{th,rtd,C}} $$\n",
    "\n",
    "$$ e_{rtd,C} = \\frac{q_{hs,rtd,C}}{P_{hs,rtd,C} - P_{fan,rtd,C}} $$\n",
    "\n",
    "$\\eta_{rtd,C}$：定格冷房能力運転時における圧縮機の圧縮効率   \n",
    "$e_{rtd,C}$：定格冷房能力運転時における暖房効率  \n",
    "$e_{th,rtd,C}$：定格冷房能力運転時における冷凍サイクルの理論暖房効率  \n",
    "$q_{hs,rtd,C}$：空調機の定格冷房能力, W  \n",
    "$P_{hs,rtd,C}$：空調機の定格冷房消費電力, W   \n",
    "$P_{fan,rtd,C}$：定格冷房能力運転時における送風機の消費電力, W  "
   ]
  },
  {
   "cell_type": "markdown",
   "metadata": {},
   "source": [
    "ここで、定格冷房能力運転時における冷凍サイクルの理論暖房効率$e_{th,C,rtd}$は、外気温度 $ \\theta_{ex} $ は35℃、全熱冷房能力 $ q_{hs,C} $ は定格冷房能力 $ q_{hs,C,rtd} $、熱源機の風量 $ V_{hs} $ は定格冷房能力運転時における熱源機の風量 $ V_{fan,C,rtd} $、熱源機入口温度 $ \\theta_{hs,in,C} $は27℃、熱源機入口絶対湿度 $X_{hs,in,C}$は 0.010376 kg/kgDA に等しいとして、冷凍サイクルの計算（モジュール exp_theoretical_efficiency の「冷房試験時」の計算を参照）により求まるものとする。  \n",
    "また、$\\eta_{rtd,C}$は、0.0未満の場合は0.0、1.0より大の場合は1.0とする。"
   ]
  },
  {
   "cell_type": "code",
   "execution_count": 18,
   "metadata": {},
   "outputs": [
    {
     "data": {
      "text/plain": [
       "7.17519997760197"
      ]
     },
     "execution_count": 18,
     "metadata": {},
     "output_type": "execute_result"
    }
   ],
   "source": [
    "e_th_rtd_c = get_e_th_c_test(theta_hs_in_c=27.0, x_hs_in_c=0.010376, q_hs_c=q_rtd_c, v_hs=v_hs_rtd_c, theta_ex=35.0)\n",
    "e_th_rtd_c"
   ]
  },
  {
   "cell_type": "code",
   "execution_count": 19,
   "metadata": {},
   "outputs": [],
   "source": [
    "def get_eta_rtd_c(q_hs_rtd_c, p_hs_rtd_c, p_fan_rtd_c, e_th_rtd_c):\n",
    "    e_rtd_c = q_hs_rtd_c / (p_hs_rtd_c - p_fan_rtd_c)\n",
    "    eta_rtd_c = e_rtd_c / e_th_rtd_c\n",
    "    return np.clip(eta_rtd_c, 0.0, 1.0)"
   ]
  },
  {
   "cell_type": "code",
   "execution_count": 20,
   "metadata": {},
   "outputs": [
    {
     "data": {
      "text/plain": [
       "0.49055902888716174"
      ]
     },
     "execution_count": 20,
     "metadata": {},
     "output_type": "execute_result"
    }
   ],
   "source": [
    "get_eta_rtd_c(q_hs_rtd_c = q_rtd_c, p_hs_rtd_c=p_rtd_c, p_fan_rtd_c=p_fan_rtd_c, e_th_rtd_c=e_th_rtd_c)"
   ]
  },
  {
   "cell_type": "markdown",
   "metadata": {},
   "source": [
    "### 中間冷房能力運転時"
   ]
  },
  {
   "cell_type": "markdown",
   "metadata": {},
   "source": [
    "空調機の中間冷房能力 $q_{hs,mid,C}$・空調機の中間冷房消費電力 $P_{hs,mid,C}$・中間冷房能力運転時における送風機の消費電力 $P_{fan,mid,C}$ を入力する場合は下式による。   "
   ]
  },
  {
   "cell_type": "markdown",
   "metadata": {},
   "source": [
    "$$ \\eta_{mid,C} = \\frac{e_{mid,C}}{e_{th,mid,C}} $$\n",
    "\n",
    "$$ e_{mid,C} = \\frac{q_{hs,mid,C}}{P_{hs,mid,C} - P_{fan,mid,C}} $$\n",
    "\n",
    "$\\eta_{mid,C}$：中間冷房能力運転時における圧縮機の圧縮効率   \n",
    "$e_{mid,C}$：中間冷房能力運転時における暖房効率  \n",
    "$e_{th,mid,C}$：中間冷房能力運転時における冷凍サイクルの理論暖房効率  \n",
    "$q_{hs,mid,C}$：空調機の中間冷房能力, W  \n",
    "$P_{hs,mid,C}$：空調機の中間冷房消費電力, W   \n",
    "$P_{fan,mid,C}$：中間冷房能力運転時における送風機の消費電力, W   "
   ]
  },
  {
   "cell_type": "markdown",
   "metadata": {},
   "source": [
    "ここで、中間冷房能力運転時における冷凍サイクルの理論暖房効率$e_{th,C,mid}$は、外気温度 $ \\theta_{ex} $ は35℃、全熱冷房能力 $ q_{hs,C} $ は中間冷房能力 $ q_{hs,C,mid} $、熱源機の風量 $ V_{hs} $ は中間冷房能力運転時における熱源機の風量 $ V_{fan,C,mid} $、熱源機入口温度 $ \\theta_{hs,in,C} $は27℃、熱源機入口絶対湿度 $X_{hs,in,C}$は 0.010376 kg/kgDA に等しいとして、冷凍サイクルの計算（モジュール exp_theoretical_efficiency の「冷房試験時」の計算を参照）により求まるものとする。  \n",
    "また、$\\eta_{rtd,C}$は、0.0未満の場合は0.0、1.0より大の場合は1.0とする。"
   ]
  },
  {
   "cell_type": "markdown",
   "metadata": {},
   "source": [
    "空調機の中間冷房能力 $q_{hs,mid,C}$・空調機の中間冷房消費電力 $P_{hs,mid,C}$・中間冷房能力運転時における送風機の消費電力 $P_{fan,mid,C}$ を入力しない場合は下式による。   "
   ]
  },
  {
   "cell_type": "markdown",
   "metadata": {},
   "source": [
    "$$ \\eta_{mid,C} = \\eta_{rtd,C} \\times 0.95 $$\n",
    "\n",
    "$\\eta_{mid,C}$：中間冷房能力運転時における圧縮機の圧縮効率   \n",
    "$\\eta_{rtd,C}$：定格冷房能力運転時における圧縮機の圧縮効率   "
   ]
  },
  {
   "cell_type": "markdown",
   "metadata": {},
   "source": [
    "### 最小冷房能力運転時"
   ]
  },
  {
   "cell_type": "markdown",
   "metadata": {},
   "source": [
    "$$ \\eta_{min,C} = \\eta_{rtd,C} \\times 0.65 $$\n",
    "\n",
    "$\\eta_{min,C}$：最小冷房能力運転時における圧縮機の圧縮効率   \n",
    "$\\eta_{rtd,C}$：定格冷房能力運転時における圧縮機の圧縮効率   "
   ]
  },
  {
   "cell_type": "markdown",
   "metadata": {},
   "source": []
  },
  {
   "cell_type": "code",
   "execution_count": null,
   "metadata": {},
   "outputs": [],
   "source": []
  },
  {
   "cell_type": "markdown",
   "metadata": {},
   "source": [
    "### 1) 暖房"
   ]
  },
  {
   "cell_type": "markdown",
   "metadata": {},
   "source": [
    "### 2) 冷房"
   ]
  },
  {
   "cell_type": "code",
   "execution_count": null,
   "metadata": {},
   "outputs": [],
   "source": []
  },
  {
   "cell_type": "code",
   "execution_count": null,
   "metadata": {},
   "outputs": [],
   "source": []
  },
  {
   "cell_type": "code",
   "execution_count": null,
   "metadata": {},
   "outputs": [],
   "source": []
  },
  {
   "cell_type": "code",
   "execution_count": null,
   "metadata": {},
   "outputs": [],
   "source": []
  },
  {
   "cell_type": "code",
   "execution_count": null,
   "metadata": {},
   "outputs": [],
   "source": []
  },
  {
   "cell_type": "code",
   "execution_count": null,
   "metadata": {},
   "outputs": [],
   "source": []
  },
  {
   "cell_type": "code",
   "execution_count": null,
   "metadata": {},
   "outputs": [],
   "source": []
  },
  {
   "cell_type": "code",
   "execution_count": null,
   "metadata": {},
   "outputs": [],
   "source": []
  },
  {
   "cell_type": "code",
   "execution_count": null,
   "metadata": {},
   "outputs": [],
   "source": []
  },
  {
   "cell_type": "markdown",
   "metadata": {},
   "source": [
    "$$ \\theta_{hs,out,H} = \\theta_{hs,in,H} + \\frac{ q_{hs,H} }{ c \\rho V_{hs,H} } \\times 3600 $$\n",
    "\n",
    "$\\theta_{hs,out,H}$：定格暖房能力運転時の吐き出し温度, ℃  \n",
    "$\\theta_{hs,in,H}$：定格暖房能力運転時の吸い込み温度, ℃  \n",
    "$q_{hs,H}$：定格暖房能力, W  \n",
    "$V_{hs,H}$：定格暖房能力運転時の風量, m<sup>3</sup>/h  \n",
    "$\\rho$：空気の密度, kg/m<sup>3</sup> (=1.2)    \n",
    "$c$：空気の比熱, J/kgK (=1006.0)"
   ]
  },
  {
   "cell_type": "markdown",
   "metadata": {},
   "source": [
    "$$ \\theta_{hs,out,C} = \\theta_{hs,in,C} - \\frac{ q_{hs,CS} }{ c \\rho V_{hs,C} } \\times 3600 $$\n",
    "\n",
    "$\\theta_{hs,out,C}$：冷房運転時の吐き出し温度, ℃  \n",
    "$\\theta_{hs,in,C}$：冷房運転時の吸い込み温度, ℃  \n",
    "$q_{hs,CS}$：冷房顕熱能力, W  \n",
    "$V_{hs,C}$：冷房運転時の風量, m<sup>3</sup>/h  \n",
    "$\\rho$：空気の密度, kg/m<sup>3</sup> (=1.2)    \n",
    "$c$：空気の比熱, J/kgK (=1006.0)"
   ]
  },
  {
   "cell_type": "code",
   "execution_count": null,
   "metadata": {},
   "outputs": [],
   "source": []
  },
  {
   "cell_type": "code",
   "execution_count": null,
   "metadata": {},
   "outputs": [],
   "source": []
  },
  {
   "cell_type": "markdown",
   "metadata": {},
   "source": [
    "日付 $d$ の時刻 $t$ における冷凍サイクルの理論暖房効率 $e_{th,H,d,t}$：\n",
    "\n",
    "$$ \\theta_{ex} = \\theta_{ex,d,t} $$\n",
    "\n",
    "$$ q_{cp} = Q_{hs,H,d,t} \\div \\left( 3600 \\times 10^{-6} \\right) $$\n",
    "\n",
    "$$ V_{fan} = V_{fan,d,t} $$\n",
    "\n",
    "$V_{fan}$：送風機の風量, m<sup>3</sup>/h  \n",
    "$Q_{hs,H,d,t}$：日付$d$の時刻$t$における1時間当たりの熱源機の暖房出力, MJ/h  \n",
    "$q_{cp}$：冷凍サイクルの能力, W  \n",
    "$\\theta_{ex}$：外気温度, ℃  \n",
    "$\\theta_{ex,d,t}$：日付 $d$ の時刻 $t$ における外気温度, ℃  "
   ]
  },
  {
   "cell_type": "markdown",
   "metadata": {},
   "source": []
  },
  {
   "cell_type": "markdown",
   "metadata": {},
   "source": []
  },
  {
   "cell_type": "markdown",
   "metadata": {},
   "source": [
    "## 圧縮効率"
   ]
  },
  {
   "cell_type": "markdown",
   "metadata": {},
   "source": [
    "JIS性能試験により得られる値を用いる場合\n",
    "\n",
    "$$ \\eta_{H,mid} = \\frac{e_{H,mid}}{e_{th,H,mid}} $$\n",
    "\n",
    "$$ e_{H,mid} = \\frac{q_{hs,H,mid}}{P_{hs,H,mid} - P_{fan,H,mid}} $$\n",
    "\n",
    "JIS性能試験により得られる値を用いない場合\n",
    "\n",
    "$$ \\eta_{H,mid} = \\eta_{H,rtd} \\times 0.95 $$\n",
    "\n",
    "$\\eta_{H,mid}$：中間暖房能力運転時における圧縮機の圧縮効率  \n",
    "$e_{H,mid}$：中間暖房能力運転時における暖房効率  \n",
    "$e_{th,H,mid}$：中間暖房能力運転時における冷凍サイクルの理論暖房効率  \n",
    "$q_{hs,H,mid}$：空調機の中間暖房能力, W   \n",
    "$P_{hs,H,mid}$：空調機の中間暖房消費電力, W   \n",
    "$P_{fan,H,mid}$：中間暖房能力運転時における送風機の消費電力, W   \n",
    "$\\eta_{H,rtd}$：定格暖房能力運転時における圧縮機の圧縮効率   "
   ]
  },
  {
   "cell_type": "markdown",
   "metadata": {},
   "source": [
    "JIS性能試験により得られる値を用いる場合\n",
    "\n",
    "$$ \\eta_{H,min} = \\frac{e_{H,min}}{e_{th,H,min}} $$\n",
    "\n",
    "$$ e_{H,min} = \\frac{q_{hs,H,min}}{P_{hs,H,min} - P_{fan,H,min}} $$\n",
    "\n",
    "JIS性能試験により得られる値を用いない場合\n",
    "\n",
    "$$ \\eta_{H,min} = \\eta_{H,rtd} \\times 0.65 $$\n",
    "\n",
    "$\\eta_{H,min}$：最小暖房能力運転時における圧縮機の圧縮効率(-)  \n",
    "$e_{H,min}$：最小暖房能力運転時における暖房効率(-)  \n",
    "$e_{th,H,min}$：最小暖房能力運転時における冷凍サイクルの理論暖房効率(-)  \n",
    "$q_{hs,H,min}$：空調機の最小暖房能力(W)   \n",
    "$P_{hs,H,min}$：空調機の最小暖房消費電力(W)   \n",
    "$P_{fan,H,min}$：最小暖房能力運転時における送風機の消費電力(W)   \n",
    "$\\eta_{H,rtd}$：定格暖房能力運転時における圧縮機の圧縮効率(-)   "
   ]
  },
  {
   "cell_type": "code",
   "execution_count": 21,
   "metadata": {},
   "outputs": [],
   "source": [
    "def eta_H_rtd(e_H_rtd, e_th_H_rtd):\n",
    "    '''定格能力運転時における圧縮機の圧縮効率を計算する'''\n",
    "    # e_H_rtd：定格能力運転時におけ暖房効率(-)\n",
    "    # e_th_H_rtd：定格能力運転時における冷凍サイクルの理論暖房効率(-)\n",
    "    \n",
    "    return e_H_rtd / e_th_H_rtd"
   ]
  },
  {
   "cell_type": "code",
   "execution_count": 22,
   "metadata": {},
   "outputs": [],
   "source": [
    "# 引数がおかしい\n",
    "def eta_H_mid(JIS_test_mid, eta_H_rtd, q_ac_H_mid, P_ac_H_mid, P_fan_H_mid, e_th_H_mid):\n",
    "    '''中間能力運転時における圧縮機の圧縮効率を計算する'''\n",
    "    # JIS_test_mid:JIS試験値を用いるか否か[True：JIS試験値を用いる、False：JIS試験値を用いない](Boolean型)\n",
    "    # e_H_mid：中間能力運転時におけ暖房効率(-)\n",
    "    # e_th_H_rtd：定格能力運転時における冷凍サイクルの理論暖房効率(-)\n",
    "    # q_ac_H_op：空調機の暖房能力(W)\n",
    "    # P_ac_H_op：暖房能力q_ac_H_opによる運転時における空調機の消費電力(W)\n",
    "    # P_fan_H_op：暖房能力q_ac_H_opによる運転時における送風機の消費電力(W)\n",
    "    # e_th_H_mid：中間能力運転時における冷凍サイクルの理論暖房効率(-)\n",
    "    \n",
    "    e_H_mid = q_ac_H_mid / (P_ac_H_mid - P_fan_H_mid)\n",
    "\n",
    "    if JIS_test_mid:\n",
    "        return e_H_mid / e_th_H_mid\n",
    "    else:\n",
    "        return eta_H_rtd * 0.95"
   ]
  },
  {
   "cell_type": "code",
   "execution_count": 23,
   "metadata": {},
   "outputs": [],
   "source": [
    "# 引数がおかしい\n",
    "def eta_H_min(Spec, e_H_min, e_th_H_min, eta_H_rtd, JIS_test_min):\n",
    "    '''最小能力運転時における圧縮機の圧縮効率を計算する'''\n",
    "    # e_H_min：最小能力運転時におけ暖房効率(-)\n",
    "    # e_th_H_min：最小能力運転時における冷凍サイクルの理論暖房効率(-)\n",
    "    # e_th_H_rtd：定格能力運転時における冷凍サイクルの理論暖房効率(-)\n",
    "    # JIS_test_min:JIS試験値を用いるか否か[True：JIS試験値を用いる、False：JIS試験値を用いない](Boolean型)\n",
    "\n",
    "    e_H_min = q_ac_H_min / (P_ac_H_min - P_fan_H_min)\n",
    "\n",
    "    if JIS_test_min:\n",
    "        return  e_H(q_ac_H_min, P_ac_H_min, P_fan_H_min) / e_th_H_min\n",
    "    else:\n",
    "        return eta_H_rtd * 0.65"
   ]
  },
  {
   "cell_type": "markdown",
   "metadata": {},
   "source": [
    "$$ \\eta_{H,rtd} = \\frac{e_{H,rtd}}{e_{th,H,rtd}} $$\n",
    "\n",
    "$$ e_{H,rtd} = \\frac{q_{hs,H,rtd}}{P_{hs,H,rtd} - P_{fan,H,rtd}} $$\n",
    "\n",
    "$\\eta_{H,rtd}$：定格暖房能力運転時における圧縮機の圧縮効率   \n",
    "$e_{H,rtd}$：定格暖房能力運転時における暖房効率  \n",
    "$e_{th,H,rtd}$：定格暖房能力運転時における冷凍サイクルの理論暖房効率  \n",
    "$q_{hs,H,rtd}$：空調機の定格暖房能力, W  \n",
    "$P_{hs,H,rtd}$：空調機の定格暖房消費電力, W   \n",
    "$P_{fan,H,rtd}$：定格暖房能力運転時における送風機の消費電力, W   "
   ]
  },
  {
   "cell_type": "markdown",
   "metadata": {},
   "source": [
    "JIS性能試験により得られる値を用いる場合\n",
    "\n",
    "$$ \\eta_{H,mid} = \\frac{e_{H,mid}}{e_{th,H,mid}} $$\n",
    "\n",
    "$$ e_{H,mid} = \\frac{q_{hs,H,mid}}{P_{hs,H,mid} - P_{fan,H,mid}} $$\n",
    "\n",
    "JIS性能試験により得られる値を用いない場合\n",
    "\n",
    "$$ \\eta_{H,mid} = \\eta_{H,rtd} \\times 0.95 $$\n",
    "\n",
    "$\\eta_{H,mid}$：中間暖房能力運転時における圧縮機の圧縮効率  \n",
    "$e_{H,mid}$：中間暖房能力運転時における暖房効率  \n",
    "$e_{th,H,mid}$：中間暖房能力運転時における冷凍サイクルの理論暖房効率  \n",
    "$q_{hs,H,mid}$：空調機の中間暖房能力, W   \n",
    "$P_{hs,H,mid}$：空調機の中間暖房消費電力, W   \n",
    "$P_{fan,H,mid}$：中間暖房能力運転時における送風機の消費電力, W   \n",
    "$\\eta_{H,rtd}$：定格暖房能力運転時における圧縮機の圧縮効率   "
   ]
  },
  {
   "cell_type": "markdown",
   "metadata": {},
   "source": [
    "JIS性能試験により得られる値を用いる場合\n",
    "\n",
    "$$ \\eta_{H,min} = \\frac{e_{H,min}}{e_{th,H,min}} $$\n",
    "\n",
    "$$ e_{H,min} = \\frac{q_{hs,H,min}}{P_{hs,H,min} - P_{fan,H,min}} $$\n",
    "\n",
    "JIS性能試験により得られる値を用いない場合\n",
    "\n",
    "$$ \\eta_{H,min} = \\eta_{H,rtd} \\times 0.65 $$\n",
    "\n",
    "$\\eta_{H,min}$：最小暖房能力運転時における圧縮機の圧縮効率(-)  \n",
    "$e_{H,min}$：最小暖房能力運転時における暖房効率(-)  \n",
    "$e_{th,H,min}$：最小暖房能力運転時における冷凍サイクルの理論暖房効率(-)  \n",
    "$q_{hs,H,min}$：空調機の最小暖房能力(W)   \n",
    "$P_{hs,H,min}$：空調機の最小暖房消費電力(W)   \n",
    "$P_{fan,H,min}$：最小暖房能力運転時における送風機の消費電力(W)   \n",
    "$\\eta_{H,rtd}$：定格暖房能力運転時における圧縮機の圧縮効率(-)   "
   ]
  },
  {
   "cell_type": "code",
   "execution_count": 24,
   "metadata": {},
   "outputs": [],
   "source": [
    "# 冷房版にする必要あり\n",
    "def eta_H_rtd(e_H_rtd, e_th_H_rtd):\n",
    "    '''定格能力運転時における圧縮機の圧縮効率を計算する'''\n",
    "    # e_H_rtd：定格能力運転時におけ暖房効率(-)\n",
    "    # e_th_H_rtd：定格能力運転時における冷凍サイクルの理論暖房効率(-)\n",
    "    \n",
    "    return e_H_rtd / e_th_H_rtd"
   ]
  },
  {
   "cell_type": "code",
   "execution_count": 25,
   "metadata": {},
   "outputs": [],
   "source": [
    "# 冷房版にする必要あり\n",
    "# 引数がおかしい\n",
    "def eta_H_mid(JIS_test_mid, eta_H_rtd, q_ac_H_mid, P_ac_H_mid, P_fan_H_mid, e_th_H_mid):\n",
    "    '''中間能力運転時における圧縮機の圧縮効率を計算する'''\n",
    "    # JIS_test_mid:JIS試験値を用いるか否か[True：JIS試験値を用いる、False：JIS試験値を用いない](Boolean型)\n",
    "    # e_H_mid：中間能力運転時におけ暖房効率(-)\n",
    "    # e_th_H_rtd：定格能力運転時における冷凍サイクルの理論暖房効率(-)\n",
    "    # q_ac_H_op：空調機の暖房能力(W)\n",
    "    # P_ac_H_op：暖房能力q_ac_H_opによる運転時における空調機の消費電力(W)\n",
    "    # P_fan_H_op：暖房能力q_ac_H_opによる運転時における送風機の消費電力(W)\n",
    "    # e_th_H_mid：中間能力運転時における冷凍サイクルの理論暖房効率(-)\n",
    "    \n",
    "    e_H_mid = q_ac_H_mid / (P_ac_H_mid - P_fan_H_mid)\n",
    "\n",
    "    if JIS_test_mid:\n",
    "        return e_H_mid / e_th_H_mid\n",
    "    else:\n",
    "        return eta_H_rtd * 0.95"
   ]
  },
  {
   "cell_type": "code",
   "execution_count": 26,
   "metadata": {},
   "outputs": [],
   "source": [
    "# 冷房版にする必要あり\n",
    "# 引数がおかしい\n",
    "def eta_H_min(Spec, e_H_min, e_th_H_min, eta_H_rtd, JIS_test_min):\n",
    "    '''最小能力運転時における圧縮機の圧縮効率を計算する'''\n",
    "    # e_H_min：最小能力運転時におけ暖房効率(-)\n",
    "    # e_th_H_min：最小能力運転時における冷凍サイクルの理論暖房効率(-)\n",
    "    # e_th_H_rtd：定格能力運転時における冷凍サイクルの理論暖房効率(-)\n",
    "    # JIS_test_min:JIS試験値を用いるか否か[True：JIS試験値を用いる、False：JIS試験値を用いない](Boolean型)\n",
    "\n",
    "    e_H_min = q_ac_H_min / (P_ac_H_min - P_fan_H_min)\n",
    "\n",
    "    if JIS_test_min:\n",
    "        return  e_H(q_ac_H_min, P_ac_H_min, P_fan_H_min) / e_th_H_min\n",
    "    else:\n",
    "        return eta_H_rtd * 0.65"
   ]
  },
  {
   "cell_type": "markdown",
   "metadata": {},
   "source": [
    "## 圧縮効率"
   ]
  },
  {
   "cell_type": "markdown",
   "metadata": {},
   "source": [
    "$Q_{hs,H,d,t} \\div \\left( 3600 \\times 10^{-6} \\right) \\leq q_{hs,min,H}$の場合\n",
    "\n",
    "$$ \\eta_{H,d,t} = \\eta_{min,H} - \\left\\{ q_{hs,min,H} - Q_{hs,H,d,t} \\div \\left( 3600 \\times 10^{-6} \\right) \\right\\} \\times \\frac{\\eta_{min,H}}{q_{hs,min,H}} $$\n",
    "\n",
    "$q_{hs,min,H} < Q_{hs,H,d,t} \\div \\left( 3600 \\times 10^{-6} \\right) \\leq q_{hs,mid,H} $の場合\n",
    "\n",
    "$$ \\eta_{H,d,t} = \\eta_{mid,H} - \\left\\{ q_{hs,mid,H} - Q_{hs,H,d,t} \\div \\left( 3600 \\times 10^{-6} \\right) \\right\\} \\times \\frac{\\eta_{mid,H} - \\eta_{min,H}}{q_{hs,mid,H} - q_{hs,min,H}} $$\n",
    "\n",
    "$q_{hs,mid,H} < Q_{hs,H,d,t} \\div \\left( 3600 \\times 10^{-6} \\right) \\leq q_{hs,rtd,H} $の場合\n",
    "\n",
    "$$ \\eta_{H,d,t} = \\eta_{rtd,H} - \\left\\{ q_{hs,rtd,H} - Q_{hs,H,d,t} \\div \\left( 3600 \\times 10^{-6} \\right) \\right\\} \\times \\frac{\\eta_{rtd,H} - \\eta_{mid,H}}{q_{hs,rtd,H} - q_{hs,mid,H}} $$\n",
    "\n",
    "$q_{hs,rtd,H} < Q_{hs,H,d,t} \\div \\left( 3600 \\times 10^{-6} \\right)$の場合\n",
    "\n",
    "$$ \\eta_{H,d,t} = max \\left( 0.4, \\: \\eta_{rtd,H} - \\left\\{ Q_{hs,H,d,t} \\div \\left( 3600 \\times 10^{-6} \\right) - q_{hs,rtd,H} \\right\\} \\times \\frac{\\eta_{rtd,H}}{q_{hs,rtd,H}} \\right) $$\n",
    "\n",
    "$Q_{hs,H,d,t}$：日付 $d$ の時刻 $t$ における1時間当たりの熱源機の暖房出力, MJ/h  \n",
    "$\\eta_{H,d,t}$：日付 $d$ の時刻 $t$ における暖房時の圧縮機の圧縮機の圧縮効率  \n",
    "$\\eta_{mid,H}$：中間暖房能力運転時における圧縮機の圧縮効率  \n",
    "$\\eta_{min,H}$：最小暖房能力運転時における圧縮機の圧縮効率  \n",
    "$\\eta_{rtd,H}$：定格暖房能力運転時における圧縮機の圧縮効率   \n",
    "$q_{hs,mid,H}$：空調機の中間暖房能力, W   \n",
    "$q_{hs,min,H}$：空調機の最小暖房能力, W   \n",
    "$q_{hs,rtd,H}$：空調機の定格暖房能力, W "
   ]
  },
  {
   "cell_type": "code",
   "execution_count": 27,
   "metadata": {},
   "outputs": [],
   "source": [
    "def eta_H(q_hs_h, eta_H_min, eta_H_mid, eta_H_rtd, q_ac_H_min, q_ac_H_mid, q_ac_H_rtd):\n",
    "    \"\"\"\n",
    "    Args:\n",
    "        q_hs_h: \n",
    "    \"\"\"\n",
    "    # Q_dash_T_H：補正処理暖房負荷(MJ/h) \n",
    "    # eta_H_min：最小暖房能力運転時における圧縮機の圧縮効率(-)\n",
    "    # eta_H_mid：中間暖房能力運転時における圧縮機の圧縮効率(-)\n",
    "    # eta_H_rtd：定格暖房能力運転時における圧縮機の圧縮効率(-)\n",
    "    # q_ac_H_min：空調機の最小暖房能力(W)\n",
    "    # q_ac_H_mid：空調機の中間暖房能力(W)\n",
    "    # q_ac_H_rtd：空調機の定格暖房能力(W)\n",
    "    \n",
    "    # 単位換算：MJ/h -> W\n",
    "    q = q_hs_h / (3600 * 10**(-6))\n",
    "    \n",
    "    if q <= q_ac_H_min:\n",
    "        return eta_H_min - (q_ac_H_min - q) * eta_H_min / q_ac_H_min\n",
    "    elif q_ac_H_min < q and q <= q_ac_H_mid:\n",
    "        return eta_H_mid - (q_ac_H_mid - q) * (eta_H_mid - eta_H_min) / (q_ac_H_mid - q_ac_H_min)\n",
    "    elif q_ac_H_mid < q and q <= q_ac_H_rtd:\n",
    "        return eta_H_rtd - (q_ac_H_rtd - q) * (eta_H_rtd - eta_H_mid) / (q_ac_H_rtd - q_ac_H_mid)\n",
    "    elif q_ac_H_rtd < q:\n",
    "        return max(0.4, eta_H_rtd - (q - q_ac_H_rtd) * eta_H_rtd / q_ac_H_rtd)\n",
    "    else:\n",
    "        raise Exeption"
   ]
  },
  {
   "cell_type": "code",
   "execution_count": 28,
   "metadata": {
    "scrolled": true
   },
   "outputs": [
    {
     "data": {
      "image/png": "[encoded data removed]",
      "text/plain": [
       "<Figure size 640x320 with 1 Axes>"
      ]
     },
     "metadata": {},
     "output_type": "display_data"
    }
   ],
   "source": [
    "# 算出イメージ\n",
    "plt.figure(figsize = (8, 4), dpi=80 )\n",
    "plt.subplot2grid((1, 1), (0, 0))\n",
    "plt.title('算出イメージ', fontdict={'fontproperties':fp})\n",
    "\n",
    "q_rtd = 1\n",
    "eta_rtd = 0.8\n",
    "x_values =np.arange(0, 2.2, 0.05)\n",
    "y_values =[eta_H(Q_dash_T_H*(3600 * 10**(-6)), eta_rtd*0.65, eta_rtd*0.95, eta_rtd, q_rtd*0.35, q_rtd*0.5, q_rtd) for Q_dash_T_H in x_values]\n",
    "plt.plot(x_values, y_values)\n",
    "\n",
    "        \n",
    "ax=plt.gca()\n",
    "ax.set_xlabel('空調機の補正処理暖房負荷(W)', fontdict={'fontproperties':fp})\n",
    "ax.set_xticks([0, q_rtd*0.35, q_rtd*0.5, q_rtd, q_rtd*1.5, q_rtd*2.0], minor=False)\n",
    "ax.set_xticklabels(['0', 'q_min', 'q_mid', 'q_rtd', '1.5×q_rtd', '2.0×q_rtd'], minor=False)\n",
    "ax.set_xbound(lower=0, upper=2)\n",
    "\n",
    "ax.set_ylabel('圧縮機の圧縮効率(-)', fontdict={'fontproperties':fp})\n",
    "ax.set_yticks([0, eta_rtd*0.65, eta_rtd*0.95, eta_rtd, 0.4], minor=False)\n",
    "ax.set_yticklabels(['0', 'eta_min', 'eta_mid', 'eta_rtd', '0.4'])\n",
    "ax.set_ybound(lower=0, upper=1)\n",
    "\n",
    "ax.grid(which='major', color='lightgray', alpha=0.7, linestyle='-')     \n",
    "\n",
    "plt.show()"
   ]
  },
  {
   "cell_type": "markdown",
   "metadata": {},
   "source": [
    "$Q_{hs,C,d,t} \\div \\left( 3600 \\times 10^{-6} \\right) \\leq q_{hs,C,min}$の場合\n",
    "\n",
    "$$ \\eta_{C,d,t} = \\eta_{C,min} - \\left\\{ q_{hs,C,min} - Q_{hs,C,d,t} \\div \\left( 3600 \\times 10^{-6} \\right) \\right\\} \\times \\frac{\\eta_{C,min}}{q_{hs,C,min}} $$\n",
    "\n",
    "$q_{hs,C,min} < Q_{hs,C,d,t} \\div \\left( 3600 \\times 10^{-6} \\right) \\leq q_{hs,C,mid} $の場合\n",
    "\n",
    "$$ \\eta_{C,d,t} = \\eta_{C,mid} - \\left\\{ q_{hs,C,mid} - Q_{hs,C,d,t} \\div \\left( 3600 \\times 10^{-6} \\right) \\right\\} \\times \\frac{\\eta_{C,mid} - \\eta_{C,min}}{q_{hs,C,mid} - q_{hs,C,min}} $$\n",
    "\n",
    "$q_{hs,C,mid} < Q_{hs,C,d,t} \\div \\left( 3600 \\times 10^{-6} \\right) \\leq q_{hs,C,rtd} $の場合\n",
    "\n",
    "$$ \\eta_{C,d,t} = \\eta_{C,rtd} - \\left\\{ q_{hs,C,rtd} - Q_{hs,C,d,t} \\div \\left( 3600 \\times 10^{-6} \\right) \\right\\} \\times \\frac{\\eta_{C,rtd} - \\eta_{C,mid}}{q_{hs,C,rtd} - q_{hs,C,mid}} $$\n",
    "\n",
    "$q_{hs,C,rtd} < Q_{hs,C,d,t} \\div \\left( 3600 \\times 10^{-6} \\right)$の場合\n",
    "\n",
    "$$ \\eta_{C,d,t} = max \\left( 0.4, \\: \\eta_{C,rtd} - \\left\\{ Q_{hs,C,d,t} \\div \\left( 3600 \\times 10^{-6} \\right) - q_{hs,C,rtd} \\right\\} \\times \\frac{\\eta_{C,rtd}}{q_{hs,C,rtd}} \\right) $$\n",
    "\n",
    "$Q_{hs,C,d,t}$：日付 $d$ の時刻 $t$ における1時間当たりの熱源機の冷房出力, MJ/h  \n",
    "$\\eta_{C,d,t}$：日付 $d$ の時刻 $t$ における冷房時の圧縮機の圧縮機の圧縮効率  \n",
    "$\\eta_{C,mid}$：中間冷房能力運転時における圧縮機の圧縮効率  \n",
    "$\\eta_{C,min}$：最小冷房能力運転時における圧縮機の圧縮効率  \n",
    "$\\eta_{C,rtd}$：定格冷房能力運転時における圧縮機の圧縮効率   \n",
    "$q_{hs,C,mid}$：空調機の中間冷房能力, W   \n",
    "$q_{hs,C,min}$：空調機の最小冷房能力, W   \n",
    "$q_{hs,C,rtd}$：空調機の定格冷房能力, W "
   ]
  },
  {
   "cell_type": "code",
   "execution_count": 29,
   "metadata": {},
   "outputs": [],
   "source": [
    "# これを冷房版に書き換える必要あり。関数は共通化しても良いかもしれない。\n",
    "def eta_H(Q_dash_T_H, eta_H_min, eta_H_mid, eta_H_rtd, q_ac_H_min, q_ac_H_mid, q_ac_H_rtd):\n",
    "    '''最小・中間・定格運転時における圧縮機の圧縮効率から当該時刻の値を外挿する'''\n",
    "    # Q_dash_T_H：補正処理暖房負荷(MJ/h) \n",
    "    # eta_H_min：最小暖房能力運転時における圧縮機の圧縮効率(-)\n",
    "    # eta_H_mid：中間暖房能力運転時における圧縮機の圧縮効率(-)\n",
    "    # eta_H_rtd：定格暖房能力運転時における圧縮機の圧縮効率(-)\n",
    "    # q_ac_H_min：空調機の最小暖房能力(W)\n",
    "    # q_ac_H_mid：空調機の中間暖房能力(W)\n",
    "    # q_ac_H_rtd：空調機の定格暖房能力(W)\n",
    "    \n",
    "    # 単位換算：MJ/h => W\n",
    "    Q_dash_T_H_Wat = Q_dash_T_H / (3600 * 10**(-6))\n",
    "    \n",
    "    if Q_dash_T_H_Wat <= q_ac_H_min:\n",
    "        return eta_H_min - (q_ac_H_min - Q_dash_T_H_Wat) * eta_H_min / q_ac_H_min\n",
    "    elif q_ac_H_min < Q_dash_T_H_Wat and Q_dash_T_H_Wat <= q_ac_H_mid:\n",
    "        return eta_H_mid - (q_ac_H_mid - Q_dash_T_H_Wat) * (eta_H_mid - eta_H_min) / (q_ac_H_mid - q_ac_H_min)\n",
    "    elif q_ac_H_mid < Q_dash_T_H_Wat and Q_dash_T_H_Wat <= q_ac_H_rtd:\n",
    "        return eta_H_rtd - (q_ac_H_rtd - Q_dash_T_H_Wat) * (eta_H_rtd - eta_H_mid) / (q_ac_H_rtd - q_ac_H_mid)\n",
    "    elif q_ac_H_rtd < Q_dash_T_H_Wat:\n",
    "        return max(0.4, eta_H_rtd - (Q_dash_T_H_Wat - q_ac_H_rtd) * eta_H_rtd / q_ac_H_rtd)\n",
    "    \n",
    "    else:\n",
    "        raise Exeption"
   ]
  },
  {
   "cell_type": "markdown",
   "metadata": {},
   "source": [
    "## 圧縮機の消費電力"
   ]
  },
  {
   "cell_type": "markdown",
   "metadata": {},
   "source": [
    "### 暖房"
   ]
  },
  {
   "cell_type": "markdown",
   "metadata": {},
   "source": [
    "$$ E_{E,comp,H,d,t} = \\frac{{Q_{hs,H,d,t} \\div \\left(3600 \\times 10^{-3} \\right)}} {\\eta_{H,d,t} \\times e_{th,H,d,t} \\times C_{df,d,t}} $$\n",
    "\n",
    "$E_{E,comp,H,d,t}$：日付 $d$ の時刻 $t$ における暖房時の1時間当たりの圧縮機の消費電力量, kWh/h  \n",
    "$Q_{hs,H,d,t}$：日付 $d$ の時刻 $t$ における1時間当たりの熱源機の暖房出力, MJ/h  \n",
    "$C_{df,d,t}$：日付 $d$ の時刻 $t$ におけるデフロストに関する暖房出力補正係数  \n",
    "$e_{th,H,d,t}$：日付 $d$ の時刻 $t$ における冷凍サイクルの理論暖房効率  \n",
    "$\\eta_{H,d,t}$：日付 $d$ の時刻 $t$ における暖房時の圧縮機の圧縮効率  "
   ]
  },
  {
   "cell_type": "code",
   "execution_count": 30,
   "metadata": {},
   "outputs": [],
   "source": [
    "def get_e_e_comp_h(q_hs_h: np.ndarray, e_th_h: np.ndarray, eta_h: np.ndarray, c_df: np.ndarray) -> np.ndarray:\n",
    "    \"\"\"\n",
    "    calculate the energy consumption of the compressor\n",
    "    Args:\n",
    "        q_hs_h: heating output of heat source, MJ/h (8760 times)  \n",
    "        e_th_h: theoretical heating efficiency of refrigeration cycle (8760 times)\n",
    "        eta_h: compression efficiency for heating (8760 times) \n",
    "        c_df: correction coefficiency for heating output when defrosting (8760 times)\n",
    "    \"\"\"\n",
    "    \n",
    "    return ( q_hs_h / (3600 * 10**(-3)) ) / (e_th_h * eta_h * c_df)"
   ]
  },
  {
   "cell_type": "markdown",
   "metadata": {},
   "source": [
    "### 冷房"
   ]
  },
  {
   "cell_type": "markdown",
   "metadata": {},
   "source": [
    "$$ E_{E,comp,C,d,t} = \\frac{{Q_{hs,C,d,t} \\div \\left(3600 \\times 10^{-3} \\right)}} {\\eta_{C,d,t} \\times e_{th,C,d,t} } $$\n",
    "\n",
    "$E_{E,comp,C,d,t}$：日付 $d$ の時刻 $t$ における暖房時の1時間当たりの圧縮機の消費電力量, kWh/h  \n",
    "$Q_{hs,C,d,t}$：日付 $d$ の時刻 $t$ における1時間当たりの熱源機の冷房全熱出力, MJ/h  \n",
    "$e_{th,C,d,t}$：日付 $d$ の時刻 $t$ における冷凍サイクルの理論暖房効率  \n",
    "$\\eta_{C,d,t}$：日付 $d$ の時刻 $t$ における冷房時の圧縮機の圧縮効率  "
   ]
  },
  {
   "cell_type": "code",
   "execution_count": 31,
   "metadata": {},
   "outputs": [],
   "source": [
    "def get_e_e_comp_c(q_hs_c: np.ndarray, e_th_c: np.ndarray, eta_c: np.ndarray) -> np.ndarray:\n",
    "    \"\"\"\n",
    "    calculate the energy consumption of the compressor\n",
    "    Args:\n",
    "        q_hs_c: cooling output of heat source, MJ/h (8760 times)  \n",
    "        e_th_c: theoretical cooling efficiency of refrigeration cycle (8760 times)\n",
    "        eta_c: compression efficiency for cooling (8760 times) \n",
    "    \"\"\"\n",
    "    \n",
    "    return ( q_hs_c / (3600 * 10**(-3)) ) / (e_th_c * eta_c)"
   ]
  },
  {
   "cell_type": "markdown",
   "metadata": {},
   "source": [
    "## エネルギー消費量"
   ]
  },
  {
   "cell_type": "markdown",
   "metadata": {},
   "source": [
    "$$ E_{E,H,d,t} = E_{E,comp,H,d,t} + E_{E,fan,H,d,t} $$\n",
    "\n",
    "$E_{E,H,d,t}$：日付 $d$ の時刻 $t$ における1時間当たりの暖房の消費電力量, kWh/h  \n",
    "$E_{E,fan,H,d,t}$：日付 $d$ の時刻 $t$ における1時間当たりの送風機の消費電力量のうちの暖房設備への付加分, kWh/h  \n",
    "$E_{E,comp,H,d,t}$：日付 $d$ の時刻 $t$ における暖房時の1時間当たりの圧縮機の消費電力量, kWh/h  "
   ]
  },
  {
   "cell_type": "code",
   "execution_count": 32,
   "metadata": {},
   "outputs": [],
   "source": [
    "def get_e_e_h(e_e_comp_h: np.ndarray, e_e_fan_h: np.ndarray) -> np.ndarray:\n",
    "    \"\"\"\n",
    "    Args:\n",
    "        e_e_comp_h: energy consumption of compressor for heating, kWh/h (8760 times)\n",
    "        e_e_fan_h: energy consumption of fan for heating, kWh/h (8760 times)\n",
    "    Returns:\n",
    "        energy consumption for heating, kWh/h (8760 times)\n",
    "    \"\"\"\n",
    "    \n",
    "    return e_e_comp_h + e_e_fan_h"
   ]
  },
  {
   "cell_type": "markdown",
   "metadata": {},
   "source": [
    "$$ E_{E,C,d,t} = E_{E,comp,C,d,t} + E_{E,fan,C,d,t}  $$\n",
    "\n",
    "$E_{E,C,d,t}$：日付 $d$ の時刻 $t$ における1時間当たりの冷房の消費電力量, kWh/h  \n",
    "$E_{E,fan,C,d,t}$：日付 $d$ の時刻 $t$ における1時間当たりの送風機の消費電力量のうちの冷房設備への付加分, kWh/h  \n",
    "$E_{E,comp,C,d,t}$：日付 $d$ の時刻 $t$ における冷房時の1時間当たりの圧縮機の消費電力量, kWh/h"
   ]
  },
  {
   "cell_type": "code",
   "execution_count": 33,
   "metadata": {},
   "outputs": [],
   "source": [
    "def get_e_e_c(e_e_comp_c: np.ndarray, e_e_fan_c: np.ndarray) -> np.ndarray:\n",
    "    \"\"\"\n",
    "    Args:\n",
    "        e_e_comp_c: Energy consumption of compressor, kWh/h (8760 times)\n",
    "        e_e_fan_c: Energy consumption of fan, kWh/h (8760 times)\n",
    "    Returns:\n",
    "        energy consumption for cooling, kWh/h (8760 times)\n",
    "    \"\"\"\n",
    "    \n",
    "    return e_e_comp_c + e_e_fan_c"
   ]
  },
  {
   "cell_type": "code",
   "execution_count": null,
   "metadata": {},
   "outputs": [],
   "source": []
  }
 ],
 "metadata": {
  "kernelspec": {
   "display_name": "Python 3",
   "language": "python",
   "name": "python3"
  },
  "language_info": {
   "codemirror_mode": {
    "name": "ipython",
    "version": 3
   },
   "file_extension": ".py",
   "mimetype": "text/x-python",
   "name": "python",
   "nbconvert_exporter": "python",
   "pygments_lexer": "ipython3",
   "version": "3.6.4"
  }
 },
 "nbformat": 4,
 "nbformat_minor": 2
}
