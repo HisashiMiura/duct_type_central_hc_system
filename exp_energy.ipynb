{
 "cells": [
  {
   "cell_type": "code",
   "execution_count": 1,
   "metadata": {},
   "outputs": [
    {
     "name": "stdout",
     "output_type": "stream",
     "text": [
      "Importing Jupyter notebook from exp_study_case.ipynb\n",
      "Importing Jupyter notebook from exp_external_conditions.ipynb\n",
      "Importing Jupyter notebook from exp_system_spec.ipynb\n",
      "Importing Jupyter notebook from exp_house_spec.ipynb\n",
      "Importing Jupyter notebook from exp_general_property.ipynb\n",
      "Importing Jupyter notebook from exp_occupant_usage.ipynb\n",
      "Importing Jupyter notebook from exp_circulating_air_flow.ipynb\n",
      "Importing Jupyter notebook from exp_load.ipynb\n",
      "Importing Jupyter notebook from exp_treated_and_untreated_heat.ipynb\n"
     ]
    }
   ],
   "source": [
    "import numpy as np\n",
    "import matplotlib.pyplot as plt\n",
    "import nbimporter\n",
    "\n",
    "import central_system as cs\n",
    "import analyze_control as ac\n",
    "import read_load as rl\n",
    "\n",
    "import exp_study_case\n",
    "import exp_external_conditions\n",
    "import exp_system_spec\n",
    "import exp_house_spec\n",
    "import exp_general_property\n",
    "import exp_occupant_usage\n",
    "import exp_circulating_air_flow\n",
    "import exp_load\n",
    "import exp_treated_and_untreated_heat\n",
    "\n",
    "# 日本語フォント\n",
    "import pylab\n",
    "from matplotlib.font_manager import FontProperties\n",
    "fp = FontProperties(fname='C:\\WINDOWS\\Fonts\\msgothic.ttc', size = 12)"
   ]
  },
  {
   "cell_type": "markdown",
   "metadata": {},
   "source": [
    "# 0. 検討ケース"
   ]
  },
  {
   "cell_type": "markdown",
   "metadata": {},
   "source": [
    "試算するケースを取得します。"
   ]
  },
  {
   "cell_type": "code",
   "execution_count": 2,
   "metadata": {},
   "outputs": [],
   "source": [
    "case = exp_study_case.get_case()"
   ]
  },
  {
   "cell_type": "markdown",
   "metadata": {},
   "source": [
    "1日グラフを描画する日を取得します。"
   ]
  },
  {
   "cell_type": "code",
   "execution_count": 3,
   "metadata": {},
   "outputs": [],
   "source": [
    "hday, cday = exp_study_case.get_display_day()"
   ]
  },
  {
   "cell_type": "markdown",
   "metadata": {},
   "source": [
    "## 1. 外部モジュールの読み込み"
   ]
  },
  {
   "cell_type": "markdown",
   "metadata": {},
   "source": [
    "### 熱源機の仕様"
   ]
  },
  {
   "cell_type": "markdown",
   "metadata": {},
   "source": [
    "外部モジュール exp_system_spec を参照のこと。\n",
    "\n",
    "$q_{rtd,H}$：定格暖房能力, W  \n",
    "$q_{rtd,C}$：定格冷房能力, W  \n",
    "$V_{hs,rtd,H}$：熱源機の暖房時の定格風量, m<sup>3</sup>/h  \n",
    "$V_{hs,rtd,C}$：熱源機の冷房時の定格風量, m<sup>3</sup>/h  "
   ]
  },
  {
   "cell_type": "code",
   "execution_count": 4,
   "metadata": {},
   "outputs": [
    {
     "data": {
      "text/plain": [
       "(7733.9925600000015, 7664.646360000001, 1800.0, 1800.0, True, False)"
      ]
     },
     "execution_count": 4,
     "metadata": {},
     "output_type": "execute_result"
    }
   ],
   "source": [
    "q_rtd_h, q_rtd_c, v_hs_rtd_h, v_hs_rtd_c, is_duct_insulated, vav_system = \\\n",
    "    exp_system_spec.get_system_spec(case['region'], case['house']['a_a'], case['system'])\n",
    "\n",
    "q_rtd_h, q_rtd_c, v_hs_rtd_h, v_hs_rtd_c, is_duct_insulated, vav_system"
   ]
  },
  {
   "cell_type": "markdown",
   "metadata": {},
   "source": [
    "### 住宅の仕様"
   ]
  },
  {
   "cell_type": "markdown",
   "metadata": {},
   "source": [
    "外部モジュール exp_house_spec を参照のこと。  \n",
    "\n",
    "$r_{env}$：床面積の合計に対する外皮の部位の面積の合計の比  \n",
    "$A_A$：床面積の合計, m<sup>2</sup>  \n",
    "$A_{MR}$：主たる居室の床面積, m<sup>2</sup>  \n",
    "$A_{OR}$：その他の居室の床面積, m<sup>2</sup>  \n",
    "$A_{NR}$：非居室の床面積, m<sup>2</sup>  \n",
    "$A_{HCZ,R,i}$：標準住戸における暖冷房区画 $i$ の床面積, m<sup>2</sup>  \n",
    "$A_{HCZ,i}$：暖冷房区画 $i$ の床面積, m<sup>2</sup>  \n",
    "$A_{prt,i}$：暖冷房区画 $i$ から見た非暖冷房空間の間仕切りの面積, m<sup>2</sup>  \n",
    "$U_{prt}$：間仕切りの熱貫流率, W/m<sup>2</sup>K  \n",
    "$Q$：熱損失係数, W/m<sup>2</sup>K  \n",
    "$\\mu_H$：暖房期の日射取得係数, ((W/m<sup>2</sup>)/(W/m<sup>2</sup>))  \n",
    "$\\mu_C$：冷房期の日射取得係数, ((W/m<sup>2</sup>)/(W/m<sup>2</sup>))  \n",
    "$V_{vent,i}$：暖冷房区画 $i$ の機械換気量, m<sup>3</sup>/h  "
   ]
  },
  {
   "cell_type": "code",
   "execution_count": 5,
   "metadata": {},
   "outputs": [
    {
     "data": {
      "text/plain": [
       "(2.9555555555555557,\n",
       " 120.08,\n",
       " 29.81,\n",
       " 51.34,\n",
       " 38.92999999999999,\n",
       " array([29.81, 16.56, 13.25, 10.76, 10.77,  3.31,  1.66,  3.31, 13.25,\n",
       "         4.97, 10.77,  1.66]),\n",
       " array([37.99636619, 27.7187943 , 22.17838312, 18.01052093, 18.02725933]),\n",
       " 2.1739130434782608,\n",
       " 2.7,\n",
       " 0.101,\n",
       " 0.062,\n",
       " array([60., 20., 40., 20., 20.]))"
      ]
     },
     "execution_count": 5,
     "metadata": {},
     "output_type": "execute_result"
    }
   ],
   "source": [
    "r_env, a_a, a_mr, a_or, a_nr, a_hcz, a_prt, u_prt, q, mu_h, mu_c, v_vent = \\\n",
    "    exp_house_spec.get_house_spec(case['region'], case['house'])\n",
    "r_env, a_a, a_mr, a_or, a_nr, a_hcz, a_prt, u_prt, q, mu_h, mu_c, v_vent"
   ]
  },
  {
   "cell_type": "markdown",
   "metadata": {},
   "source": [
    "### 物性値"
   ]
  },
  {
   "cell_type": "markdown",
   "metadata": {},
   "source": [
    "外部モジュール exp_general_property を参照のこと。\n",
    "\n",
    "$\\rho$：空気の密度, kg/m<sup>3</sup>  \n",
    "$c$：空気の比熱, J/kgK  \n",
    "$L_{wtr}$：水の蒸発潜熱, kJ/kg  \n",
    "「平日」「休日」の別"
   ]
  },
  {
   "cell_type": "code",
   "execution_count": 6,
   "metadata": {},
   "outputs": [
    {
     "data": {
      "text/plain": [
       "(1.2,\n",
       " 1006.0,\n",
       " 2434.5296000000003,\n",
       " array(['休日', '休日', '休日', ..., '休日', '休日', '休日'], dtype=object))"
      ]
     },
     "execution_count": 6,
     "metadata": {},
     "output_type": "execute_result"
    }
   ],
   "source": [
    "rho, c, l_wtr, calender = exp_general_property.get_general_property()\n",
    "rho, c, l_wtr, calender"
   ]
  },
  {
   "cell_type": "markdown",
   "metadata": {},
   "source": [
    "### 気候条件"
   ]
  },
  {
   "cell_type": "markdown",
   "metadata": {},
   "source": [
    "外部モジュール exp_external_conditions を参照のこと。\n",
    "\n",
    "$\\theta_{ex,d,t}$：日付$d$の時刻$t$における外気温度, ℃  \n",
    "$x_{ex,d,t}$：日付$d$の時刻$t$における絶対湿度, kg/kg(DA)  \n",
    "$h_{ex_d,t}$：日付$d$の時刻$t$における相対湿度, %  \n",
    "$J_{d,t}$：日付$d$の時刻$t$における水平面全天日射量, W/m<sup>2</sup>  \n",
    "$\\theta_{SAT,d,t}$：日付$d$の時刻$t$における水平面における等価外気温度, ℃  "
   ]
  },
  {
   "cell_type": "code",
   "execution_count": 7,
   "metadata": {},
   "outputs": [
    {
     "data": {
      "text/plain": [
       "(array([2.6, 2.9, 2.8, ..., 3.1, 2.7, 2.3]),\n",
       " array([0.0033, 0.0032, 0.0032, ..., 0.0032, 0.0032, 0.0032]),\n",
       " array([72.52135498, 68.85197153, 69.34240102, ..., 67.88267058,\n",
       "        69.83672797, 71.8536949 ]),\n",
       " array([0., 0., 0., ..., 0., 0., 0.]),\n",
       " array([2.6, 2.9, 2.8, ..., 3.1, 2.7, 2.3]))"
      ]
     },
     "execution_count": 7,
     "metadata": {},
     "output_type": "execute_result"
    }
   ],
   "source": [
    "theta_ex, x_ex, h_ex, j, theta_sat = exp_external_conditions.get_external_conditions(case['region'])\n",
    "theta_ex, x_ex, h_ex, j, theta_sat"
   ]
  },
  {
   "cell_type": "markdown",
   "metadata": {},
   "source": [
    "### 居住者の使い方"
   ]
  },
  {
   "cell_type": "markdown",
   "metadata": {},
   "source": [
    "外部モジュール exp_occupant_usage を参照のこと。\n",
    "\n",
    "暖冷房期間  \n",
    "$n_{p,d,t}$：日付$d$の時刻$t$における在室人数  \n",
    "$q_{gen,d,t}$：日付$d$の時刻$t$における内部発熱, W  \n",
    "$w_{gen,d,t}$：日付$d$の時刻$t$における内部発湿, g/h  \n",
    "$V_{local,d,t}$：日付$d$時刻$t$における局所換気量, m<sup>3</sup>/h  \n",
    "$V_{local,MR,d,t}$：日付$d$時刻$t$における主たる居室の局所換気量, m<sup>3</sup>/h  \n",
    "$V_{local,OR,d,t}$：日付$d$時刻$t$におけるその他の居室の局所換気量, m<sup>3</sup>/h  \n",
    "$V_{local,NR,d,t}$：日付$d$時刻$t$における非居室の局所換気量, m<sup>3</sup>/h  \n",
    "$\\theta_{set,h}$：暖房時の設定温度, ℃  \n",
    "$\\theta_{set,c}$：冷房時の設定温度, ℃  \n",
    "$X_{set,c}$：冷房時の設定絶対湿度, kg/kgDA  "
   ]
  },
  {
   "cell_type": "code",
   "execution_count": 8,
   "metadata": {},
   "outputs": [
    {
     "data": {
      "text/plain": [
       "(array(['h', 'h', 'h', ..., 'h', 'h', 'h'], dtype='<U1'),\n",
       " array([4., 4., 4., ..., 4., 3., 3.]),\n",
       " array([126.4, 126.4, 126.4, ..., 763. , 815. , 242.7]),\n",
       " array([0., 0., 0., ..., 0., 0., 0.]),\n",
       " array([  0. ,   0. ,   0. , ...,  25. ,  27. , 100.8]),\n",
       " array([0., 0., 0., ..., 0., 0., 0.]),\n",
       " array([0., 0., 0., ..., 0., 0., 0.]),\n",
       " array([  0. ,   0. ,   0. , ...,  25. ,  27. , 100.8]),\n",
       " 20.0,\n",
       " 27.0,\n",
       " 0.013425743)"
      ]
     },
     "execution_count": 8,
     "metadata": {},
     "output_type": "execute_result"
    }
   ],
   "source": [
    "hc_period, n_p, q_gen, w_gen, v_local, v_local_mr, v_local_or, v_local_nr, theta_set_h, theta_set_c, x_set_c \\\n",
    "    = exp_occupant_usage.get_occupant_usage(case['region'], a_mr, a_or, a_nr, calender)\n",
    "hc_period, n_p, q_gen, w_gen, v_local, v_local_mr, v_local_or, v_local_nr, theta_set_h, theta_set_c, x_set_c"
   ]
  },
  {
   "cell_type": "markdown",
   "metadata": {},
   "source": [
    "### 循環風量"
   ]
  },
  {
   "cell_type": "markdown",
   "metadata": {},
   "source": [
    "外部モジュール exp_circulating_air_flow を参照のこと。\n",
    "\n",
    "$V'_{supply,d,t,i}$：日付 $d$ の時刻 $t$ における暖冷房区画 $i$ へのVAV調整前の吹き出し風量, m<sup>3</sup>/h  "
   ]
  },
  {
   "cell_type": "code",
   "execution_count": 9,
   "metadata": {},
   "outputs": [
    {
     "data": {
      "text/plain": [
       "array([[468.11565231, 460.46390045, 463.0144844 , ..., 416.81045706,\n",
       "        430.28097496, 519.46598863],\n",
       "       [260.04680316, 255.79611511, 257.21301113, ..., 231.54582922,\n",
       "        239.02894818, 288.5728538 ],\n",
       "       [208.06884915, 204.66778534, 205.80147328, ..., 185.26462785,\n",
       "        191.25202678, 230.89313483],\n",
       "       [168.96760882, 166.20568832, 167.12632849, ..., 150.44886005,\n",
       "        155.31107986, 187.50265138],\n",
       "       [169.12464191, 166.36015458, 167.28165035, ..., 150.58868241,\n",
       "        155.45542101, 187.67691035]])"
      ]
     },
     "execution_count": 9,
     "metadata": {},
     "output_type": "execute_result"
    }
   ],
   "source": [
    "v_d_supply = exp_circulating_air_flow.get_circulating_air_flow(\n",
    "    a_a, a_hcz, q, mu_h, mu_c, v_vent, theta_ex, x_ex, j, hc_period, n_p, q_gen, w_gen, v_local,\n",
    "    theta_set_h, theta_set_c, x_set_c,\n",
    "    q_rtd_h, q_rtd_c, v_hs_rtd_h, v_hs_rtd_c)\n",
    "v_d_supply"
   ]
  },
  {
   "cell_type": "markdown",
   "metadata": {},
   "source": [
    "### 暖冷房負荷"
   ]
  },
  {
   "cell_type": "markdown",
   "metadata": {},
   "source": [
    "外部モジュール exp_load を参照のこと。\n",
    "\n",
    "$\\theta_{ac,d,t}$：日付 $d$ の時刻 $t$ における暖冷房室の温度, ℃  \n",
    "$X_{ac,d,t}$：日付 $d$ の時刻 $t$ における暖冷房室の絶対湿度, kg/kgDA  \n",
    "$\\theta'_{nac,d,t}$：日付 $d$ の時刻 $t$ における負荷バランス時（※）の非暖冷房空間の温度, ℃  \n",
    "$X'_{nac,d,t}$：日付 $d$ の時刻 $t$ における負荷バランス時（※）の非暖冷房空間の絶対湿度, kg/kgDA  \n",
    "$L'_{H,d,t,i}$：日付 $d$ の時刻 $t$ における室 $i$ の1時間当たりの負荷バランス時（※）の間仕切り熱損失を含む暖房負荷, MJ/h  \n",
    "$L'_{CS,d,t,i}$：日付 $d$ の時刻 $t$ における室 $i$ の1時間当たりの負荷バランス時（※）の間仕切り熱取得を含む顕熱冷房負荷, MJ/h  \n",
    "$L'_{CL,d,t,i}$：日付 $d$ の時刻 $t$ における室 $i$ の1時間当たりの負荷バランス時（※）の間仕切り熱取得を含む潜熱冷房負荷, MJ/h  "
   ]
  },
  {
   "cell_type": "code",
   "execution_count": 10,
   "metadata": {
    "scrolled": true
   },
   "outputs": [
    {
     "data": {
      "text/plain": [
       "(array([20., 20., 20., ..., 20., 20., 20.]),\n",
       " array([0.0033, 0.0032, 0.0032, ..., 0.0032, 0.0032, 0.0032]),\n",
       " array([18.22650001, 18.21220063, 18.21209577, ..., 18.26895061,\n",
       "        17.59949068, 18.40234349]),\n",
       " array([0.0033, 0.0032, 0.0032, ..., 0.0032, 0.0032, 0.0032]),\n",
       " array([[6.23047304, 6.18962515, 6.21026632, ..., 4.85221981, 6.20658233,\n",
       "         6.20986372],\n",
       "        [2.71332481, 2.70425677, 2.71106952, ..., 2.52805602, 2.78206175,\n",
       "         2.68936914],\n",
       "        [1.78903631, 1.77070826, 1.77257646, ..., 2.11568816, 1.88899629,\n",
       "         1.77185517],\n",
       "        [1.6671682 , 1.65175372, 1.6561385 , ..., 1.13881471, 1.69095636,\n",
       "         1.64532273],\n",
       "        [2.07205052, 2.05445792, 2.05877271, ..., 1.55268147, 2.08076081,\n",
       "         2.04792201]]),\n",
       " array([[0., 0., 0., ..., 0., 0., 0.],\n",
       "        [0., 0., 0., ..., 0., 0., 0.],\n",
       "        [0., 0., 0., ..., 0., 0., 0.],\n",
       "        [0., 0., 0., ..., 0., 0., 0.],\n",
       "        [0., 0., 0., ..., 0., 0., 0.]]),\n",
       " array([[-0., -0., -0., ..., -0., -0., -0.],\n",
       "        [-0., -0., -0., ..., -0., -0., -0.],\n",
       "        [-0., -0., -0., ..., -0., -0., -0.],\n",
       "        [-0., -0., -0., ..., -0., -0., -0.],\n",
       "        [-0., -0., -0., ..., -0., -0., -0.]]))"
      ]
     },
     "execution_count": 10,
     "metadata": {},
     "output_type": "execute_result"
    }
   ],
   "source": [
    "theta_ac, x_ac, theta_d_nac, x_d_nac, l_d_h, l_d_cs, l_d_cl = exp_load.get_load(\n",
    "    case['region'], case['house'], hc_period, theta_ex, x_ex, theta_set_h, theta_set_c, x_set_c,\n",
    "    q, a_nr, v_local_nr, v_d_supply, u_prt, a_prt)\n",
    "theta_ac, x_ac, theta_d_nac, x_d_nac, l_d_h, l_d_cs, l_d_cl"
   ]
  },
  {
   "cell_type": "markdown",
   "metadata": {},
   "source": [
    "### 処理・未処理熱量"
   ]
  },
  {
   "cell_type": "markdown",
   "metadata": {},
   "source": [
    "外部モジュール exp_treated_and_untreated_heat を参照のこと。\n",
    "\n",
    "$\\theta_{hs,in,d,t}$：日付 $d$ の時刻 $t$ における熱源機入り口温度, ℃  \n",
    "$X_{hs,in,d,t}$：日付 $d$ の時刻 $t$ における熱源機入り口絶対湿度, kg/kgDA  \n",
    "$\\theta_{hs,out,H,d,t}$：日付 $d$ の時刻 $t$ における暖房時の熱源機の出口空気温度, ℃  \n",
    "$\\theta_{hs,out,C,d,t}$：日付 $d$ の時刻 $t$ における冷房時の熱源機の出口空気温度, ℃  \n",
    "$X_{hs,out,C,d,t}$：日付 $d$ の時刻 $t$ における冷房時の熱源機の出口空気絶対湿度, kg/kgDA  \n",
    "$V_{supply,d,t,i}$：日付 $d$ の時刻 $t$ における暖冷房区画 $i$ への吹き出し風量, m<sup>3</sup>/h  \n",
    "運転状態：'h'=暖房運転中, 'c'=冷房運転中, 'n'=運転停止中"
   ]
  },
  {
   "cell_type": "code",
   "execution_count": 11,
   "metadata": {},
   "outputs": [],
   "source": [
    "theta_hs_in, x_hs_in, theta_hs_out_h, theta_hs_out_c, x_hs_out_c, v_supply, operation = exp_treated_and_untreated_heat.get_heat(\n",
    "    case['region'], a_a, a_hcz, u_prt, a_prt, q, a_nr, q_rtd_h, q_rtd_c,\n",
    "    theta_sat, theta_ac, x_ac, is_duct_insulated, theta_d_nac, x_d_nac, vav_system,\n",
    "    hc_period, l_d_h, l_d_cs, l_d_cl, v_d_supply, v_vent, v_local_nr)"
   ]
  },
  {
   "cell_type": "code",
   "execution_count": 12,
   "metadata": {
    "scrolled": true
   },
   "outputs": [
    {
     "data": {
      "text/plain": [
       "(array([18.5240316 , 18.50963642, 18.51046802, ..., 18.415953  ,\n",
       "        17.87536822, 18.67745285]),\n",
       " array([0.0033, 0.0032, 0.0032, ..., 0.0032, 0.0032, 0.0032]),\n",
       " array([30.13211912, 30.24083678, 30.20715332, ..., 29.65611796,\n",
       "        31.22999636, 28.9962581 ]),\n",
       " array([20., 20., 20., ..., 20., 20., 20.]),\n",
       " array([0.0033, 0.0032, 0.0032, ..., 0.0032, 0.0032, 0.0032]),\n",
       " array([[468.11565231, 460.46390045, 463.0144844 , ..., 416.81045706,\n",
       "         430.28097496, 519.46598863],\n",
       "        [260.04680316, 255.79611511, 257.21301113, ..., 231.54582922,\n",
       "         239.02894818, 288.5728538 ],\n",
       "        [208.06884915, 204.66778534, 205.80147328, ..., 185.26462785,\n",
       "         191.25202678, 230.89313483],\n",
       "        [168.96760882, 166.20568832, 167.12632849, ..., 150.44886005,\n",
       "         155.31107986, 187.50265138],\n",
       "        [169.12464191, 166.36015458, 167.28165035, ..., 150.58868241,\n",
       "         155.45542101, 187.67691035]]),\n",
       " array(['h', 'h', 'h', ..., 'h', 'h', 'h'], dtype='<U1'))"
      ]
     },
     "execution_count": 12,
     "metadata": {},
     "output_type": "execute_result"
    }
   ],
   "source": [
    "theta_hs_in, x_hs_in, theta_hs_out_h, theta_hs_out_c, x_hs_out_c, v_supply, operation"
   ]
  },
  {
   "cell_type": "markdown",
   "metadata": {},
   "source": [
    "## 2. 処理熱量"
   ]
  },
  {
   "cell_type": "markdown",
   "metadata": {},
   "source": [
    "「暖房運転中」\n",
    "\n",
    "$$ Q_{hs,H,d,t} = \\left( \\theta_{hs,out,H,d,t} - \\theta_{hs,in,d,t} \\right) c \\rho \\sum_{i=1}^5{V_{supply,d,t,i}} \\times 10^{-6} $$\n",
    "\n",
    "「暖房運転中」以外\n",
    "\n",
    "$$ Q_{hs,H,d,t} = 0 $$\n",
    "\n",
    "「冷房運転中」\n",
    "\n",
    "$$ Q_{hs,CS,d,t} = \\left( \\theta_{hs,in,d,t} - \\theta_{hs,out,C,d,t} \\right) c \\rho \\sum_{i=1}^5{V_{supply,d,t,i}} \\times 10^{-6} $$\n",
    "\n",
    "$$ Q_{hs,CL,d,t} = \\left( X_{hs,in,d,t} - X_{hs,out,C,d,t} \\right) L_{wtr} \\rho \\sum_{i=1}^5{V_{supply,d,t,i}} \\times 10^{-3} $$ \n",
    "\n",
    "$$ Q_{hs,C,d,t} = Q_{hs,CS,d,t} + Q_{hs,CL,d,t} $$\n",
    "\n",
    "「冷房運転中」以外\n",
    "\n",
    "$$ Q_{hs,CS,d,t} = 0 $$\n",
    "\n",
    "$$ Q_{hs,CL,d,t} = 0 $$\n",
    "\n",
    "$$ Q_{hs,C,d,t} = 0 $$"
   ]
  },
  {
   "cell_type": "markdown",
   "metadata": {},
   "source": [
    "$Q_{hs,H,d,t}$：日付 $d$ の時刻 $t$ における1時間当たりの熱源機の暖房出力, MJ/h  \n",
    "$Q_{hs,CS,d,t}$：日付 $d$ の時刻 $t$ における1時間当たりの熱源機の冷房顕熱出力, MJ/h  \n",
    "$Q_{hs,CL,d,t}$：日付 $d$ の時刻 $t$ における1時間当たりの熱源機の冷房潜熱出力, MJ/h  \n",
    "$Q_{hs,C,d,t}$：日付 $d$ の時刻 $t$ における1時間当たりの熱源機の冷房全熱出力, MJ/h  \n",
    "$\\theta_{hs,out,H,d,t}$：日付 $d$ の時刻 $t$ における暖房時の熱源機の出口空気温度, ℃  \n",
    "$\\theta_{hs,out,C,d,t}$：日付 $d$ の時刻 $t$ における冷房時の熱源機の出口空気温度, ℃  \n",
    "$X_{hs,out,C,d,t}$：日付 $d$ の時刻 $t$ における冷房時の熱源機の出口絶対湿度, ℃  \n",
    "$\\theta_{hs,in,d,t}$：日付 $d$ の時刻 $t$ における熱源機の入口空気温度, ℃  \n",
    "$X_{hs,in,d,t}$：日付 $d$ の時刻 $t$ における熱源機の入口絶対湿度, ℃  \n",
    "$c$：空気の比熱, J/kgK  \n",
    "$\\rho$：空気の密度, kg/m<sup>3</sup>  \n",
    "$L_{wtr}$：水の蒸発潜熱, kJ/kg  \n",
    "$V_{supply,d,t,i}$：日付 $d$ の時刻 $t$ における暖冷房室 $i$ への吹き出し風量, m<sup>3</sup>/h  "
   ]
  },
  {
   "cell_type": "code",
   "execution_count": 13,
   "metadata": {},
   "outputs": [],
   "source": [
    "q_hs_h = cs.get_heat_source_heating_output(theta_hs_out_h, theta_hs_in, v_supply, operation)\n",
    "q_hs_c, q_hs_cs, q_hs_cl = cs.get_heat_source_cooling_output(theta_hs_in, x_hs_in, theta_hs_out_c, x_hs_out_c, v_supply, operation)"
   ]
  },
  {
   "cell_type": "code",
   "execution_count": 14,
   "metadata": {},
   "outputs": [
    {
     "data": {
      "image/png": "[encoded data removed]",
      "text/plain": [
       "<Figure size 1080x288 with 1 Axes>"
      ]
     },
     "metadata": {},
     "output_type": "display_data"
    }
   ],
   "source": [
    "ac.draw_graph(y_title='output, MJ/d', ys=[\n",
    "    (q_hs_h, 'heating'),\n",
    "    (q_hs_cs, 'sensible cooling'),\n",
    "    (q_hs_cl, 'latent cooling')\n",
    "], op='itg')"
   ]
  },
  {
   "cell_type": "markdown",
   "metadata": {},
   "source": [
    "## 2. 熱交換器"
   ]
  },
  {
   "cell_type": "code",
   "execution_count": null,
   "metadata": {},
   "outputs": [],
   "source": []
  },
  {
   "cell_type": "code",
   "execution_count": null,
   "metadata": {},
   "outputs": [],
   "source": []
  },
  {
   "cell_type": "code",
   "execution_count": null,
   "metadata": {},
   "outputs": [],
   "source": []
  },
  {
   "cell_type": "code",
   "execution_count": null,
   "metadata": {},
   "outputs": [],
   "source": []
  },
  {
   "cell_type": "code",
   "execution_count": null,
   "metadata": {},
   "outputs": [],
   "source": []
  },
  {
   "cell_type": "code",
   "execution_count": null,
   "metadata": {},
   "outputs": [],
   "source": []
  },
  {
   "cell_type": "code",
   "execution_count": null,
   "metadata": {},
   "outputs": [],
   "source": []
  },
  {
   "cell_type": "code",
   "execution_count": null,
   "metadata": {},
   "outputs": [],
   "source": []
  },
  {
   "cell_type": "code",
   "execution_count": null,
   "metadata": {},
   "outputs": [],
   "source": []
  },
  {
   "cell_type": "code",
   "execution_count": null,
   "metadata": {},
   "outputs": [],
   "source": []
  },
  {
   "cell_type": "code",
   "execution_count": null,
   "metadata": {},
   "outputs": [],
   "source": []
  },
  {
   "cell_type": "code",
   "execution_count": null,
   "metadata": {},
   "outputs": [],
   "source": []
  },
  {
   "cell_type": "code",
   "execution_count": null,
   "metadata": {},
   "outputs": [],
   "source": []
  },
  {
   "cell_type": "markdown",
   "metadata": {},
   "source": [
    "α_(c,hex,H)=-0.001679×((V_fan÷3600)/A_(f,hex) )^2-0.0044019×(V_fan÷3600)/A_(f,hex) +0.02706\n",
    "\n",
    "α_(c,hex,H)\t暖房時における室内機熱交換器表面の顕熱伝達率\tkW/(m2・K)\t式 88\n",
    "\n",
    "V_fan\t送風機の風量\tm3/h\t式 91、式 94、式 97、式 100\n",
    "\n",
    "A_(f,hex)\t室内機熱交換器の前面面積のうち熱交換に有効な面積\tm2\t0.23559"
   ]
  },
  {
   "cell_type": "markdown",
   "metadata": {},
   "source": []
  },
  {
   "cell_type": "code",
   "execution_count": null,
   "metadata": {},
   "outputs": [],
   "source": []
  },
  {
   "cell_type": "markdown",
   "metadata": {},
   "source": [
    "### 1) 暖房"
   ]
  },
  {
   "cell_type": "markdown",
   "metadata": {},
   "source": [
    "θ_(surf,H,hex)=(θ_(hs,in,H,d,t)+θ_(hs,out,H,d,t))/2+(q_cp×10^(-3))/(A_(e,hex)+a_(c,hex,H) )\n",
    "\n",
    "θ_(surf,H,hex)\t暖房時における室内機熱交換器の表面温度\t℃\t式 86\n",
    "\n",
    "q_cp\t冷凍サイクルの能力\tW\t式 90、式 93、式 96、式 99\n",
    "\n",
    "θ_(hs,out,H,d,t)\t日付dの時刻tにおける暖房時の熱源機の出口空気温度\t℃\t式 8 \n",
    "\n",
    "θ_(hs,in,H,d,t)\t日付dの時刻tにおける暖房時の熱源機の入口空気温度\t℃\t式 10\n",
    "\n",
    "a_(c,hex,H)\t暖房時における室内機熱交換器表面の顕熱伝達率\tkW/(m2・K)\t式 88\n",
    "\n",
    "A_(e,hex)\t室内機熱交換器の表面積のうち熱交換に有効な面積\tm2\t6.396"
   ]
  },
  {
   "cell_type": "markdown",
   "metadata": {},
   "source": [
    "### 2) 冷房"
   ]
  },
  {
   "cell_type": "markdown",
   "metadata": {},
   "source": [
    "θ_(surf,C,hex)=(θ_(hs,in,C,d,t)+θ_(hs,out,C,d,t))/2-(q_cp×10^(-3))/(A_(e,hex)+a_(c,hex,C) )\n",
    "\n",
    "θ_(surf,C,hex)\t冷房時における室内機熱交換器の表面温度\t℃\t式 87\n",
    "\n",
    "q_cp\t冷凍サイクルの能力\tW\t式 90、式 93、式 96、式 99\n",
    "\n",
    "θ_(hs,out,C,d,t)\t日付dの時刻tにおける冷房時の熱源機の出口空気温度\t℃\t式 31\n",
    "\n",
    "θ_(hs,in,H,d,t)\t日付dの時刻tにおける冷房時の熱源機の入口空気温度\t℃\t式 33\n",
    "\n",
    "a_(c,hex,C)\t冷房時における室内機熱交換器表面の顕熱伝達率\tkW/(m2・K)\t式 101～式 102\n",
    "\n",
    "A_(e,hex)\t室内機熱交換器の表面積のうち熱交換に有効な面積\tm2\t6.396"
   ]
  },
  {
   "cell_type": "code",
   "execution_count": null,
   "metadata": {},
   "outputs": [],
   "source": []
  },
  {
   "cell_type": "code",
   "execution_count": null,
   "metadata": {},
   "outputs": [],
   "source": []
  },
  {
   "cell_type": "code",
   "execution_count": null,
   "metadata": {},
   "outputs": [],
   "source": []
  },
  {
   "cell_type": "code",
   "execution_count": null,
   "metadata": {},
   "outputs": [],
   "source": []
  },
  {
   "cell_type": "code",
   "execution_count": null,
   "metadata": {},
   "outputs": [],
   "source": []
  },
  {
   "cell_type": "code",
   "execution_count": null,
   "metadata": {},
   "outputs": [],
   "source": []
  },
  {
   "cell_type": "code",
   "execution_count": null,
   "metadata": {},
   "outputs": [],
   "source": []
  },
  {
   "cell_type": "code",
   "execution_count": null,
   "metadata": {},
   "outputs": [],
   "source": []
  },
  {
   "cell_type": "code",
   "execution_count": null,
   "metadata": {},
   "outputs": [],
   "source": []
  },
  {
   "cell_type": "markdown",
   "metadata": {},
   "source": [
    "$$ \\theta_{hs,out,H} = \\theta_{hs,in,H} + \\frac{ q_{hs,H} }{ c \\rho V_{hs,H} } \\times 3600 $$\n",
    "\n",
    "$\\theta_{hs,out,H}$：定格暖房能力運転時の吐き出し温度, ℃  \n",
    "$\\theta_{hs,in,H}$：定格暖房能力運転時の吸い込み温度, ℃  \n",
    "$q_{hs,H}$：定格暖房能力, W  \n",
    "$V_{hs,H}$：定格暖房能力運転時の風量, m<sup>3</sup>/h  \n",
    "$\\rho$：空気の密度, kg/m<sup>3</sup> (=1.2)    \n",
    "$c$：空気の比熱, J/kgK (=1006.0)"
   ]
  },
  {
   "cell_type": "markdown",
   "metadata": {},
   "source": [
    "$$ \\theta_{hs,out,C} = \\theta_{hs,in,C} - \\frac{ q_{hs,CS} }{ c \\rho V_{hs,C} } \\times 3600 $$\n",
    "\n",
    "$\\theta_{hs,out,C}$：冷房運転時の吐き出し温度, ℃  \n",
    "$\\theta_{hs,in,C}$：冷房運転時の吸い込み温度, ℃  \n",
    "$q_{hs,CS}$：冷房顕熱能力, W  \n",
    "$V_{hs,C}$：冷房運転時の風量, m<sup>3</sup>/h  \n",
    "$\\rho$：空気の密度, kg/m<sup>3</sup> (=1.2)    \n",
    "$c$：空気の比熱, J/kgK (=1006.0)"
   ]
  },
  {
   "cell_type": "code",
   "execution_count": null,
   "metadata": {},
   "outputs": [],
   "source": []
  },
  {
   "cell_type": "code",
   "execution_count": null,
   "metadata": {},
   "outputs": [],
   "source": []
  },
  {
   "cell_type": "markdown",
   "metadata": {},
   "source": [
    "日付 $d$ の時刻 $t$ における冷凍サイクルの理論暖房効率 $e_{th,H,d,t}$：\n",
    "\n",
    "$$ \\theta_{ex} = \\theta_{ex,d,t} $$\n",
    "\n",
    "$$ q_{cp} = Q_{hs,H,d,t} \\div \\left( 3600 \\times 10^{-6} \\right) $$\n",
    "\n",
    "$$ V_{fan} = V_{fan,d,t} $$\n",
    "\n",
    "定格暖房能力運転時における冷凍サイクルの理論暖房効率$e_{th,H,rtd}$：\n",
    "\n",
    "$$ \\theta_{ex} = 7 $$\n",
    "\n",
    "$$ q_{cp} = q_{ac,H,rtd} $$\n",
    "\n",
    "$$ V_{fan} = V_{fan,H,rtd} $$\n",
    "\n",
    "中間暖房能力運転時における冷凍サイクルの理論暖房効率$e_{th,H,mid}$：\n",
    "\n",
    "$$ \\theta_{ex} = 7 $$\n",
    "\n",
    "$$ q_{cp} = q_{ac,H,mid} $$\n",
    "\n",
    "$$ V_{fan} = V_{fan,H,mid} $$\n",
    "\n",
    "最小暖房能力運転時における冷凍サイクルの理論暖房効率$e_{th,H,min}$：\n",
    "\n",
    "$$ \\theta_{ex} = 7 $$\n",
    "\n",
    "$$ q_{cp} = q_{ac,H,min}   $$\n",
    "\n",
    "$$ V_{fan} = V_{fan,H,min}  $$\n",
    "\n",
    "$V_{fan}$：送風機の風量, m<sup>3</sup>/h  \n",
    "$V_{fan,H,mid}$：中間暖房能力運転時における送風機の風量, m<sup>3</sup>/h  \n",
    "$V_{fan,H,min}$：最小暖房能力運転時における送風機の風量, m<sup>3</sup>/h  \n",
    "$V_{fan,H,rtd}$：定格暖房能力運転時における送風機の風量, m<sup>3</sup>/h  \n",
    "$Q_{hs,H,d,t}$：日付$d$の時刻$t$における1時間当たりの熱源機の暖房出力, MJ/h  \n",
    "$q_{ac,H,mid}$：空調機の中間暖房能力, W  \n",
    "$q_{ac,H,min}$：空調機の最小暖房能力, W  \n",
    "$q_{ac,H,rtd}$：空調機の定格暖房能力, W  \n",
    "$q_{cp}$：冷凍サイクルの能力, W  \n",
    "$\\theta_{ex}$：外気温度, ℃  \n",
    "$\\theta_{ex,d,t}$：日付 $d$ の時刻 $t$ における外気温度, ℃  "
   ]
  },
  {
   "cell_type": "markdown",
   "metadata": {},
   "source": []
  },
  {
   "cell_type": "markdown",
   "metadata": {},
   "source": []
  },
  {
   "cell_type": "markdown",
   "metadata": {},
   "source": [
    "## 圧縮効率"
   ]
  },
  {
   "cell_type": "markdown",
   "metadata": {},
   "source": [
    "$$ \\eta_{H,rtd} = \\frac{e_{H,rtd}}{e_{th,H,rtd}} $$\n",
    "\n",
    "$$ e_{H,rtd} = \\frac{q_{hs,H,rtd}}{P_{hs,H,rtd} - P_{fan,H,rtd}} $$\n",
    "\n",
    "$\\eta_{H,rtd}$：定格暖房能力運転時における圧縮機の圧縮効率   \n",
    "$e_{H,rtd}$：定格暖房能力運転時における暖房効率  \n",
    "$e_{th,H,rtd}$：定格暖房能力運転時における冷凍サイクルの理論暖房効率  \n",
    "$q_{hs,H,rtd}$：空調機の定格暖房能力, W  \n",
    "$P_{hs,H,rtd}$：空調機の定格暖房消費電力, W   \n",
    "$P_{fan,H,rtd}$：定格暖房能力運転時における送風機の消費電力, W   "
   ]
  },
  {
   "cell_type": "markdown",
   "metadata": {},
   "source": [
    "JIS性能試験により得られる値を用いる場合\n",
    "\n",
    "$$ \\eta_{H,mid} = \\frac{e_{H,mid}}{e_{th,H,mid}} $$\n",
    "\n",
    "$$ e_{H,mid} = \\frac{q_{hs,H,mid}}{P_{hs,H,mid} - P_{fan,H,mid}} $$\n",
    "\n",
    "JIS性能試験により得られる値を用いない場合\n",
    "\n",
    "$$ \\eta_{H,mid} = \\eta_{H,rtd} \\times 0.95 $$\n",
    "\n",
    "$\\eta_{H,mid}$：中間暖房能力運転時における圧縮機の圧縮効率  \n",
    "$e_{H,mid}$：中間暖房能力運転時における暖房効率  \n",
    "$e_{th,H,mid}$：中間暖房能力運転時における冷凍サイクルの理論暖房効率  \n",
    "$q_{hs,H,mid}$：空調機の中間暖房能力, W   \n",
    "$P_{hs,H,mid}$：空調機の中間暖房消費電力, W   \n",
    "$P_{fan,H,mid}$：中間暖房能力運転時における送風機の消費電力, W   \n",
    "$\\eta_{H,rtd}$：定格暖房能力運転時における圧縮機の圧縮効率   "
   ]
  },
  {
   "cell_type": "markdown",
   "metadata": {},
   "source": [
    "JIS性能試験により得られる値を用いる場合\n",
    "\n",
    "$$ \\eta_{H,min} = \\frac{e_{H,min}}{e_{th,H,min}} $$\n",
    "\n",
    "$$ e_{H,min} = \\frac{q_{hs,H,min}}{P_{hs,H,min} - P_{fan,H,min}} $$\n",
    "\n",
    "JIS性能試験により得られる値を用いない場合\n",
    "\n",
    "$$ \\eta_{H,min} = \\eta_{H,rtd} \\times 0.65 $$\n",
    "\n",
    "$\\eta_{H,min}$：最小暖房能力運転時における圧縮機の圧縮効率(-)  \n",
    "$e_{H,min}$：最小暖房能力運転時における暖房効率(-)  \n",
    "$e_{th,H,min}$：最小暖房能力運転時における冷凍サイクルの理論暖房効率(-)  \n",
    "$q_{hs,H,min}$：空調機の最小暖房能力(W)   \n",
    "$P_{hs,H,min}$：空調機の最小暖房消費電力(W)   \n",
    "$P_{fan,H,min}$：最小暖房能力運転時における送風機の消費電力(W)   \n",
    "$\\eta_{H,rtd}$：定格暖房能力運転時における圧縮機の圧縮効率(-)   "
   ]
  },
  {
   "cell_type": "code",
   "execution_count": null,
   "metadata": {},
   "outputs": [],
   "source": [
    "def eta_H_rtd(e_H_rtd, e_th_H_rtd):\n",
    "    '''定格能力運転時における圧縮機の圧縮効率を計算する'''\n",
    "    # e_H_rtd：定格能力運転時におけ暖房効率(-)\n",
    "    # e_th_H_rtd：定格能力運転時における冷凍サイクルの理論暖房効率(-)\n",
    "    \n",
    "    return e_H_rtd / e_th_H_rtd"
   ]
  },
  {
   "cell_type": "code",
   "execution_count": 23,
   "metadata": {},
   "outputs": [],
   "source": [
    "# 引数がおかしい\n",
    "def eta_H_mid(JIS_test_mid, eta_H_rtd, q_ac_H_mid, P_ac_H_mid, P_fan_H_mid, e_th_H_mid):\n",
    "    '''中間能力運転時における圧縮機の圧縮効率を計算する'''\n",
    "    # JIS_test_mid:JIS試験値を用いるか否か[True：JIS試験値を用いる、False：JIS試験値を用いない](Boolean型)\n",
    "    # e_H_mid：中間能力運転時におけ暖房効率(-)\n",
    "    # e_th_H_rtd：定格能力運転時における冷凍サイクルの理論暖房効率(-)\n",
    "    # q_ac_H_op：空調機の暖房能力(W)\n",
    "    # P_ac_H_op：暖房能力q_ac_H_opによる運転時における空調機の消費電力(W)\n",
    "    # P_fan_H_op：暖房能力q_ac_H_opによる運転時における送風機の消費電力(W)\n",
    "    # e_th_H_mid：中間能力運転時における冷凍サイクルの理論暖房効率(-)\n",
    "    \n",
    "    e_H_mid = q_ac_H_mid / (P_ac_H_mid - P_fan_H_mid)\n",
    "\n",
    "    if JIS_test_mid:\n",
    "        return e_H_mid / e_th_H_mid\n",
    "    else:\n",
    "        return eta_H_rtd * 0.95"
   ]
  },
  {
   "cell_type": "code",
   "execution_count": 22,
   "metadata": {},
   "outputs": [],
   "source": [
    "# 引数がおかしい\n",
    "def eta_H_min(Spec, e_H_min, e_th_H_min, eta_H_rtd, JIS_test_min):\n",
    "    '''最小能力運転時における圧縮機の圧縮効率を計算する'''\n",
    "    # e_H_min：最小能力運転時におけ暖房効率(-)\n",
    "    # e_th_H_min：最小能力運転時における冷凍サイクルの理論暖房効率(-)\n",
    "    # e_th_H_rtd：定格能力運転時における冷凍サイクルの理論暖房効率(-)\n",
    "    # JIS_test_min:JIS試験値を用いるか否か[True：JIS試験値を用いる、False：JIS試験値を用いない](Boolean型)\n",
    "\n",
    "    e_H_min = q_ac_H_min / (P_ac_H_min - P_fan_H_min)\n",
    "\n",
    "    if JIS_test_min:\n",
    "        return  e_H(q_ac_H_min, P_ac_H_min, P_fan_H_min) / e_th_H_min\n",
    "    else:\n",
    "        return eta_H_rtd * 0.65"
   ]
  },
  {
   "cell_type": "markdown",
   "metadata": {},
   "source": [
    "$$ \\eta_{H,rtd} = \\frac{e_{H,rtd}}{e_{th,H,rtd}} $$\n",
    "\n",
    "$$ e_{H,rtd} = \\frac{q_{hs,H,rtd}}{P_{hs,H,rtd} - P_{fan,H,rtd}} $$\n",
    "\n",
    "$\\eta_{H,rtd}$：定格暖房能力運転時における圧縮機の圧縮効率   \n",
    "$e_{H,rtd}$：定格暖房能力運転時における暖房効率  \n",
    "$e_{th,H,rtd}$：定格暖房能力運転時における冷凍サイクルの理論暖房効率  \n",
    "$q_{hs,H,rtd}$：空調機の定格暖房能力, W  \n",
    "$P_{hs,H,rtd}$：空調機の定格暖房消費電力, W   \n",
    "$P_{fan,H,rtd}$：定格暖房能力運転時における送風機の消費電力, W   "
   ]
  },
  {
   "cell_type": "markdown",
   "metadata": {},
   "source": [
    "JIS性能試験により得られる値を用いる場合\n",
    "\n",
    "$$ \\eta_{H,mid} = \\frac{e_{H,mid}}{e_{th,H,mid}} $$\n",
    "\n",
    "$$ e_{H,mid} = \\frac{q_{hs,H,mid}}{P_{hs,H,mid} - P_{fan,H,mid}} $$\n",
    "\n",
    "JIS性能試験により得られる値を用いない場合\n",
    "\n",
    "$$ \\eta_{H,mid} = \\eta_{H,rtd} \\times 0.95 $$\n",
    "\n",
    "$\\eta_{H,mid}$：中間暖房能力運転時における圧縮機の圧縮効率  \n",
    "$e_{H,mid}$：中間暖房能力運転時における暖房効率  \n",
    "$e_{th,H,mid}$：中間暖房能力運転時における冷凍サイクルの理論暖房効率  \n",
    "$q_{hs,H,mid}$：空調機の中間暖房能力, W   \n",
    "$P_{hs,H,mid}$：空調機の中間暖房消費電力, W   \n",
    "$P_{fan,H,mid}$：中間暖房能力運転時における送風機の消費電力, W   \n",
    "$\\eta_{H,rtd}$：定格暖房能力運転時における圧縮機の圧縮効率   "
   ]
  },
  {
   "cell_type": "markdown",
   "metadata": {},
   "source": [
    "JIS性能試験により得られる値を用いる場合\n",
    "\n",
    "$$ \\eta_{H,min} = \\frac{e_{H,min}}{e_{th,H,min}} $$\n",
    "\n",
    "$$ e_{H,min} = \\frac{q_{hs,H,min}}{P_{hs,H,min} - P_{fan,H,min}} $$\n",
    "\n",
    "JIS性能試験により得られる値を用いない場合\n",
    "\n",
    "$$ \\eta_{H,min} = \\eta_{H,rtd} \\times 0.65 $$\n",
    "\n",
    "$\\eta_{H,min}$：最小暖房能力運転時における圧縮機の圧縮効率(-)  \n",
    "$e_{H,min}$：最小暖房能力運転時における暖房効率(-)  \n",
    "$e_{th,H,min}$：最小暖房能力運転時における冷凍サイクルの理論暖房効率(-)  \n",
    "$q_{hs,H,min}$：空調機の最小暖房能力(W)   \n",
    "$P_{hs,H,min}$：空調機の最小暖房消費電力(W)   \n",
    "$P_{fan,H,min}$：最小暖房能力運転時における送風機の消費電力(W)   \n",
    "$\\eta_{H,rtd}$：定格暖房能力運転時における圧縮機の圧縮効率(-)   "
   ]
  },
  {
   "cell_type": "code",
   "execution_count": 25,
   "metadata": {},
   "outputs": [],
   "source": [
    "# 冷房版にする必要あり\n",
    "def eta_H_rtd(e_H_rtd, e_th_H_rtd):\n",
    "    '''定格能力運転時における圧縮機の圧縮効率を計算する'''\n",
    "    # e_H_rtd：定格能力運転時におけ暖房効率(-)\n",
    "    # e_th_H_rtd：定格能力運転時における冷凍サイクルの理論暖房効率(-)\n",
    "    \n",
    "    return e_H_rtd / e_th_H_rtd"
   ]
  },
  {
   "cell_type": "code",
   "execution_count": 26,
   "metadata": {},
   "outputs": [],
   "source": [
    "# 冷房版にする必要あり\n",
    "# 引数がおかしい\n",
    "def eta_H_mid(JIS_test_mid, eta_H_rtd, q_ac_H_mid, P_ac_H_mid, P_fan_H_mid, e_th_H_mid):\n",
    "    '''中間能力運転時における圧縮機の圧縮効率を計算する'''\n",
    "    # JIS_test_mid:JIS試験値を用いるか否か[True：JIS試験値を用いる、False：JIS試験値を用いない](Boolean型)\n",
    "    # e_H_mid：中間能力運転時におけ暖房効率(-)\n",
    "    # e_th_H_rtd：定格能力運転時における冷凍サイクルの理論暖房効率(-)\n",
    "    # q_ac_H_op：空調機の暖房能力(W)\n",
    "    # P_ac_H_op：暖房能力q_ac_H_opによる運転時における空調機の消費電力(W)\n",
    "    # P_fan_H_op：暖房能力q_ac_H_opによる運転時における送風機の消費電力(W)\n",
    "    # e_th_H_mid：中間能力運転時における冷凍サイクルの理論暖房効率(-)\n",
    "    \n",
    "    e_H_mid = q_ac_H_mid / (P_ac_H_mid - P_fan_H_mid)\n",
    "\n",
    "    if JIS_test_mid:\n",
    "        return e_H_mid / e_th_H_mid\n",
    "    else:\n",
    "        return eta_H_rtd * 0.95"
   ]
  },
  {
   "cell_type": "code",
   "execution_count": 27,
   "metadata": {},
   "outputs": [],
   "source": [
    "# 冷房版にする必要あり\n",
    "# 引数がおかしい\n",
    "def eta_H_min(Spec, e_H_min, e_th_H_min, eta_H_rtd, JIS_test_min):\n",
    "    '''最小能力運転時における圧縮機の圧縮効率を計算する'''\n",
    "    # e_H_min：最小能力運転時におけ暖房効率(-)\n",
    "    # e_th_H_min：最小能力運転時における冷凍サイクルの理論暖房効率(-)\n",
    "    # e_th_H_rtd：定格能力運転時における冷凍サイクルの理論暖房効率(-)\n",
    "    # JIS_test_min:JIS試験値を用いるか否か[True：JIS試験値を用いる、False：JIS試験値を用いない](Boolean型)\n",
    "\n",
    "    e_H_min = q_ac_H_min / (P_ac_H_min - P_fan_H_min)\n",
    "\n",
    "    if JIS_test_min:\n",
    "        return  e_H(q_ac_H_min, P_ac_H_min, P_fan_H_min) / e_th_H_min\n",
    "    else:\n",
    "        return eta_H_rtd * 0.65"
   ]
  },
  {
   "cell_type": "markdown",
   "metadata": {},
   "source": [
    "## 圧縮効率"
   ]
  },
  {
   "cell_type": "markdown",
   "metadata": {},
   "source": [
    "$Q_{hs,H,d,t} \\div \\left( 3600 \\times 10^{-6} \\right) \\leq q_{hs,H,min}$の場合\n",
    "\n",
    "$$ \\eta_{H,d,t} = \\eta_{H,min} - \\left\\{ q_{hs,H,min} - Q_{hs,H,d,t} \\div \\left( 3600 \\times 10^{-6} \\right) \\right\\} \\times \\frac{\\eta_{H,min}}{q_{hs,H,min}} $$\n",
    "\n",
    "$q_{hs,H,min} < Q_{hs,H,d,t} \\div \\left( 3600 \\times 10^{-6} \\right) \\leq q_{hs,H,mid} $の場合\n",
    "\n",
    "$$ \\eta_{H,d,t} = \\eta_{H,mid} - \\left\\{ q_{hs,H,mid} - Q_{hs,H,d,t} \\div \\left( 3600 \\times 10^{-6} \\right) \\right\\} \\times \\frac{\\eta_{H,mid} - \\eta_{H,min}}{q_{hs,H,mid} - q_{hs,H,min}} $$\n",
    "\n",
    "$q_{hs,H,mid} < Q_{hs,H,d,t} \\div \\left( 3600 \\times 10^{-6} \\right) \\leq q_{hs,H,rtd} $の場合\n",
    "\n",
    "$$ \\eta_{H,d,t} = \\eta_{H,rtd} - \\left\\{ q_{hs,H,rtd} - Q_{hs,H,d,t} \\div \\left( 3600 \\times 10^{-6} \\right) \\right\\} \\times \\frac{\\eta_{H,rtd} - \\eta_{H,mid}}{q_{hs,H,rtd} - q_{hs,H,mid}} $$\n",
    "\n",
    "$q_{hs,H,rtd} < Q_{hs,H,d,t} \\div \\left( 3600 \\times 10^{-6} \\right)$の場合\n",
    "\n",
    "$$ \\eta_{H,d,t} = max \\left( 0.4, \\: \\eta_{H,rtd} - \\left\\{ Q_{hs,H,d,t} \\div \\left( 3600 \\times 10^{-6} \\right) - q_{hs,H,rtd} \\right\\} \\times \\frac{\\eta_{H,rtd}}{q_{hs,H,rtd}} \\right) $$\n",
    "\n",
    "$Q_{hs,H,d,t}$：日付 $d$ の時刻 $t$ における1時間当たりの熱源機の暖房出力, MJ/h  \n",
    "$\\eta_{H,d,t}$：日付 $d$ の時刻 $t$ における暖房時の圧縮機の圧縮機の圧縮効率  \n",
    "$\\eta_{H,mid}$：中間暖房能力運転時における圧縮機の圧縮効率  \n",
    "$\\eta_{H,min}$：最小暖房能力運転時における圧縮機の圧縮効率  \n",
    "$\\eta_{H,rtd}$：定格暖房能力運転時における圧縮機の圧縮効率   \n",
    "$q_{hs,H,mid}$：空調機の中間暖房能力, W   \n",
    "$q_{hs,H,min}$：空調機の最小暖房能力, W   \n",
    "$q_{hs,H,rtd}$：空調機の定格暖房能力, W "
   ]
  },
  {
   "cell_type": "code",
   "execution_count": 15,
   "metadata": {},
   "outputs": [],
   "source": [
    "def eta_H(Q_dash_T_H, eta_H_min, eta_H_mid, eta_H_rtd, q_ac_H_min, q_ac_H_mid, q_ac_H_rtd):\n",
    "    '''最小・中間・定格運転時における圧縮機の圧縮効率から当該時刻の値を外挿する'''\n",
    "    # Q_dash_T_H：補正処理暖房負荷(MJ/h) \n",
    "    # eta_H_min：最小暖房能力運転時における圧縮機の圧縮効率(-)\n",
    "    # eta_H_mid：中間暖房能力運転時における圧縮機の圧縮効率(-)\n",
    "    # eta_H_rtd：定格暖房能力運転時における圧縮機の圧縮効率(-)\n",
    "    # q_ac_H_min：空調機の最小暖房能力(W)\n",
    "    # q_ac_H_mid：空調機の中間暖房能力(W)\n",
    "    # q_ac_H_rtd：空調機の定格暖房能力(W)\n",
    "    \n",
    "    # 単位換算：MJ/h => W\n",
    "    Q_dash_T_H_Wat = Q_dash_T_H / (3600 * 10**(-6))\n",
    "    \n",
    "    if Q_dash_T_H_Wat <= q_ac_H_min:\n",
    "        return eta_H_min - (q_ac_H_min - Q_dash_T_H_Wat) * eta_H_min / q_ac_H_min\n",
    "    elif q_ac_H_min < Q_dash_T_H_Wat and Q_dash_T_H_Wat <= q_ac_H_mid:\n",
    "        return eta_H_mid - (q_ac_H_mid - Q_dash_T_H_Wat) * (eta_H_mid - eta_H_min) / (q_ac_H_mid - q_ac_H_min)\n",
    "    elif q_ac_H_mid < Q_dash_T_H_Wat and Q_dash_T_H_Wat <= q_ac_H_rtd:\n",
    "        return eta_H_rtd - (q_ac_H_rtd - Q_dash_T_H_Wat) * (eta_H_rtd - eta_H_mid) / (q_ac_H_rtd - q_ac_H_mid)\n",
    "    elif q_ac_H_rtd < Q_dash_T_H_Wat:\n",
    "        return max(0.4, eta_H_rtd - (Q_dash_T_H_Wat - q_ac_H_rtd) * eta_H_rtd / q_ac_H_rtd)\n",
    "    \n",
    "    else:\n",
    "        raise Exeption"
   ]
  },
  {
   "cell_type": "code",
   "execution_count": 16,
   "metadata": {
    "scrolled": true
   },
   "outputs": [
    {
     "data": {
      "image/png": "[encoded data removed]",
      "text/plain": [
       "<Figure size 640x320 with 1 Axes>"
      ]
     },
     "metadata": {},
     "output_type": "display_data"
    }
   ],
   "source": [
    "# 算出イメージ\n",
    "plt.figure(figsize = (8, 4), dpi=80 )\n",
    "plt.subplot2grid((1, 1), (0, 0))\n",
    "plt.title('算出イメージ', fontdict={'fontproperties':fp})\n",
    "\n",
    "q_rtd = 1\n",
    "eta_rtd = 0.8\n",
    "x_values =np.arange(0, 2.2, 0.05)\n",
    "y_values =[eta_H(Q_dash_T_H*(3600 * 10**(-6)), eta_rtd*0.65, eta_rtd*0.95, eta_rtd, q_rtd*0.35, q_rtd*0.5, q_rtd) for Q_dash_T_H in x_values]\n",
    "plt.plot(x_values, y_values)\n",
    "\n",
    "        \n",
    "ax=plt.gca()\n",
    "ax.set_xlabel('空調機の補正処理暖房負荷(W)', fontdict={'fontproperties':fp})\n",
    "ax.set_xticks([0, q_rtd*0.35, q_rtd*0.5, q_rtd, q_rtd*1.5, q_rtd*2.0], minor=False)\n",
    "ax.set_xticklabels(['0', 'q_min', 'q_mid', 'q_rtd', '1.5×q_rtd', '2.0×q_rtd'], minor=False)\n",
    "ax.set_xbound(lower=0, upper=2)\n",
    "\n",
    "ax.set_ylabel('圧縮機の圧縮効率(-)', fontdict={'fontproperties':fp})\n",
    "ax.set_yticks([0, eta_rtd*0.65, eta_rtd*0.95, eta_rtd, 0.4], minor=False)\n",
    "ax.set_yticklabels(['0', 'eta_min', 'eta_mid', 'eta_rtd', '0.4'])\n",
    "ax.set_ybound(lower=0, upper=1)\n",
    "\n",
    "ax.grid(which='major', color='lightgray', alpha=0.7, linestyle='-')     \n",
    "\n",
    "plt.show()"
   ]
  },
  {
   "cell_type": "markdown",
   "metadata": {},
   "source": [
    "$Q_{hs,C,d,t} \\div \\left( 3600 \\times 10^{-6} \\right) \\leq q_{hs,C,min}$の場合\n",
    "\n",
    "$$ \\eta_{C,d,t} = \\eta_{C,min} - \\left\\{ q_{hs,C,min} - Q_{hs,C,d,t} \\div \\left( 3600 \\times 10^{-6} \\right) \\right\\} \\times \\frac{\\eta_{C,min}}{q_{hs,C,min}} $$\n",
    "\n",
    "$q_{hs,C,min} < Q_{hs,C,d,t} \\div \\left( 3600 \\times 10^{-6} \\right) \\leq q_{hs,C,mid} $の場合\n",
    "\n",
    "$$ \\eta_{C,d,t} = \\eta_{C,mid} - \\left\\{ q_{hs,C,mid} - Q_{hs,C,d,t} \\div \\left( 3600 \\times 10^{-6} \\right) \\right\\} \\times \\frac{\\eta_{C,mid} - \\eta_{C,min}}{q_{hs,C,mid} - q_{hs,C,min}} $$\n",
    "\n",
    "$q_{hs,C,mid} < Q_{hs,C,d,t} \\div \\left( 3600 \\times 10^{-6} \\right) \\leq q_{hs,C,rtd} $の場合\n",
    "\n",
    "$$ \\eta_{C,d,t} = \\eta_{C,rtd} - \\left\\{ q_{hs,C,rtd} - Q_{hs,C,d,t} \\div \\left( 3600 \\times 10^{-6} \\right) \\right\\} \\times \\frac{\\eta_{C,rtd} - \\eta_{C,mid}}{q_{hs,C,rtd} - q_{hs,C,mid}} $$\n",
    "\n",
    "$q_{hs,C,rtd} < Q_{hs,C,d,t} \\div \\left( 3600 \\times 10^{-6} \\right)$の場合\n",
    "\n",
    "$$ \\eta_{C,d,t} = max \\left( 0.4, \\: \\eta_{C,rtd} - \\left\\{ Q_{hs,C,d,t} \\div \\left( 3600 \\times 10^{-6} \\right) - q_{hs,C,rtd} \\right\\} \\times \\frac{\\eta_{C,rtd}}{q_{hs,C,rtd}} \\right) $$\n",
    "\n",
    "$Q_{hs,C,d,t}$：日付 $d$ の時刻 $t$ における1時間当たりの熱源機の冷房出力, MJ/h  \n",
    "$\\eta_{C,d,t}$：日付 $d$ の時刻 $t$ における冷房時の圧縮機の圧縮機の圧縮効率  \n",
    "$\\eta_{C,mid}$：中間冷房能力運転時における圧縮機の圧縮効率  \n",
    "$\\eta_{C,min}$：最小冷房能力運転時における圧縮機の圧縮効率  \n",
    "$\\eta_{C,rtd}$：定格冷房能力運転時における圧縮機の圧縮効率   \n",
    "$q_{hs,C,mid}$：空調機の中間冷房能力, W   \n",
    "$q_{hs,C,min}$：空調機の最小冷房能力, W   \n",
    "$q_{hs,C,rtd}$：空調機の定格冷房能力, W "
   ]
  },
  {
   "cell_type": "code",
   "execution_count": 24,
   "metadata": {},
   "outputs": [],
   "source": [
    "# これを冷房版に書き換える必要あり。関数は共通化しても良いかもしれない。\n",
    "def eta_H(Q_dash_T_H, eta_H_min, eta_H_mid, eta_H_rtd, q_ac_H_min, q_ac_H_mid, q_ac_H_rtd):\n",
    "    '''最小・中間・定格運転時における圧縮機の圧縮効率から当該時刻の値を外挿する'''\n",
    "    # Q_dash_T_H：補正処理暖房負荷(MJ/h) \n",
    "    # eta_H_min：最小暖房能力運転時における圧縮機の圧縮効率(-)\n",
    "    # eta_H_mid：中間暖房能力運転時における圧縮機の圧縮効率(-)\n",
    "    # eta_H_rtd：定格暖房能力運転時における圧縮機の圧縮効率(-)\n",
    "    # q_ac_H_min：空調機の最小暖房能力(W)\n",
    "    # q_ac_H_mid：空調機の中間暖房能力(W)\n",
    "    # q_ac_H_rtd：空調機の定格暖房能力(W)\n",
    "    \n",
    "    # 単位換算：MJ/h => W\n",
    "    Q_dash_T_H_Wat = Q_dash_T_H / (3600 * 10**(-6))\n",
    "    \n",
    "    if Q_dash_T_H_Wat <= q_ac_H_min:\n",
    "        return eta_H_min - (q_ac_H_min - Q_dash_T_H_Wat) * eta_H_min / q_ac_H_min\n",
    "    elif q_ac_H_min < Q_dash_T_H_Wat and Q_dash_T_H_Wat <= q_ac_H_mid:\n",
    "        return eta_H_mid - (q_ac_H_mid - Q_dash_T_H_Wat) * (eta_H_mid - eta_H_min) / (q_ac_H_mid - q_ac_H_min)\n",
    "    elif q_ac_H_mid < Q_dash_T_H_Wat and Q_dash_T_H_Wat <= q_ac_H_rtd:\n",
    "        return eta_H_rtd - (q_ac_H_rtd - Q_dash_T_H_Wat) * (eta_H_rtd - eta_H_mid) / (q_ac_H_rtd - q_ac_H_mid)\n",
    "    elif q_ac_H_rtd < Q_dash_T_H_Wat:\n",
    "        return max(0.4, eta_H_rtd - (Q_dash_T_H_Wat - q_ac_H_rtd) * eta_H_rtd / q_ac_H_rtd)\n",
    "    \n",
    "    else:\n",
    "        raise Exeption"
   ]
  },
  {
   "cell_type": "markdown",
   "metadata": {},
   "source": [
    "## 圧縮機の消費電力"
   ]
  },
  {
   "cell_type": "markdown",
   "metadata": {},
   "source": [
    "### 暖房"
   ]
  },
  {
   "cell_type": "markdown",
   "metadata": {},
   "source": [
    "$$ E_{E,comp,H,d,t} = \\frac{{Q_{hs,H,d,t} \\div \\left(3600 \\times 10^{-3} \\right)}} {\\eta_{H,d,t} \\times e_{th,H,d,t} \\times C_{df,d,t}} $$\n",
    "\n",
    "$E_{E,comp,H,d,t}$：日付 $d$ の時刻 $t$ における暖房時の1時間当たりの圧縮機の消費電力量, kWh/h  \n",
    "$Q_{hs,H,d,t}$：日付 $d$ の時刻 $t$ における1時間当たりの熱源機の暖房出力, MJ/h  \n",
    "$C_{df,d,t}$：日付 $d$ の時刻 $t$ におけるデフロストに関する暖房出力補正係数  \n",
    "$e_{th,H,d,t}$：日付 $d$ の時刻 $t$ における冷凍サイクルの理論暖房効率  \n",
    "$\\eta_{H,d,t}$：日付 $d$ の時刻 $t$ における暖房時の圧縮機の圧縮効率  "
   ]
  },
  {
   "cell_type": "code",
   "execution_count": 17,
   "metadata": {},
   "outputs": [],
   "source": [
    "def get_e_e_comp_h(q_hs_h: np.ndarray, e_th_h: np.ndarray, eta_h: np.ndarray, c_df: np.ndarray) -> np.ndarray:\n",
    "    \"\"\"\n",
    "    calculate the energy consumption of the compressor\n",
    "    Args:\n",
    "        q_hs_h: heating output of heat source, MJ/h (8760 times)  \n",
    "        e_th_h: theoretical heating efficiency of refrigeration cycle (8760 times)\n",
    "        eta_h: compression efficiency for heating (8760 times) \n",
    "        c_df: correction coefficiency for heating output when defrosting (8760 times)\n",
    "    \"\"\"\n",
    "    \n",
    "    return ( q_hs_h / (3600 * 10**(-3)) ) / (e_th_h * eta_h * c_df)"
   ]
  },
  {
   "cell_type": "markdown",
   "metadata": {},
   "source": [
    "### 冷房"
   ]
  },
  {
   "cell_type": "markdown",
   "metadata": {},
   "source": [
    "$$ E_{E,comp,C,d,t} = \\frac{{Q_{hs,C,d,t} \\div \\left(3600 \\times 10^{-3} \\right)}} {\\eta_{C,d,t} \\times e_{th,C,d,t} } $$\n",
    "\n",
    "$E_{E,comp,C,d,t}$：日付 $d$ の時刻 $t$ における暖房時の1時間当たりの圧縮機の消費電力量, kWh/h  \n",
    "$Q_{hs,C,d,t}$：日付 $d$ の時刻 $t$ における1時間当たりの熱源機の冷房全熱出力, MJ/h  \n",
    "$e_{th,C,d,t}$：日付 $d$ の時刻 $t$ における冷凍サイクルの理論暖房効率  \n",
    "$\\eta_{C,d,t}$：日付 $d$ の時刻 $t$ における冷房時の圧縮機の圧縮効率  "
   ]
  },
  {
   "cell_type": "code",
   "execution_count": 18,
   "metadata": {},
   "outputs": [],
   "source": [
    "def get_e_e_comp_c(q_hs_c: np.ndarray, e_th_c: np.ndarray, eta_c: np.ndarray) -> np.ndarray:\n",
    "    \"\"\"\n",
    "    calculate the energy consumption of the compressor\n",
    "    Args:\n",
    "        q_hs_c: cooling output of heat source, MJ/h (8760 times)  \n",
    "        e_th_c: theoretical cooling efficiency of refrigeration cycle (8760 times)\n",
    "        eta_c: compression efficiency for cooling (8760 times) \n",
    "    \"\"\"\n",
    "    \n",
    "    return ( q_hs_c / (3600 * 10**(-3)) ) / (e_th_c * eta_c)"
   ]
  },
  {
   "cell_type": "markdown",
   "metadata": {},
   "source": [
    "## エネルギー消費量"
   ]
  },
  {
   "cell_type": "markdown",
   "metadata": {},
   "source": [
    "$$ E_{E,H,d,t} = E_{E,comp,H,d,t} + E_{E,fan,H,d,t} $$\n",
    "\n",
    "$E_{E,H,d,t}$：日付 $d$ の時刻 $t$ における1時間当たりの暖房の消費電力量, kWh/h  \n",
    "$E_{E,fan,H,d,t}$：日付 $d$ の時刻 $t$ における1時間当たりの送風機の消費電力量のうちの暖房設備への付加分, kWh/h  \n",
    "$E_{E,comp,H,d,t}$：日付 $d$ の時刻 $t$ における暖房時の1時間当たりの圧縮機の消費電力量, kWh/h  "
   ]
  },
  {
   "cell_type": "code",
   "execution_count": 19,
   "metadata": {},
   "outputs": [],
   "source": [
    "def get_e_e_h(e_e_comp_h: np.ndarray, e_e_fan_h: np.ndarray) -> np.ndarray:\n",
    "    \"\"\"\n",
    "    calculate the energy consumption for heating\n",
    "    Args:\n",
    "        e_e_comp_h: Energy consumption of compressor, kWh/h (8760 times)\n",
    "        e_e_fan_h: Energy consumption of fan, kWh/h (8760 times)\n",
    "    \"\"\"\n",
    "    \n",
    "    return e_e_comp_h + e_e_fan_h"
   ]
  },
  {
   "cell_type": "markdown",
   "metadata": {},
   "source": [
    "$$ E_{E,C,d,t} = E_{E,comp,C,d,t} + E_{E,fan,C,d,t}  $$\n",
    "\n",
    "$E_{E,C,d,t}$：日付 $d$ の時刻 $t$ における1時間当たりの冷房の消費電力量, kWh/h  \n",
    "$E_{E,fan,C,d,t}$：日付 $d$ の時刻 $t$ における1時間当たりの送風機の消費電力量のうちの冷房設備への付加分, kWh/h  \n",
    "$E_{E,comp,C,d,t}$：日付 $d$ の時刻 $t$ における冷房時の1時間当たりの圧縮機の消費電力量, kWh/h"
   ]
  },
  {
   "cell_type": "code",
   "execution_count": 20,
   "metadata": {},
   "outputs": [],
   "source": [
    "def get_e_e_c(e_e_comp_c: np.ndarray, e_e_fan_c: np.ndarray) -> np.ndarray:\n",
    "    \"\"\"\n",
    "    calculate the energy consumption for cooling\n",
    "    Args:\n",
    "        e_e_comp_c: Energy consumption of compressor, kWh/h (8760 times)\n",
    "        e_e_fan_c: Energy consumption of fan, kWh/h (8760 times)\n",
    "    \"\"\"\n",
    "    \n",
    "    return e_e_comp_c + e_e_fan_c"
   ]
  },
  {
   "cell_type": "code",
   "execution_count": null,
   "metadata": {},
   "outputs": [],
   "source": []
  }
 ],
 "metadata": {
  "kernelspec": {
   "display_name": "Python 3",
   "language": "python",
   "name": "python3"
  },
  "language_info": {
   "codemirror_mode": {
    "name": "ipython",
    "version": 3
   },
   "file_extension": ".py",
   "mimetype": "text/x-python",
   "name": "python",
   "nbconvert_exporter": "python",
   "pygments_lexer": "ipython3",
   "version": "3.6.4"
  }
 },
 "nbformat": 4,
 "nbformat_minor": 2
}
