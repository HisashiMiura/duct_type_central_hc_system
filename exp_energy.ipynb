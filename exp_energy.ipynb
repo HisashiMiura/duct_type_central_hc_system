{
 "cells": [
  {
   "cell_type": "code",
   "execution_count": 1,
   "metadata": {},
   "outputs": [
    {
     "name": "stdout",
     "output_type": "stream",
     "text": [
      "Importing Jupyter notebook from exp_study_case.ipynb\n",
      "Importing Jupyter notebook from exp_external_conditions.ipynb\n",
      "Importing Jupyter notebook from exp_system_spec.ipynb\n",
      "Importing Jupyter notebook from exp_house_spec.ipynb\n",
      "Importing Jupyter notebook from exp_general_property.ipynb\n",
      "Importing Jupyter notebook from exp_occupant_usage.ipynb\n",
      "Importing Jupyter notebook from exp_circulating_air_flow.ipynb\n",
      "Importing Jupyter notebook from exp_load.ipynb\n",
      "Importing Jupyter notebook from exp_treated_and_untreated_heat.ipynb\n"
     ]
    }
   ],
   "source": [
    "import numpy as np\n",
    "import matplotlib.pyplot as plt\n",
    "import nbimporter\n",
    "\n",
    "import central_system as cs\n",
    "import analyze_control as ac\n",
    "import read_load as rl\n",
    "\n",
    "import exp_study_case\n",
    "import exp_external_conditions\n",
    "import exp_system_spec\n",
    "import exp_house_spec\n",
    "import exp_general_property\n",
    "import exp_occupant_usage\n",
    "import exp_circulating_air_flow\n",
    "import exp_load\n",
    "import exp_treated_and_untreated_heat"
   ]
  },
  {
   "cell_type": "markdown",
   "metadata": {},
   "source": [
    "# 0. 検討ケース"
   ]
  },
  {
   "cell_type": "markdown",
   "metadata": {},
   "source": [
    "試算するケースを取得します。"
   ]
  },
  {
   "cell_type": "code",
   "execution_count": 2,
   "metadata": {},
   "outputs": [],
   "source": [
    "case = exp_study_case.get_case()"
   ]
  },
  {
   "cell_type": "markdown",
   "metadata": {},
   "source": [
    "1日グラフを描画する日を取得します。"
   ]
  },
  {
   "cell_type": "code",
   "execution_count": 3,
   "metadata": {},
   "outputs": [],
   "source": [
    "hday, cday = exp_study_case.get_display_day()"
   ]
  },
  {
   "cell_type": "markdown",
   "metadata": {},
   "source": [
    "## 1. 外部モジュールの読み込み"
   ]
  },
  {
   "cell_type": "markdown",
   "metadata": {},
   "source": [
    "### 熱源機の仕様"
   ]
  },
  {
   "cell_type": "markdown",
   "metadata": {},
   "source": [
    "外部モジュール exp_system_spec を参照のこと。\n",
    "\n",
    "$q_{rtd,H}$：定格暖房能力, W  \n",
    "$q_{rtd,C}$：定格冷房能力, W  \n",
    "$V_{hs,rtd,H}$：熱源機の暖房時の定格風量, m<sup>3</sup>/h  \n",
    "$V_{hs,rtd,C}$：熱源機の冷房時の定格風量, m<sup>3</sup>/h  "
   ]
  },
  {
   "cell_type": "code",
   "execution_count": 4,
   "metadata": {},
   "outputs": [
    {
     "data": {
      "text/plain": [
       "(7733.9925600000015, 7664.646360000001, 1800.0, 1800.0, True, False)"
      ]
     },
     "execution_count": 4,
     "metadata": {},
     "output_type": "execute_result"
    }
   ],
   "source": [
    "q_rtd_h, q_rtd_c, v_hs_rtd_h, v_hs_rtd_c, is_duct_insulated, vav_system = \\\n",
    "    exp_system_spec.get_system_spec(case['region'], case['house']['a_a'], case['system'])\n",
    "\n",
    "q_rtd_h, q_rtd_c, v_hs_rtd_h, v_hs_rtd_c, is_duct_insulated, vav_system"
   ]
  },
  {
   "cell_type": "markdown",
   "metadata": {},
   "source": [
    "### 住宅の仕様"
   ]
  },
  {
   "cell_type": "markdown",
   "metadata": {},
   "source": [
    "外部モジュール exp_house_spec を参照のこと。  \n",
    "\n",
    "$r_{env}$：床面積の合計に対する外皮の部位の面積の合計の比  \n",
    "$A_A$：床面積の合計, m<sup>2</sup>  \n",
    "$A_{MR}$：主たる居室の床面積, m<sup>2</sup>  \n",
    "$A_{OR}$：その他の居室の床面積, m<sup>2</sup>  \n",
    "$A_{NR}$：非居室の床面積, m<sup>2</sup>  \n",
    "$A_{HCZ,R,i}$：標準住戸における暖冷房区画 $i$ の床面積, m<sup>2</sup>  \n",
    "$A_{HCZ,i}$：暖冷房区画 $i$ の床面積, m<sup>2</sup>  \n",
    "$A_{prt,i}$：暖冷房区画 $i$ から見た非暖冷房空間の間仕切りの面積, m<sup>2</sup>  \n",
    "$U_{prt}$：間仕切りの熱貫流率, W/m<sup>2</sup>K  \n",
    "$Q$：熱損失係数, W/m<sup>2</sup>K  \n",
    "$\\mu_H$：暖房期の日射取得係数, ((W/m<sup>2</sup>)/(W/m<sup>2</sup>))  \n",
    "$\\mu_C$：冷房期の日射取得係数, ((W/m<sup>2</sup>)/(W/m<sup>2</sup>))  \n",
    "$V_{vent,i}$：暖冷房区画 $i$ の機械換気量, m<sup>3</sup>/h  "
   ]
  },
  {
   "cell_type": "code",
   "execution_count": 5,
   "metadata": {},
   "outputs": [
    {
     "data": {
      "text/plain": [
       "(2.9555555555555557,\n",
       " 120.08,\n",
       " 29.81,\n",
       " 51.34,\n",
       " 38.92999999999999,\n",
       " array([29.81, 16.56, 13.25, 10.76, 10.77,  3.31,  1.66,  3.31, 13.25,\n",
       "         4.97, 10.77,  1.66]),\n",
       " array([37.99636619, 27.7187943 , 22.17838312, 18.01052093, 18.02725933]),\n",
       " 2.1739130434782608,\n",
       " 2.7,\n",
       " 0.101,\n",
       " 0.062,\n",
       " array([60., 20., 40., 20., 20.]))"
      ]
     },
     "execution_count": 5,
     "metadata": {},
     "output_type": "execute_result"
    }
   ],
   "source": [
    "r_env, a_a, a_mr, a_or, a_nr, a_hcz, a_prt, u_prt, q, mu_h, mu_c, v_vent = \\\n",
    "    exp_house_spec.get_house_spec(case['region'], case['house'])\n",
    "r_env, a_a, a_mr, a_or, a_nr, a_hcz, a_prt, u_prt, q, mu_h, mu_c, v_vent"
   ]
  },
  {
   "cell_type": "markdown",
   "metadata": {},
   "source": [
    "### 物性値"
   ]
  },
  {
   "cell_type": "markdown",
   "metadata": {},
   "source": [
    "外部モジュール exp_general_property を参照のこと。\n",
    "\n",
    "$\\rho$：空気の密度, kg/m<sup>3</sup>  \n",
    "$c$：空気の比熱, J/kgK  \n",
    "$L_{wtr}$：水の蒸発潜熱, kJ/kg  \n",
    "「平日」「休日」の別"
   ]
  },
  {
   "cell_type": "code",
   "execution_count": 6,
   "metadata": {},
   "outputs": [
    {
     "data": {
      "text/plain": [
       "(1.2,\n",
       " 1006.0,\n",
       " 2434.5296000000003,\n",
       " array(['休日', '休日', '休日', ..., '休日', '休日', '休日'], dtype=object))"
      ]
     },
     "execution_count": 6,
     "metadata": {},
     "output_type": "execute_result"
    }
   ],
   "source": [
    "rho, c, l_wtr, calender = exp_general_property.get_general_property()\n",
    "rho, c, l_wtr, calender"
   ]
  },
  {
   "cell_type": "markdown",
   "metadata": {},
   "source": [
    "### 気候条件"
   ]
  },
  {
   "cell_type": "markdown",
   "metadata": {},
   "source": [
    "外部モジュール exp_external_conditions を参照のこと。\n",
    "\n",
    "$\\theta_{ex,d,t}$：日付$d$の時刻$t$における外気温度, ℃  \n",
    "$x_{ex,d,t}$：日付$d$の時刻$t$における絶対湿度, kg/kg(DA)  \n",
    "$h_{ex_d,t}$：日付$d$の時刻$t$における相対湿度, %  \n",
    "$J_{d,t}$：日付$d$の時刻$t$における水平面全天日射量, W/m<sup>2</sup>  \n",
    "$\\theta_{SAT,d,t}$：日付$d$の時刻$t$における水平面における等価外気温度, ℃  "
   ]
  },
  {
   "cell_type": "code",
   "execution_count": 7,
   "metadata": {},
   "outputs": [
    {
     "data": {
      "text/plain": [
       "(array([2.6, 2.9, 2.8, ..., 3.1, 2.7, 2.3]),\n",
       " array([0.0033, 0.0032, 0.0032, ..., 0.0032, 0.0032, 0.0032]),\n",
       " array([72.52135498, 68.85197153, 69.34240102, ..., 67.88267058,\n",
       "        69.83672797, 71.8536949 ]),\n",
       " array([0., 0., 0., ..., 0., 0., 0.]),\n",
       " array([2.6, 2.9, 2.8, ..., 3.1, 2.7, 2.3]))"
      ]
     },
     "execution_count": 7,
     "metadata": {},
     "output_type": "execute_result"
    }
   ],
   "source": [
    "theta_ex, x_ex, h_ex, j, theta_sat = exp_external_conditions.get_external_conditions(case['region'])\n",
    "theta_ex, x_ex, h_ex, j, theta_sat"
   ]
  },
  {
   "cell_type": "markdown",
   "metadata": {},
   "source": [
    "### 居住者の使い方"
   ]
  },
  {
   "cell_type": "markdown",
   "metadata": {},
   "source": [
    "外部モジュール exp_occupant_usage を参照のこと。\n",
    "\n",
    "暖冷房期間  \n",
    "$n_{p,d,t}$：日付$d$の時刻$t$における在室人数  \n",
    "$q_{gen,d,t}$：日付$d$の時刻$t$における内部発熱, W  \n",
    "$w_{gen,d,t}$：日付$d$の時刻$t$における内部発湿, g/h  \n",
    "$V_{local,d,t}$：日付$d$時刻$t$における局所換気量, m<sup>3</sup>/h  \n",
    "$V_{local,MR,d,t}$：日付$d$時刻$t$における主たる居室の局所換気量, m<sup>3</sup>/h  \n",
    "$V_{local,OR,d,t}$：日付$d$時刻$t$におけるその他の居室の局所換気量, m<sup>3</sup>/h  \n",
    "$V_{local,NR,d,t}$：日付$d$時刻$t$における非居室の局所換気量, m<sup>3</sup>/h  \n",
    "$\\theta_{set,h}$：暖房時の設定温度, ℃  \n",
    "$\\theta_{set,c}$：冷房時の設定温度, ℃  \n",
    "$X_{set,c}$：冷房時の設定絶対湿度, kg/kgDA  "
   ]
  },
  {
   "cell_type": "code",
   "execution_count": 8,
   "metadata": {},
   "outputs": [
    {
     "data": {
      "text/plain": [
       "(array(['h', 'h', 'h', ..., 'h', 'h', 'h'], dtype='<U1'),\n",
       " array([4., 4., 4., ..., 4., 3., 3.]),\n",
       " array([126.4, 126.4, 126.4, ..., 763. , 815. , 242.7]),\n",
       " array([0., 0., 0., ..., 0., 0., 0.]),\n",
       " array([  0. ,   0. ,   0. , ...,  25. ,  27. , 100.8]),\n",
       " array([0., 0., 0., ..., 0., 0., 0.]),\n",
       " array([0., 0., 0., ..., 0., 0., 0.]),\n",
       " array([  0. ,   0. ,   0. , ...,  25. ,  27. , 100.8]),\n",
       " 20.0,\n",
       " 27.0,\n",
       " 0.013425743)"
      ]
     },
     "execution_count": 8,
     "metadata": {},
     "output_type": "execute_result"
    }
   ],
   "source": [
    "hc_period, n_p, q_gen, w_gen, v_local, v_local_mr, v_local_or, v_local_nr, theta_set_h, theta_set_c, x_set_c \\\n",
    "    = exp_occupant_usage.get_occupant_usage(case['region'], a_mr, a_or, a_nr, calender)\n",
    "hc_period, n_p, q_gen, w_gen, v_local, v_local_mr, v_local_or, v_local_nr, theta_set_h, theta_set_c, x_set_c"
   ]
  },
  {
   "cell_type": "markdown",
   "metadata": {},
   "source": [
    "### 循環風量"
   ]
  },
  {
   "cell_type": "markdown",
   "metadata": {},
   "source": [
    "外部モジュール exp_circulating_air_flow を参照のこと。\n",
    "\n",
    "$V'_{supply,d,t,i}$：日付 $d$ の時刻 $t$ における暖冷房区画 $i$ へのVAV調整前の吹き出し風量, m<sup>3</sup>/h  "
   ]
  },
  {
   "cell_type": "code",
   "execution_count": 9,
   "metadata": {},
   "outputs": [
    {
     "data": {
      "text/plain": [
       "array([[468.11565231, 460.46390045, 463.0144844 , ..., 416.81045706,\n",
       "        430.28097496, 519.46598863],\n",
       "       [260.04680316, 255.79611511, 257.21301113, ..., 231.54582922,\n",
       "        239.02894818, 288.5728538 ],\n",
       "       [208.06884915, 204.66778534, 205.80147328, ..., 185.26462785,\n",
       "        191.25202678, 230.89313483],\n",
       "       [168.96760882, 166.20568832, 167.12632849, ..., 150.44886005,\n",
       "        155.31107986, 187.50265138],\n",
       "       [169.12464191, 166.36015458, 167.28165035, ..., 150.58868241,\n",
       "        155.45542101, 187.67691035]])"
      ]
     },
     "execution_count": 9,
     "metadata": {},
     "output_type": "execute_result"
    }
   ],
   "source": [
    "v_d_supply = exp_circulating_air_flow.get_circulating_air_flow(\n",
    "    a_a, a_hcz, q, mu_h, mu_c, v_vent, theta_ex, x_ex, j, hc_period, n_p, q_gen, w_gen, v_local,\n",
    "    theta_set_h, theta_set_c, x_set_c,\n",
    "    q_rtd_h, q_rtd_c, v_hs_rtd_h, v_hs_rtd_c)\n",
    "v_d_supply"
   ]
  },
  {
   "cell_type": "markdown",
   "metadata": {},
   "source": [
    "### 暖冷房負荷"
   ]
  },
  {
   "cell_type": "markdown",
   "metadata": {},
   "source": [
    "外部モジュール exp_load を参照のこと。\n",
    "\n",
    "$\\theta_{ac,d,t}$：日付 $d$ の時刻 $t$ における暖冷房室の温度, ℃  \n",
    "$X_{ac,d,t}$：日付 $d$ の時刻 $t$ における暖冷房室の絶対湿度, kg/kgDA  \n",
    "$\\theta'_{nac,d,t}$：日付 $d$ の時刻 $t$ における負荷バランス時（※）の非暖冷房空間の温度, ℃  \n",
    "$X'_{nac,d,t}$：日付 $d$ の時刻 $t$ における負荷バランス時（※）の非暖冷房空間の絶対湿度, kg/kgDA  \n",
    "$L'_{H,d,t,i}$：日付 $d$ の時刻 $t$ における室 $i$ の1時間当たりの負荷バランス時（※）の間仕切り熱損失を含む暖房負荷, MJ/h  \n",
    "$L'_{CS,d,t,i}$：日付 $d$ の時刻 $t$ における室 $i$ の1時間当たりの負荷バランス時（※）の間仕切り熱取得を含む顕熱冷房負荷, MJ/h  \n",
    "$L'_{CL,d,t,i}$：日付 $d$ の時刻 $t$ における室 $i$ の1時間当たりの負荷バランス時（※）の間仕切り熱取得を含む潜熱冷房負荷, MJ/h  "
   ]
  },
  {
   "cell_type": "code",
   "execution_count": 10,
   "metadata": {
    "scrolled": true
   },
   "outputs": [
    {
     "data": {
      "text/plain": [
       "(array([20., 20., 20., ..., 20., 20., 20.]),\n",
       " array([0.0033, 0.0032, 0.0032, ..., 0.0032, 0.0032, 0.0032]),\n",
       " array([18.22650001, 18.21220063, 18.21209577, ..., 18.26895061,\n",
       "        17.59949068, 18.40234349]),\n",
       " array([0.0033, 0.0032, 0.0032, ..., 0.0032, 0.0032, 0.0032]),\n",
       " array([[6.23047304, 6.18962515, 6.21026632, ..., 4.85221981, 6.20658233,\n",
       "         6.20986372],\n",
       "        [2.71332481, 2.70425677, 2.71106952, ..., 2.52805602, 2.78206175,\n",
       "         2.68936914],\n",
       "        [1.78903631, 1.77070826, 1.77257646, ..., 2.11568816, 1.88899629,\n",
       "         1.77185517],\n",
       "        [1.6671682 , 1.65175372, 1.6561385 , ..., 1.13881471, 1.69095636,\n",
       "         1.64532273],\n",
       "        [2.07205052, 2.05445792, 2.05877271, ..., 1.55268147, 2.08076081,\n",
       "         2.04792201]]),\n",
       " array([[0., 0., 0., ..., 0., 0., 0.],\n",
       "        [0., 0., 0., ..., 0., 0., 0.],\n",
       "        [0., 0., 0., ..., 0., 0., 0.],\n",
       "        [0., 0., 0., ..., 0., 0., 0.],\n",
       "        [0., 0., 0., ..., 0., 0., 0.]]),\n",
       " array([[-0., -0., -0., ..., -0., -0., -0.],\n",
       "        [-0., -0., -0., ..., -0., -0., -0.],\n",
       "        [-0., -0., -0., ..., -0., -0., -0.],\n",
       "        [-0., -0., -0., ..., -0., -0., -0.],\n",
       "        [-0., -0., -0., ..., -0., -0., -0.]]))"
      ]
     },
     "execution_count": 10,
     "metadata": {},
     "output_type": "execute_result"
    }
   ],
   "source": [
    "theta_ac, x_ac, theta_d_nac, x_d_nac, l_d_h, l_d_cs, l_d_cl = exp_load.get_load(\n",
    "    case['region'], case['house'], hc_period, theta_ex, x_ex, theta_set_h, theta_set_c, x_set_c,\n",
    "    q, a_nr, v_local_nr, v_d_supply, u_prt, a_prt)\n",
    "theta_ac, x_ac, theta_d_nac, x_d_nac, l_d_h, l_d_cs, l_d_cl"
   ]
  },
  {
   "cell_type": "markdown",
   "metadata": {},
   "source": [
    "### 処理・未処理熱量"
   ]
  },
  {
   "cell_type": "markdown",
   "metadata": {},
   "source": [
    "外部モジュール exp_treated_and_untreated_heat を参照のこと。\n",
    "\n",
    "$\\theta_{hs,in,d,t}$：日付 $d$ の時刻 $t$ における熱源機入り口温度, ℃  \n",
    "$X_{hs,in,d,t}$：日付 $d$ の時刻 $t$ における熱源機入り口絶対湿度, kg/kgDA  \n",
    "$\\theta_{hs,out,H,d,t}$：日付 $d$ の時刻 $t$ における暖房時の熱源機の出口空気温度, ℃  \n",
    "$\\theta_{hs,out,C,d,t}$：日付 $d$ の時刻 $t$ における冷房時の熱源機の出口空気温度, ℃  \n",
    "$X_{hs,out,C,d,t}$：日付 $d$ の時刻 $t$ における冷房時の熱源機の出口空気絶対湿度, kg/kgDA  \n",
    "$V_{supply,d,t,i}$：日付 $d$ の時刻 $t$ における暖冷房区画 $i$ への吹き出し風量, m<sup>3</sup>/h  \n",
    "運転状態：'h'=暖房運転中, 'c'=冷房運転中, 'n'=運転停止中"
   ]
  },
  {
   "cell_type": "code",
   "execution_count": 11,
   "metadata": {},
   "outputs": [],
   "source": [
    "theta_hs_in, x_hs_in, theta_hs_out_h, theta_hs_out_c, x_hs_out_c, v_supply, operation = exp_treated_and_untreated_heat.get_heat(\n",
    "    case['region'], a_a, a_hcz, u_prt, a_prt, q, a_nr, q_rtd_h, q_rtd_c,\n",
    "    theta_sat, theta_ac, x_ac, is_duct_insulated, theta_d_nac, x_d_nac, vav_system,\n",
    "    hc_period, l_d_h, l_d_cs, l_d_cl, v_d_supply, v_vent, v_local_nr)"
   ]
  },
  {
   "cell_type": "code",
   "execution_count": 12,
   "metadata": {},
   "outputs": [
    {
     "data": {
      "text/plain": [
       "(array([18.5240316 , 18.50963642, 18.51046802, ..., 18.415953  ,\n",
       "        17.87536822, 18.67745285]),\n",
       " array([0.0033, 0.0032, 0.0032, ..., 0.0032, 0.0032, 0.0032]),\n",
       " array([30.13211912, 30.24083678, 30.20715332, ..., 29.65611796,\n",
       "        31.22999636, 28.9962581 ]),\n",
       " array([20., 20., 20., ..., 20., 20., 20.]),\n",
       " array([0.0033, 0.0032, 0.0032, ..., 0.0032, 0.0032, 0.0032]),\n",
       " array([[468.11565231, 460.46390045, 463.0144844 , ..., 416.81045706,\n",
       "         430.28097496, 519.46598863],\n",
       "        [260.04680316, 255.79611511, 257.21301113, ..., 231.54582922,\n",
       "         239.02894818, 288.5728538 ],\n",
       "        [208.06884915, 204.66778534, 205.80147328, ..., 185.26462785,\n",
       "         191.25202678, 230.89313483],\n",
       "        [168.96760882, 166.20568832, 167.12632849, ..., 150.44886005,\n",
       "         155.31107986, 187.50265138],\n",
       "        [169.12464191, 166.36015458, 167.28165035, ..., 150.58868241,\n",
       "         155.45542101, 187.67691035]]),\n",
       " array(['h', 'h', 'h', ..., 'h', 'h', 'h'], dtype='<U1'))"
      ]
     },
     "execution_count": 12,
     "metadata": {},
     "output_type": "execute_result"
    }
   ],
   "source": [
    "theta_hs_in, x_hs_in, theta_hs_out_h, theta_hs_out_c, x_hs_out_c, v_supply, operation"
   ]
  },
  {
   "cell_type": "code",
   "execution_count": null,
   "metadata": {},
   "outputs": [],
   "source": []
  }
 ],
 "metadata": {
  "kernelspec": {
   "display_name": "Python 3",
   "language": "python",
   "name": "python3"
  },
  "language_info": {
   "codemirror_mode": {
    "name": "ipython",
    "version": 3
   },
   "file_extension": ".py",
   "mimetype": "text/x-python",
   "name": "python",
   "nbconvert_exporter": "python",
   "pygments_lexer": "ipython3",
   "version": "3.6.4"
  }
 },
 "nbformat": 4,
 "nbformat_minor": 2
}
