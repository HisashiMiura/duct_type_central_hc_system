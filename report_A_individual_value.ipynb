{
 "cells": [
  {
   "cell_type": "code",
   "execution_count": 1,
   "metadata": {},
   "outputs": [],
   "source": [
    "import numpy as np\n",
    "\n",
    "import analyze_control as ac"
   ]
  },
  {
   "cell_type": "code",
   "execution_count": 2,
   "metadata": {},
   "outputs": [
    {
     "name": "stdout",
     "output_type": "stream",
     "text": [
      "duct length:\n",
      "  room1:25.6\n",
      "  room2:8.6\n",
      "  room3:10.2\n",
      "  room4:11.8\n",
      "  room5:8.1\n",
      "air conditioned temperature, degree C:\n",
      "  heating:20.0\n",
      "  cooling:27.0\n"
     ]
    },
    {
     "data": {
      "text/plain": [
       "{'duct_length': array([25.6,  8.6, 10.2, 11.8,  8.1]),\n",
       " 'air_conditioned_temperature': {'heating': array([20., 20., 20., ..., 20., 20., 20.]),\n",
       "  'cooling': array([27., 27., 27., ..., 27., 27., 27.])}}"
      ]
     },
     "execution_count": 2,
     "metadata": {},
     "output_type": "execute_result"
    }
   ],
   "source": [
    "CASE = 6\n",
    "ac.get_main_value(CASE,8)"
   ]
  },
  {
   "cell_type": "code",
   "execution_count": null,
   "metadata": {},
   "outputs": [],
   "source": []
  }
 ],
 "metadata": {
  "kernelspec": {
   "display_name": "Python 3",
   "language": "python",
   "name": "python3"
  },
  "language_info": {
   "codemirror_mode": {
    "name": "ipython",
    "version": 3
   },
   "file_extension": ".py",
   "mimetype": "text/x-python",
   "name": "python",
   "nbconvert_exporter": "python",
   "pygments_lexer": "ipython3",
   "version": "3.6.4"
  }
 },
 "nbformat": 4,
 "nbformat_minor": 2
}
