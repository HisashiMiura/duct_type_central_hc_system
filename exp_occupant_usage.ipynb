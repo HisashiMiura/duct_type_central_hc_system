{
 "cells": [
  {
   "cell_type": "code",
   "execution_count": 1,
   "metadata": {},
   "outputs": [
    {
     "name": "stdout",
     "output_type": "stream",
     "text": [
      "Importing Jupyter notebook from exp_study_case.ipynb\n",
      "Importing Jupyter notebook from exp_house_spec.ipynb\n",
      "Importing Jupyter notebook from exp_general_property.ipynb\n"
     ]
    }
   ],
   "source": [
    "import numpy as np\n",
    "import matplotlib.pyplot as plt\n",
    "import nbimporter\n",
    "import pandas as pd\n",
    "\n",
    "import central_system as cs\n",
    "import analyze_control as ac\n",
    "import read_load as rl\n",
    "\n",
    "import exp_study_case\n",
    "import exp_house_spec\n",
    "import exp_general_property"
   ]
  },
  {
   "cell_type": "markdown",
   "metadata": {},
   "source": [
    "# 居住者の使い方"
   ]
  },
  {
   "cell_type": "markdown",
   "metadata": {},
   "source": [
    "本モジュールでは負荷計算等の与条件となる居住者の使い方について示します。  "
   ]
  },
  {
   "cell_type": "markdown",
   "metadata": {},
   "source": [
    "## 0. 検討ケース"
   ]
  },
  {
   "cell_type": "markdown",
   "metadata": {},
   "source": [
    "試算するケースを取得します。"
   ]
  },
  {
   "cell_type": "code",
   "execution_count": 2,
   "metadata": {
    "scrolled": true
   },
   "outputs": [
    {
     "data": {
      "text/plain": [
       "{'region': 6,\n",
       " 'house': {'a_mr': 29.81,\n",
       "  'a_or': 51.34,\n",
       "  'a_a': 120.08,\n",
       "  'r_env': 2.9555555555555557,\n",
       "  'insulation': 'h11',\n",
       "  'solar_gain': 'middle'},\n",
       " 'system': {'default_heat_source_spec': True,\n",
       "  'v_hs_rtd_h': 1800.0,\n",
       "  'v_hs_rtd_c': 1800.0,\n",
       "  'is_duct_insulated': True,\n",
       "  'vav_system': False,\n",
       "  'cap_rtd_h': None,\n",
       "  'cap_rtd_c': None}}"
      ]
     },
     "execution_count": 2,
     "metadata": {},
     "output_type": "execute_result"
    }
   ],
   "source": [
    "case = exp_study_case.get_case()\n",
    "case"
   ]
  },
  {
   "cell_type": "markdown",
   "metadata": {},
   "source": [
    "## 1. 外部モジュールの読み込み"
   ]
  },
  {
   "cell_type": "markdown",
   "metadata": {},
   "source": [
    "### 住宅の仕様"
   ]
  },
  {
   "cell_type": "markdown",
   "metadata": {},
   "source": [
    "外部モジュール exp_house_spec.get_house_spec を参照のこと。  \n",
    "\n",
    "$r_{env}$：床面積の合計に対する外皮の部位の面積の合計の比  \n",
    "$A_A$：床面積の合計, m<sup>2</sup>  \n",
    "$A_{MR}$：主たる居室の床面積, m<sup>2</sup>  \n",
    "$A_{OR}$：その他の居室の床面積, m<sup>2</sup>  \n",
    "$A_{NR}$：非居室の床面積, m<sup>2</sup>  \n",
    "$A_{HCZ,R,i}$：標準住戸における暖冷房区画 $i$ の床面積, m<sup>2</sup>  \n",
    "$A_{HCZ,i}$：暖冷房区画 $i$ の床面積, m<sup>2</sup>  \n",
    "$A_{prt,i}$：暖冷房区画 $i$ から見た非暖冷房空間の間仕切りの面積, m<sup>2</sup>  \n",
    "$U_{prt}$：間仕切りの熱貫流率, W/m<sup>2</sup>K  \n",
    "$Q$：熱損失係数, W/m<sup>2</sup>K  \n",
    "$\\mu_H$：暖房期の日射取得係数, ((W/m<sup>2</sup>)/(W/m<sup>2</sup>))  \n",
    "$\\mu_C$：冷房期の日射取得係数, ((W/m<sup>2</sup>)/(W/m<sup>2</sup>))  \n",
    "$V_{vent,i}$：暖冷房区画 $i$ の機械換気量, m<sup>3</sup>/h  "
   ]
  },
  {
   "cell_type": "code",
   "execution_count": 3,
   "metadata": {
    "scrolled": true
   },
   "outputs": [
    {
     "data": {
      "text/plain": [
       "(2.9555555555555557,\n",
       " 120.08,\n",
       " 29.81,\n",
       " 51.34,\n",
       " 38.92999999999999,\n",
       " array([29.81, 16.56, 13.25, 10.76, 10.77,  3.31,  1.66,  3.31, 13.25,\n",
       "         4.97, 10.77,  1.66]),\n",
       " array([37.99636619, 27.7187943 , 22.17838312, 18.01052093, 18.02725933]),\n",
       " 2.1739130434782608,\n",
       " 2.7,\n",
       " 0.101,\n",
       " 0.062,\n",
       " array([60., 20., 40., 20., 20.]))"
      ]
     },
     "execution_count": 3,
     "metadata": {},
     "output_type": "execute_result"
    }
   ],
   "source": [
    "r_env, a_a, a_mr, a_or, a_nr, a_hcz, a_prt, u_prt, q, mu_h, mu_c, v_vent = \\\n",
    "    exp_house_spec.get_house_spec(case['region'], case['house'])\n",
    "r_env, a_a, a_mr, a_or, a_nr, a_hcz, a_prt, u_prt, q, mu_h, mu_c, v_vent"
   ]
  },
  {
   "cell_type": "markdown",
   "metadata": {},
   "source": [
    "### 物性値"
   ]
  },
  {
   "cell_type": "markdown",
   "metadata": {},
   "source": [
    "外部モジュール exp_general_property を参照のこと。\n",
    "\n",
    "$\\rho$：空気の密度, kg/m<sup>3</sup>  \n",
    "$c$：空気の比熱, J/kgK  \n",
    "$L_{wtr}$：水の蒸発潜熱, kJ/kg  \n",
    "暖冷房期間"
   ]
  },
  {
   "cell_type": "code",
   "execution_count": 4,
   "metadata": {},
   "outputs": [
    {
     "data": {
      "text/plain": [
       "(1.2,\n",
       " 1006.0,\n",
       " 2434.5296000000003,\n",
       " array(['休日', '休日', '休日', ..., '休日', '休日', '休日'], dtype=object))"
      ]
     },
     "execution_count": 4,
     "metadata": {},
     "output_type": "execute_result"
    }
   ],
   "source": [
    "rho, c, l_wtr, calender = exp_general_property.get_general_property()\n",
    "rho, c, l_wtr, calender"
   ]
  },
  {
   "cell_type": "markdown",
   "metadata": {},
   "source": [
    "## 2. 暖冷房期間"
   ]
  },
  {
   "cell_type": "markdown",
   "metadata": {},
   "source": [
    "暖冷房期間は地域に応じて以下のように定まるとする。"
   ]
  },
  {
   "cell_type": "markdown",
   "metadata": {},
   "source": [
    "| 地域 | 暖房期間 | 冷房期間 |\n",
    "| --- | --- | --- |\n",
    "| 1地域 | 9/24～6/7 | 7/10～8/31 |\n",
    "| 2地域 | 9/26～6/4 | 7/15～8/31 |\n",
    "| 3地域 | 9/30～5/31 | 7/10～8/31 |\n",
    "| 4地域 | 10/1～5/30 | 7/10～8/31 |\n",
    "| 5地域 | 10/10～5/15 | 7/6～8/31 |\n",
    "| 6地域 | 11/4～4/21 | 5/30～9/23 |\n",
    "| 7地域 | 11/26～3/27 | 5/15～10/13 |\n",
    "| 8地域 | なし | 3/25～12/14 |"
   ]
  },
  {
   "cell_type": "code",
   "execution_count": 5,
   "metadata": {},
   "outputs": [
    {
     "data": {
      "text/plain": [
       "(array([ True,  True,  True, ...,  True,  True,  True]),\n",
       " array([False, False, False, ..., False, False, False]))"
      ]
     },
     "execution_count": 5,
     "metadata": {},
     "output_type": "execute_result"
    }
   ],
   "source": [
    "heating_period, cooling_period = cs.get_heating_and_cooling_schedule(case['region'])\n",
    "heating_period, cooling_period"
   ]
  },
  {
   "cell_type": "markdown",
   "metadata": {},
   "source": [
    "## 3.  在室人数スケジュール"
   ]
  },
  {
   "cell_type": "markdown",
   "metadata": {},
   "source": [
    "$$ n_{p,d,t} = n_{p,MR,d,t} + n_{p,OR,d,t} + n_{p,NR,d,t} $$  \n",
    "$$ n_{p,MR,d,t} = n_{s,p,MR,d,t} \\frac{ A_{MR} }{ 29.81 } $$  \n",
    "$$ n_{p,OR,d,t} = n_{s,p,OR,d,t} \\frac{ A_{OR} }{ 51.34 } $$  \n",
    "$$ n_{p,NR,d,t} = n_{s,p,NR,d,t} \\frac{ A_{NR} }{ 38.93 } $$  \n",
    "\n",
    "$n_{p,d,t}$：日付$d$の時刻$t$における在室人数  \n",
    "$n_{p,MR,d,t}$：日付$d$の時刻$t$における主たる居室の在室人数  \n",
    "$n_{p,MR,d,t}$：日付$d$の時刻$t$におけるその他の居室の在室人数  \n",
    "$n_{p,MR,d,t}$：日付$d$の時刻$t$における非居室の在室人数  \n",
    "$n_{s,p,MR,d,t}$：日付$d$の時刻$t$における標準住戸の主たる居室の在室人数  \n",
    "$n_{s,p,MR,d,t}$：日付$d$の時刻$t$における標準住戸のその他の居室の在室人数  \n",
    "$n_{s,p,MR,d,t}$：日付$d$の時刻$t$における標準住戸の非居室の在室人数  \n",
    "$A_{MR}$：主たる居室の床面積, m<sup>2</sup>  \n",
    "$A_{OR}$：その他居室の床面積, m<sup>2</sup>  \n",
    "$A_{NR}$：非居室の床面積, m<sup>2</sup>  "
   ]
  },
  {
   "cell_type": "markdown",
   "metadata": {},
   "source": [
    "標準住戸における在室人数（人）\n",
    "\n",
    "平日\n",
    "\n",
    "| 居室の種類 | 0 | 1 | 2 | 3 | 4 | 5 | 6 | 7 | 8 | 9 | 10 | 11 | 12 | 13 | 14 | 15 | 16 | 17 | 18 | 19 | 20 | 21 | 22 | 23 |\n",
    "| --- | --- | --- | --- | --- | --- | --- | --- | --- | --- | --- | --- | --- | --- | --- | --- | --- | --- | --- | --- | --- | --- | --- | --- | --- |\n",
    "| 主たる居室 | 0 | 0 | 0 | 0 | 0 | 0 | 1 | 2 | 1 | 1 | 0 | 0 | 1 | 1 | 0 | 0 | 1 | 2 | 2 | 3 | 3 | 2 | 1 | 1 |\n",
    "| その他の居室 | 4 | 4 | 4 | 4 | 4 | 4 | 3 | 0 | 0 | 0 | 0 | 0 | 0 | 0 | 0 | 0 | 0 | 0 | 1 | 0 | 1 | 1 | 2 | 3 |\n",
    "| 非居室 | 0 | 0 | 0 | 0 | 0 | 0 | 0 | 0 | 0 | 0 | 0 | 0 | 0 | 0 | 0 | 0 | 0 | 0 | 0 | 0 | 0 | 0 | 0 | 0 |\n",
    "\n",
    "休日\n",
    "\n",
    "| 居室の種類 | 0 | 1 | 2 | 3 | 4 | 5 | 6 | 7 | 8 | 9 | 10 | 11 | 12 | 13 | 14 | 15 | 16 | 17 | 18 | 19 | 20 | 21 | 22 | 23 |\n",
    "| --- | --- | --- | --- | --- | --- | --- | --- | --- | --- | --- | --- | --- | --- | --- | --- | --- | --- | --- | --- | --- | --- | --- | --- | --- |\n",
    "| 主たる居室 | 0 | 0 | 0 | 0 | 0 | 0 | 0 | 0 | 3 | 2 | 2 | 2 | 2 | 1 | 0 | 0 | 2 | 3 | 3 | 4 | 2 | 2 | 1 | 0 |\n",
    "| その他の居室 | 4 | 4 | 4 | 4 | 4 | 4 | 4 | 3 | 1 | 2 | 2 | 2 | 1 | 0 | 0 | 0 | 1 | 1 | 1 | 0 | 2 | 2 | 2 | 3 |\n",
    "| 非居室 | 0 | 0 | 0 | 0 | 0 | 0 | 0 | 0 | 0 | 0 | 0 | 0 | 0 | 0 | 0 | 0 | 0 | 0 | 0 | 0 | 0 | 0 | 0 | 0 |"
   ]
  },
  {
   "cell_type": "code",
   "execution_count": 6,
   "metadata": {
    "scrolled": false
   },
   "outputs": [
    {
     "data": {
      "text/plain": [
       "(array([4., 4., 4., ..., 4., 3., 3.]),\n",
       " array([0., 0., 0., ..., 2., 1., 0.]),\n",
       " array([4., 4., 4., ..., 2., 2., 3.]),\n",
       " array([0., 0., 0., ..., 0., 0., 0.]))"
      ]
     },
     "execution_count": 6,
     "metadata": {},
     "output_type": "execute_result"
    }
   ],
   "source": [
    "n_p, n_p_mr, n_p_or, n_p_nr = cs.get_n_p(a_mr, a_or, a_nr, calender)\n",
    "n_p, n_p_mr, n_p_or, n_p_nr"
   ]
  },
  {
   "cell_type": "markdown",
   "metadata": {},
   "source": [
    "## 4. 内部発熱スケジュール"
   ]
  },
  {
   "cell_type": "markdown",
   "metadata": {},
   "source": [
    "$$ q_{gen,d,t} = q_{gen,MR,d,t} + q_{gen,OR,d,t} + q_{gen,NR,d,t} $$\n",
    "$$ q_{gen,MR,d,t} = q_{s,gen,MR,d,t} \\frac{ A_{MR} }{ 29.81 } $$  \n",
    "$$ q_{gen,OR,d,t} = q_{s,gen,OR,d,t} \\frac{ A_{OR} }{ 51.34 } $$  \n",
    "$$ q_{gen,NR,d,t} = q_{s,gen,NR,d,t} \\frac{ A_{NR} }{ 38.93 } $$  \n",
    "\n",
    "$q_{gen,d,t}$：日付$d$の時刻$t$における内部発熱, W    \n",
    "$q_{gen,MR,d,t}$：日付$d$の時刻$t$における主たる居室の内部発熱, W    \n",
    "$q_{gen,MR,d,t}$：日付$d$の時刻$t$におけるその他の居室の内部発熱, W  \n",
    "$q_{gen,MR,d,t}$：日付$d$の時刻$t$における非居室の内部発熱, W  \n",
    "$q_{s,gen,MR,d,t}$：日付$d$の時刻$t$における標準住戸の主たる居室の内部発熱, W    \n",
    "$q_{s,gen,MR,d,t}$：日付$d$の時刻$t$における標準住戸のその他の居室の内部発熱, W  \n",
    "$q_{s,gen,MR,d,t}$：日付$d$の時刻$t$における標準住戸の非居室の内部発熱, W  \n",
    "$A_{MR}$：主たる居室の床面積, m<sup>2</sup>  \n",
    "$A_{OR}$：その他居室の床面積, m<sup>2</sup>  \n",
    "$A_{NR}$：非居室の床面積, m<sup>2</sup>  "
   ]
  },
  {
   "cell_type": "markdown",
   "metadata": {},
   "source": [
    "標準住戸における内部発熱, W\n",
    "\n",
    "平日\n",
    "\n",
    "| 居室の種類 | 0 | 1 | 2 | 3 | 4 | 5 | 6 | 7 | 8 | 9 | 10 | 11 | 12 | 13 | 14 | 15 | 16 | 17 | 18 | 19 | 20 | 21 | 22 | 23 |\n",
    "| --- | --- | --- | --- | --- | --- | --- | --- | --- | --- | --- | --- | --- | --- | --- | --- | --- | --- | --- | --- | --- | --- | --- | --- | --- |\n",
    "| 主たる居室 | 66.9 | 66.9 | 66.9 | 66.9 | 66.9 | 66.9 | 123.9 | 383.6 | 323.2 | 307.3 | 134.8 | 66.9 | 286.7 | 271.2 | 66.9 | 66.9 | 236.9 | 288.6 | 407.8 | 383.1 | 423.1 | 339.1 | 312.9 | 278 |  \n",
    "| その他の居室 | 18 | 18 | 18 | 18 | 18 | 18 | 18 | 18 | 18 | 398.2 | 18 | 18 | 18 | 18 | 18 | 18 | 18 | 18 | 53 | 53 | 115.5 | 103 | 258.3 | 137.3 |\n",
    "| 非居室 | 41.5 | 41.5 | 41.5 | 41.5 | 41.5 | 41.5 | 126.1 | 249.9 | 158.3 | 191.3 | 117.5 | 41.5 | 42.5 | 89 | 41.5 | 41.5 | 105.8 | 105.8 | 112.1 | 118.5 | 155.7 | 416.1 | 314.8 | 174.9 |\n",
    "\n",
    "休日\n",
    "\n",
    "| 居室の種類 | 0 | 1 | 2 | 3 | 4 | 5 | 6 | 7 | 8 | 9 | 10 | 11 | 12 | 13 | 14 | 15 | 16 | 17 | 18 | 19 | 20 | 21 | 22 | 23 |\n",
    "| --- | --- | --- | --- | --- | --- | --- | --- | --- | --- | --- | --- | --- | --- | --- | --- | --- | --- | --- | --- | --- | --- | --- | --- | --- |  \n",
    "| 主たる居室 | 66.9 | 66.9 | 66.9 | 66.9 | 66.9 | 66.9 | 66.9 | 66.9 | 440.5 | 443.3 | 515.1 | 488.9 | 422.9 | 174.4 | 66.9 | 66.9 | 237.8 | 407.8 | 383.1 | 326.8 | 339.1 | 339.1 | 312.9 | 66.9 |\n",
    "| その他の居室 | 18 | 18 | 18 | 18 | 18 | 18 | 18 | 18 | 35.5 | 654.3 | 223 | 223 | 53 | 18 | 18 | 18 | 93 | 93 | 55.5 | 18 | 270 | 168.8 | 270 | 18 |\n",
    "| 非居室 | 41.5 | 41.5 | 41.5 | 41.5 | 41.5 | 41.5 | 41.5 | 281.3 | 311 | 269.5 | 100.4 | 106.7 | 98.5 | 55.8 | 41.5 | 41.5 | 158.4 | 171.3 | 82.7 | 101.4 | 99.5 | 255.1 | 232.1 | 157.8 |"
   ]
  },
  {
   "cell_type": "code",
   "execution_count": 7,
   "metadata": {
    "scrolled": true
   },
   "outputs": [
    {
     "data": {
      "text/plain": [
       "(array([126.4, 126.4, 126.4, ..., 763. , 815. , 242.7]),\n",
       " array([ 66.9,  66.9,  66.9, ..., 339.1, 312.9,  66.9]),\n",
       " array([ 18. ,  18. ,  18. , ..., 168.8, 270. ,  18. ]),\n",
       " array([ 41.5,  41.5,  41.5, ..., 255.1, 232.1, 157.8]))"
      ]
     },
     "execution_count": 7,
     "metadata": {},
     "output_type": "execute_result"
    }
   ],
   "source": [
    "q_gen, q_gen_mr, q_gen_or, q_gen_nr = cs.get_q_gen(a_mr, a_or, a_nr, calender)\n",
    "q_gen, q_gen_mr, q_gen_or, q_gen_nr"
   ]
  },
  {
   "cell_type": "markdown",
   "metadata": {},
   "source": [
    "## 5. 内部発湿スケジュール"
   ]
  },
  {
   "cell_type": "markdown",
   "metadata": {},
   "source": [
    "$$ w_{gen,d,t} = w_{gen,MR,d,t} + w_{gen,OR,d,t} + w_{gen,NR,d,t} $$\n",
    "$$ w_{gen,MR,d,t} = w_{s,gen,MR,d,t} \\frac{ A_{MR} }{ 29.81 } $$  \n",
    "$$ w_{gen,OR,d,t} = w_{s,gen,OR,d,t} \\frac{ A_{OR} }{ 51.34 } $$  \n",
    "$$ w_{gen,NR,d,t} = w_{s,gen,NR,d,t} \\frac{ A_{NR} }{ 38.93 } $$  \n",
    "\n",
    "$w_{gen,d,t}$：日付$d$の時刻$t$における内部発湿, g/h    \n",
    "$w_{gen,MR,d,t}$：日付$d$の時刻$t$における主たる居室の内部発湿, g/h    \n",
    "$w_{gen,NR,d,t}$：日付$d$の時刻$t$におけるその他の居室の内部発湿, g/h  \n",
    "$w_{gen,OR,d,t}$：日付$d$の時刻$t$における非居室の内部発湿, g/h  \n",
    "$w_{s,gen,MR,d,t}$：日付$d$の時刻$t$における標準住戸の主たる居室の内部発湿, g/h    \n",
    "$w_{s,gen,NR,d,t}$：日付$d$の時刻$t$における標準住戸のその他の居室の内部発湿, g/h  \n",
    "$w_{s,gen,OR,d,t}$：日付$d$の時刻$t$における標準住戸の非居室の内部発湿, g/h  \n",
    "$A_{MR}$：主たる居室の床面積, m<sup>2</sup>  \n",
    "$A_{OR}$：その他居室の床面積, m<sup>2</sup>  \n",
    "$A_{NR}$：非居室の床面積, m<sup>2</sup>  "
   ]
  },
  {
   "cell_type": "markdown",
   "metadata": {},
   "source": [
    "標準住戸における内部発湿, g/h\n",
    "\n",
    "平日\n",
    "\n",
    "| 居室の種類 | 0 | 1 | 2 | 3 | 4 | 5 | 6 | 7 | 8 | 9 | 10 | 11 | 12 | 13 | 14 | 15 | 16 | 17 | 18 | 19 | 20 | 21 | 22 | 23 |\n",
    "| --- | --- | --- | --- | --- | --- | --- | --- | --- | --- | --- | --- | --- | --- | --- | --- | --- | --- | --- | --- | --- | --- | --- | --- | --- |\n",
    "| 主たる居室 | 0.0 | 0.0 | 0.0 | 0.0 | 0.0 | 0.0 | 25.0 | 0.0 | 0.0 | 0.0 | 0.0 | 0.0 | 0.0 | 0.0 | 0.0 | 0.0 | 0.0 | 0.0 | 50.0 | 0.0 | 0.0 | 0.0 | 0.0 | 0.0 |  \n",
    "| その他の居室 | 0.0 | 0.0 | 0.0 | 0.0 | 0.0 | 0.0 | 0.0 | 0.0 | 0.0 | 0.0 | 0.0 | 0.0 | 0.0 | 0.0 | 0.0 | 0.0 | 0.0 | 0.0 | 0.0 | 0.0 | 0.0 | 0.0 | 0.0 | 0.0 |\n",
    "| 非居室 | 0.0 | 0.0 | 0.0 | 0.0 | 0.0 | 0.0 | 0.0 | 0.0 | 0.0 | 0.0 | 0.0 | 0.0 | 0.0 | 0.0 | 0.0 | 0.0 | 0.0 | 0.0 | 0.0 | 0.0 | 0.0 | 0.0 | 0.0 | 0.0 |\n",
    "\n",
    "休日\n",
    "\n",
    "| 居室の種類 | 0 | 1 | 2 | 3 | 4 | 5 | 6 | 7 | 8 | 9 | 10 | 11 | 12 | 13 | 14 | 15 | 16 | 17 | 18 | 19 | 20 | 21 | 22 | 23 |\n",
    "| --- | --- | --- | --- | --- | --- | --- | --- | --- | --- | --- | --- | --- | --- | --- | --- | --- | --- | --- | --- | --- | --- | --- | --- | --- |\n",
    "| 主たる居室 | 0.0 | 0.0 | 0.0 | 0.0 | 0.0 | 0.0 | 0.0 | 0.0 | 25.0 | 0.0 | 0.0 | 0.0 | 0.0 | 0.0 | 0.0 | 0.0 | 0.0 | 50.0 | 0.0 | 0.0 | 0.0 | 0.0 | 0.0 | 0.0 |  \n",
    "| その他の居室 | 0.0 | 0.0 | 0.0 | 0.0 | 0.0 | 0.0 | 0.0 | 0.0 | 0.0 | 0.0 | 0.0 | 0.0 | 0.0 | 0.0 | 0.0 | 0.0 | 0.0 | 0.0 | 0.0 | 0.0 | 0.0 | 0.0 | 0.0 | 0.0 |\n",
    "| 非居室 | 0.0 | 0.0 | 0.0 | 0.0 | 0.0 | 0.0 | 0.0 | 0.0 | 0.0 | 0.0 | 0.0 | 0.0 | 0.0 | 0.0 | 0.0 | 0.0 | 0.0 | 0.0 | 0.0 | 0.0 | 0.0 | 0.0 | 0.0 | 0.0 |\n"
   ]
  },
  {
   "cell_type": "code",
   "execution_count": 8,
   "metadata": {
    "scrolled": true
   },
   "outputs": [
    {
     "data": {
      "text/plain": [
       "(array([0., 0., 0., ..., 0., 0., 0.]),\n",
       " array([0., 0., 0., ..., 0., 0., 0.]),\n",
       " array([0., 0., 0., ..., 0., 0., 0.]),\n",
       " array([0., 0., 0., ..., 0., 0., 0.]))"
      ]
     },
     "execution_count": 8,
     "metadata": {},
     "output_type": "execute_result"
    }
   ],
   "source": [
    "w_gen, w_gen_mr, w_gen_or, w_gen_nr = cs.get_w_gen(a_mr, a_or, a_nr, calender)\n",
    "w_gen, w_gen_mr, w_gen_or, w_gen_nr"
   ]
  },
  {
   "cell_type": "markdown",
   "metadata": {},
   "source": [
    "## 6. 局所換気スケジュール"
   ]
  },
  {
   "cell_type": "markdown",
   "metadata": {},
   "source": [
    "局所換気量は、住宅規模に依存しない。"
   ]
  },
  {
   "cell_type": "markdown",
   "metadata": {},
   "source": [
    "$$ V_{local,d,t} = V_{local,MR,d,t} + V_{local,OR,d,t} + V_{local,NR,d,t} $$"
   ]
  },
  {
   "cell_type": "markdown",
   "metadata": {},
   "source": [
    "$V_{local,d,t}$：日付$d$時刻$t$における局所換気量, m<sup>3</sup>/h  \n",
    "$V_{local,MR,d,t}$：日付$d$時刻$t$における主たる居室の局所換気量, m<sup>3</sup>/h  \n",
    "$V_{local,OR,d,t}$：日付$d$時刻$t$におけるその他の居室の局所換気量, m<sup>3</sup>/h  \n",
    "$V_{local,NR,d,t}$：日付$d$時刻$t$における非居室の局所換気量, m<sup>3</sup>/h  "
   ]
  },
  {
   "cell_type": "markdown",
   "metadata": {},
   "source": [
    "平日\n",
    "\n",
    "| 居室の種類 | 0 | 1 | 2 | 3 | 4 | 5 | 6 | 7 | 8 | 9 | 10 | 11 | 12 | 13 | 14 | 15 | 16 | 17 | 18 | 19 | 20 | 21 | 22 | 23 |\n",
    "| --- | --- | --- | --- | --- | --- | --- | --- | --- | --- | --- | --- | --- | --- | --- | --- | --- | --- | --- | --- | --- | --- | --- | --- | --- |\n",
    "| 主たる居室 | 0.0 | 0.0 | 0.0 | 0.0 | 0.0 | 0.0 | 75.0 | 0.0 | 0.0 | 0.0 | 0.0 | 0.0 | 75.0 | 0.0 | 0.0 | 0.0 | 0.0 | 0.0 | 150.0 | 150.0 | 0.0 | 0.0 | 0.0 | 0.0 |  \n",
    "| その他の居室 | 0.0 | 0.0 | 0.0 | 0.0 | 0.0 | 0.0 | 0.0 | 0.0 | 0.0 | 0.0 | 0.0 | 0.0 | 0.0 | 0.0 | 0.0 | 0.0 | 0.0 | 0.0 | 0.0 | 0.0 | 0.0 | 0.0 | 0.0 | 0.0 |  \n",
    "| 非居室 | 0.0 | 0.0 | 0.0 | 0.0 | 0.0 | 0.0 | 6.0 | 2.0 | 0.0 | 0.8 | 0.0 | 0.0 | 0.8 | 0.0 | 0.0 | 0.0 | 0.8 | 0.8 | 0.8 | 0.8 | 0.8 | 52.0 | 25.0 | 102.8.0 |  \n",
    "\n",
    "休日\n",
    "\n",
    "| 居室の種類 | 0 | 1 | 2 | 3 | 4 | 5 | 6 | 7 | 8 | 9 | 10 | 11 | 12 | 13 | 14 | 15 | 16 | 17 | 18 | 19 | 20 | 21 | 22 | 23 |\n",
    "| --- | --- | --- | --- | --- | --- | --- | --- | --- | --- | --- | --- | --- | --- | --- | --- | --- | --- | --- | --- | --- | --- | --- | --- | --- |  \n",
    "| 主たる居室 | 0.0 | 0.0 | 0.0 | 0.0 | 0.0 | 0.0 | 0.0 | 0.0 | 75.0 | 0.0 | 0.0 | 0.0 | 75.0 | 0.0 | 0.0 | 0.0 | 0.0 | 150.0 | 150.0 | 0.0 | 0.0 | 0.0 | 0.0 | 0.0 |  \n",
    "| その他の居室 | 0.0 | 0.0 | 0.0 | 0.0 | 0.0 | 0.0 | 0.0 | 0.0 | 0.0 | 0.0 | 0.0 | 0.0 | 0.0 | 0.0 | 0.0 | 0.0 | 0.0 | 0.0 | 0.0 | 0.0 | 0.0 | 0.0 | 0.0 | 0.0 |  \n",
    "| 非居室 | 0.0 | 0.0 | 0.0 | 0.0 | 0.0 | 0.0 | 0.0 | 4.0 | 4.0 | 0.0 | 1.2 | 1.2 | 0.0 | 0.0 | 0.0 | 0.0 | 2.0 | 75.8 | 25.0 | 2.0 | 0.8 | 25.0 | 27.0 | 100.8 |  "
   ]
  },
  {
   "cell_type": "code",
   "execution_count": 9,
   "metadata": {
    "scrolled": true
   },
   "outputs": [
    {
     "data": {
      "text/plain": [
       "(array([  0. ,   0. ,   0. , ...,  25. ,  27. , 100.8]),\n",
       " array([0., 0., 0., ..., 0., 0., 0.]),\n",
       " array([0., 0., 0., ..., 0., 0., 0.]),\n",
       " array([  0. ,   0. ,   0. , ...,  25. ,  27. , 100.8]))"
      ]
     },
     "execution_count": 9,
     "metadata": {},
     "output_type": "execute_result"
    }
   ],
   "source": [
    "v_local, v_local_mr, v_local_or, v_local_nr = cs.get_v_local(calender)\n",
    "v_local, v_local_mr, v_local_or, v_local_nr"
   ]
  },
  {
   "cell_type": "markdown",
   "metadata": {},
   "source": [
    "## 7. 設定温湿度"
   ]
  },
  {
   "cell_type": "markdown",
   "metadata": {},
   "source": [
    "$$ \\theta_{set,h} = 20.0 $$\n",
    "\n",
    "$$ \\theta_{set,c} = 27.0 $$\n",
    "\n",
    "$\\theta_{set,h}$：暖房時の設定温度, ℃  \n",
    "$\\theta_{set,c}$：冷房時の設定温度, ℃  "
   ]
  },
  {
   "cell_type": "code",
   "execution_count": 10,
   "metadata": {},
   "outputs": [],
   "source": [
    "theta_set_h, theta_set_c = cs.get_theta_set()"
   ]
  },
  {
   "cell_type": "markdown",
   "metadata": {},
   "source": [
    "$$ X_{set,c} = 0.013425743 $$\n",
    "\n",
    "$X_{set,c}$：冷房時の設置絶対湿度, kg/kgDA ( = 27℃ 60% の時の絶対湿度）"
   ]
  },
  {
   "cell_type": "code",
   "execution_count": 11,
   "metadata": {},
   "outputs": [],
   "source": [
    "x_set_c = cs.get_x_set()"
   ]
  },
  {
   "cell_type": "markdown",
   "metadata": {},
   "source": [
    "## 8. 外部モジュールへの引き渡し"
   ]
  },
  {
   "cell_type": "markdown",
   "metadata": {},
   "source": [
    "本モジュールを外部のモジュールから呼び出して必要な値を取得する場合に利用する関数を定義します。"
   ]
  },
  {
   "cell_type": "code",
   "execution_count": 12,
   "metadata": {},
   "outputs": [],
   "source": [
    "def get_occupant_usage(region, a_mr, a_or, a_nr, calender):\n",
    "\n",
    "    heating_period, cooling_period = cs.get_heating_and_cooling_schedule(region)\n",
    "    \n",
    "    n_p, _, _, _ = cs.get_n_p(a_mr, a_or, a_nr, calender)\n",
    "    \n",
    "    q_gen, _, _, _ = cs.get_q_gen(a_mr, a_or, a_nr, calender)\n",
    "    \n",
    "    w_gen, _, _, _ = cs.get_w_gen(a_mr, a_or, a_nr, calender)\n",
    "    \n",
    "    v_local, v_local_mr, v_local_or, v_local_nr = cs.get_v_local(calender)\n",
    "    \n",
    "    theta_set_h, theta_set_c = cs.get_theta_set()\n",
    "    \n",
    "    x_set_c = cs.get_x_set()\n",
    "    \n",
    "    return heating_period, cooling_period, n_p, q_gen, w_gen, v_local, v_local_mr, v_local_or, v_local_nr, theta_set_h, theta_set_c, x_set_c"
   ]
  },
  {
   "cell_type": "code",
   "execution_count": null,
   "metadata": {},
   "outputs": [],
   "source": []
  }
 ],
 "metadata": {
  "kernelspec": {
   "display_name": "Python 3",
   "language": "python",
   "name": "python3"
  },
  "language_info": {
   "codemirror_mode": {
    "name": "ipython",
    "version": 3
   },
   "file_extension": ".py",
   "mimetype": "text/x-python",
   "name": "python",
   "nbconvert_exporter": "python",
   "pygments_lexer": "ipython3",
   "version": "3.6.4"
  }
 },
 "nbformat": 4,
 "nbformat_minor": 2
}
