{
 "cells": [
  {
   "cell_type": "code",
   "execution_count": 1,
   "metadata": {},
   "outputs": [
    {
     "name": "stdout",
     "output_type": "stream",
     "text": [
      "Importing Jupyter notebook from report_study_case.ipynb\n",
      "Importing Jupyter notebook from report_house_spec.ipynb\n",
      "Importing Jupyter notebook from report_general_property.ipynb\n"
     ]
    }
   ],
   "source": [
    "import numpy as np\n",
    "import matplotlib.pyplot as plt\n",
    "import nbimporter\n",
    "import pandas as pd\n",
    "\n",
    "import central_system as cs\n",
    "import analyze_control as ac\n",
    "import read_load as rl\n",
    "\n",
    "import report_study_case\n",
    "import report_house_spec\n",
    "import report_general_property"
   ]
  },
  {
   "cell_type": "markdown",
   "metadata": {},
   "source": [
    "# 居住者の使い方"
   ]
  },
  {
   "cell_type": "markdown",
   "metadata": {},
   "source": [
    "本モジュールでは負荷計算等の与条件となる居住者の使い方について示します。  "
   ]
  },
  {
   "cell_type": "markdown",
   "metadata": {},
   "source": [
    "## 0. 検討ケース"
   ]
  },
  {
   "cell_type": "markdown",
   "metadata": {},
   "source": [
    "試算するケースを取得します。"
   ]
  },
  {
   "cell_type": "code",
   "execution_count": 2,
   "metadata": {
    "scrolled": true
   },
   "outputs": [
    {
     "data": {
      "text/plain": [
       "{'region': 6,\n",
       " 'house': {'a_mr': 29.81,\n",
       "  'a_or': 51.34,\n",
       "  'a_a': 120.08,\n",
       "  'r_env': 2.9555555555555557,\n",
       "  'insulation': 'h11',\n",
       "  'solar_gain': 'middle'},\n",
       " 'system': {'default_heat_source_spec': True,\n",
       "  'v_hs_rtd_h': 1800.0,\n",
       "  'v_hs_rtd_c': 1800.0,\n",
       "  'is_duct_insulated': True,\n",
       "  'vav_system': False,\n",
       "  'cap_rtd_h': None,\n",
       "  'cap_rtd_c': None}}"
      ]
     },
     "execution_count": 2,
     "metadata": {},
     "output_type": "execute_result"
    }
   ],
   "source": [
    "case = report_study_case.get_case()\n",
    "case"
   ]
  },
  {
   "cell_type": "markdown",
   "metadata": {},
   "source": [
    "## 1. 外部モジュールの読み込み"
   ]
  },
  {
   "cell_type": "markdown",
   "metadata": {},
   "source": [
    "### 住宅の仕様"
   ]
  },
  {
   "cell_type": "markdown",
   "metadata": {},
   "source": [
    "外部モジュール report_external_conditions を参照のこと。  \n",
    "\n",
    "$r_{env}$：床面積の合計に対する外皮の部位の面積の合計の比  \n",
    "$A_A$：床面積の合計, m<sup>2</sup>  \n",
    "$A_{MR}$：主たる居室の床面積, m<sup>2</sup>  \n",
    "$A_{OR}$：その他の居室の床面積, m<sup>2</sup>  \n",
    "$A_{NR}$：非居室の床面積, m<sup>2</sup>  \n",
    "$A_{HCZ,R,i}$：標準住戸における暖冷房区画 $i$ の床面積, m<sup>2</sup>  \n",
    "$A_{HCZ,i}$：暖冷房区画 $i$ の床面積, m<sup>2</sup>  \n",
    "$A_{prt,i}$：暖冷房区画 $i$ から見た非暖冷房空間の間仕切りの面積, m<sup>2</sup>  \n",
    "$U_{prt}$：間仕切りの熱貫流率, W/m<sup>2</sup>K  \n",
    "$Q$：熱損失係数, W/m<sup>2</sup>K  \n",
    "$\\mu_H$：暖房期の日射取得係数, ((W/m<sup>2</sup>)/(W/m<sup>2</sup>))  \n",
    "$\\mu_C$：冷房期の日射取得係数, ((W/m<sup>2</sup>)/(W/m<sup>2</sup>))  \n",
    "$V_{vent,i}$：暖冷房区画 $i$ の機械換気量, m<sup>3</sup>/h  "
   ]
  },
  {
   "cell_type": "code",
   "execution_count": 3,
   "metadata": {
    "scrolled": true
   },
   "outputs": [
    {
     "data": {
      "text/plain": [
       "(2.9555555555555557,\n",
       " 120.08,\n",
       " 29.81,\n",
       " 51.34,\n",
       " 38.92999999999999,\n",
       " array([29.81, 16.56, 13.25, 10.76, 10.77,  3.31,  1.66,  3.31, 13.25,\n",
       "         4.97, 10.77,  1.66]),\n",
       " array([37.99636619, 27.7187943 , 22.17838312, 18.01052093, 18.02725933]),\n",
       " 2.1739130434782608,\n",
       " 2.7,\n",
       " 0.101,\n",
       " 0.062,\n",
       " array([60., 20., 40., 20., 20.]))"
      ]
     },
     "execution_count": 3,
     "metadata": {},
     "output_type": "execute_result"
    }
   ],
   "source": [
    "r_env, a_a, a_mr, a_or, a_nr, a_hcz, a_prt, u_prt, q, mu_h, mu_c, v_vent = \\\n",
    "    report_house_spec.get_house_spec(case['region'], case['house'])\n",
    "r_env, a_a, a_mr, a_or, a_nr, a_hcz, a_prt, u_prt, q, mu_h, mu_c, v_vent"
   ]
  },
  {
   "cell_type": "markdown",
   "metadata": {},
   "source": [
    "### 物性値"
   ]
  },
  {
   "cell_type": "markdown",
   "metadata": {},
   "source": [
    "外部モジュール report_general_property を参照のこと。\n",
    "\n",
    "$\\rho$：空気の密度, kg/m<sup>3</sup>  \n",
    "$c$：空気の比熱, J/kgK  \n",
    "$L_{wtr}$：水の蒸発潜熱, kJ/kg  \n",
    "暖冷房期間"
   ]
  },
  {
   "cell_type": "code",
   "execution_count": 4,
   "metadata": {},
   "outputs": [
    {
     "data": {
      "text/plain": [
       "(1.2,\n",
       " 1006.0,\n",
       " 2434.5296000000003,\n",
       " array(['休日', '休日', '休日', ..., '休日', '休日', '休日'], dtype=object))"
      ]
     },
     "execution_count": 4,
     "metadata": {},
     "output_type": "execute_result"
    }
   ],
   "source": [
    "rho, c, l_wtr, calender = report_general_property.get_general_property()\n",
    "rho, c, l_wtr, calender"
   ]
  },
  {
   "cell_type": "markdown",
   "metadata": {},
   "source": [
    "## 2. 暖冷房期間"
   ]
  },
  {
   "cell_type": "markdown",
   "metadata": {},
   "source": [
    "暖冷房期間は地域に応じて以下のように定まるとする。"
   ]
  },
  {
   "cell_type": "markdown",
   "metadata": {},
   "source": [
    "| 地域 | 暖房期間 | 冷房期間 |\n",
    "| --- | --- | --- |\n",
    "| 1地域 | 9/24～6/7 | 7/10～8/31 |\n",
    "| 2地域 | 9/26～6/4 | 7/15～8/31 |\n",
    "| 3地域 | 9/30～5/31 | 7/10～8/31 |\n",
    "| 4地域 | 10/1～5/30 | 7/10～8/31 |\n",
    "| 5地域 | 10/10～5/15 | 7/6～8/31 |\n",
    "| 6地域 | 11/4～4/21 | 5/30～9/23 |\n",
    "| 7地域 | 11/26～3/27 | 5/15～10/13 |\n",
    "| 8地域 | なし | 3/25～12/14 |"
   ]
  },
  {
   "cell_type": "code",
   "execution_count": 5,
   "metadata": {},
   "outputs": [
    {
     "data": {
      "text/plain": [
       "(array([ True,  True,  True, ...,  True,  True,  True]),\n",
       " array([False, False, False, ..., False, False, False]))"
      ]
     },
     "execution_count": 5,
     "metadata": {},
     "output_type": "execute_result"
    }
   ],
   "source": [
    "heating_period, cooling_period = cs.get_heating_and_cooling_schedule(case['region'])\n",
    "heating_period, cooling_period"
   ]
  },
  {
   "cell_type": "markdown",
   "metadata": {},
   "source": [
    "### 3.  在室人数スケジュール"
   ]
  },
  {
   "cell_type": "markdown",
   "metadata": {},
   "source": [
    "$$ n_{p,d,t} = n_{p,MR,d,t} + n_{p,OR,d,t} + n_{p,NR,d,t} $$  \n",
    "$$ n_{p,MR,d,t} = n_{s,p,MR,d,t} \\frac{ A_{MR} }{ 29.81 } $$  \n",
    "$$ n_{p,OR,d,t} = n_{s,p,OR,d,t} \\frac{ A_{OR} }{ 51.34 } $$  \n",
    "$$ n_{p,NR,d,t} = n_{s,p,NR,d,t} \\frac{ A_{NR} }{ 38.93 } $$  \n",
    "\n",
    "$n_{p,d,t}$：日付$d$の時刻$t$における在室人数  \n",
    "$n_{p,MR,d,t}$：日付$d$の時刻$t$における主たる居室の在室人数  \n",
    "$n_{p,MR,d,t}$：日付$d$の時刻$t$におけるその他の居室の在室人数  \n",
    "$n_{p,MR,d,t}$：日付$d$の時刻$t$における非居室の在室人数  \n",
    "$n_{s,p,MR,d,t}$：日付$d$の時刻$t$における標準住戸の主たる居室の在室人数  \n",
    "$n_{s,p,MR,d,t}$：日付$d$の時刻$t$における標準住戸のその他の居室の在室人数  \n",
    "$n_{s,p,MR,d,t}$：日付$d$の時刻$t$における標準住戸の非居室の在室人数  \n",
    "$A_{MR}$：主たる居室の床面積, m<sup>2</sup>  \n",
    "$A_{OR}$：その他居室の床面積, m<sup>2</sup>  \n",
    "$A_{NR}$：非居室の床面積, m<sup>2</sup>  "
   ]
  },
  {
   "cell_type": "markdown",
   "metadata": {},
   "source": [
    "標準住戸における在室人数（人）\n",
    "\n",
    "平日\n",
    "\n",
    "| 居室の種類 | 0 | 1 | 2 | 3 | 4 | 5 | 6 | 7 | 8 | 9 | 10 | 11 | 12 | 13 | 14 | 15 | 16 | 17 | 18 | 19 | 20 | 21 | 22 | 23 |\n",
    "| --- | --- | --- | --- | --- | --- | --- | --- | --- | --- | --- | --- | --- | --- | --- | --- | --- | --- | --- | --- | --- | --- | --- | --- | --- |\n",
    "| 主たる居室 | 0 | 0 | 0 | 0 | 0 | 0 | 1 | 2 | 1 | 1 | 0 | 0 | 1 | 1 | 0 | 0 | 1 | 2 | 2 | 3 | 3 | 2 | 1 | 1 |\n",
    "| その他の居室 | 4 | 4 | 4 | 4 | 4 | 4 | 3 | 0 | 0 | 0 | 0 | 0 | 0 | 0 | 0 | 0 | 0 | 0 | 1 | 0 | 1 | 1 | 2 | 3 |\n",
    "| 非居室 | 0 | 0 | 0 | 0 | 0 | 0 | 0 | 0 | 0 | 0 | 0 | 0 | 0 | 0 | 0 | 0 | 0 | 0 | 0 | 0 | 0 | 0 | 0 | 0 |\n",
    "\n",
    "休日\n",
    "\n",
    "| 居室の種類 | 0 | 1 | 2 | 3 | 4 | 5 | 6 | 7 | 8 | 9 | 10 | 11 | 12 | 13 | 14 | 15 | 16 | 17 | 18 | 19 | 20 | 21 | 22 | 23 |\n",
    "| --- | --- | --- | --- | --- | --- | --- | --- | --- | --- | --- | --- | --- | --- | --- | --- | --- | --- | --- | --- | --- | --- | --- | --- | --- |\n",
    "| 主たる居室 | 0 | 0 | 0 | 0 | 0 | 0 | 0 | 0 | 3 | 2 | 2 | 2 | 2 | 1 | 0 | 0 | 2 | 3 | 3 | 4 | 2 | 2 | 1 | 0 |\n",
    "| その他の居室 | 4 | 4 | 4 | 4 | 4 | 4 | 4 | 3 | 1 | 2 | 2 | 2 | 1 | 0 | 0 | 0 | 1 | 1 | 1 | 0 | 2 | 2 | 2 | 3 |\n",
    "| 非居室 | 0 | 0 | 0 | 0 | 0 | 0 | 0 | 0 | 0 | 0 | 0 | 0 | 0 | 0 | 0 | 0 | 0 | 0 | 0 | 0 | 0 | 0 | 0 | 0 |"
   ]
  },
  {
   "cell_type": "code",
   "execution_count": 11,
   "metadata": {},
   "outputs": [
    {
     "data": {
      "text/plain": [
       "(array([4., 4., 4., ..., 3., 3., 4.]),\n",
       " array([0., 0., 0., ..., 2., 1., 1.]),\n",
       " array([4., 4., 4., ..., 1., 2., 3.]),\n",
       " array([0., 0., 0., ..., 0., 0., 0.]))"
      ]
     },
     "execution_count": 11,
     "metadata": {},
     "output_type": "execute_result"
    }
   ],
   "source": [
    "def get_n_p(a_mr, a_or, a_nr, calender):\n",
    "    \n",
    "    n_p_mr_wd = np.array([0, 0, 0, 0, 0, 0, 1, 2, 1, 1, 0, 0, 1, 1, 0, 0, 1, 2, 2, 3, 3, 2, 1, 1]) * a_mr / 29.81\n",
    "    n_p_or_wd = np.array([4, 4, 4, 4, 4, 4, 3, 0, 0, 0, 0, 0, 0, 0, 0, 0, 0, 0, 1, 0, 1, 1, 2, 3]) * a_or / 51.34\n",
    "    n_p_nr_wd = np.array([0, 0, 0, 0, 0, 0, 0, 0, 0, 0, 0, 0, 0, 0, 0, 0, 0, 0, 0, 0, 0, 0, 0, 0]) * a_nr / 38.93\n",
    "    n_p_mr_hd = np.array([0, 0, 0, 0, 0, 0, 0, 0, 3, 2, 2, 2, 2, 1, 0, 0, 2, 3, 3, 4, 2, 2, 1, 0]) * a_mr / 29.81\n",
    "    n_p_or_hd = np.array([4, 4, 4, 4, 4, 4, 4, 3, 1, 2, 2, 2, 1, 0, 0, 0, 1, 1, 1, 0, 2, 2, 2, 3]) * a_or / 51.34\n",
    "    n_p_nr_hd = np.array([0, 0, 0, 0, 0, 0, 0, 0, 0, 0, 0, 0, 0, 0, 0, 0, 0, 0, 0, 0, 0, 0, 0, 0]) * a_nr / 38.93\n",
    "    \n",
    "    n_p_mr = np.tile(n_p_mr_wd, 365) * (calender == '平日') + np.tile(n_p_mr_wd, 365) * (calender == '休日')\n",
    "    n_p_or = np.tile(n_p_or_wd, 365) * (calender == '平日') + np.tile(n_p_or_wd, 365) * (calender == '休日')\n",
    "    n_p_nr = np.tile(n_p_nr_wd, 365) * (calender == '平日') + np.tile(n_p_nr_wd, 365) * (calender == '休日')\n",
    "    \n",
    "    n_p = n_p_mr + n_p_or + n_p_nr\n",
    "    \n",
    "    return n_p, n_p_mr, n_p_or, n_p_nr\n",
    "\n",
    "n_p, n_p_mr, n_p_or, n_p_nr = get_n_p(a_mr, a_or, a_nr, calender)\n",
    "n_p, n_p_mr, n_p_or, n_p_nr"
   ]
  },
  {
   "cell_type": "code",
   "execution_count": 10,
   "metadata": {},
   "outputs": [],
   "source": [
    "def get_occupant_usage(region):\n",
    "\n",
    "    heating_period, cooling_period = cs.get_heating_and_cooling_schedule(region)\n",
    "    \n",
    "    n_p_mr, n_p_or, n_p_nr = get_n_p(a_mr, a_or, a_nr, calender)\n",
    "    \n",
    "    return heating_period, cooling_period, n_p_mr, n_p_or, n_p_nr"
   ]
  },
  {
   "cell_type": "code",
   "execution_count": null,
   "metadata": {},
   "outputs": [],
   "source": []
  }
 ],
 "metadata": {
  "kernelspec": {
   "display_name": "Python 3",
   "language": "python",
   "name": "python3"
  },
  "language_info": {
   "codemirror_mode": {
    "name": "ipython",
    "version": 3
   },
   "file_extension": ".py",
   "mimetype": "text/x-python",
   "name": "python",
   "nbconvert_exporter": "python",
   "pygments_lexer": "ipython3",
   "version": "3.6.4"
  }
 },
 "nbformat": 4,
 "nbformat_minor": 2
}
