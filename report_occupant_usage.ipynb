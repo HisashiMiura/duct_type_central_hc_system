{
 "cells": [
  {
   "cell_type": "code",
   "execution_count": 1,
   "metadata": {},
   "outputs": [
    {
     "name": "stdout",
     "output_type": "stream",
     "text": [
      "Importing Jupyter notebook from report_study_case.ipynb\n"
     ]
    }
   ],
   "source": [
    "import numpy as np\n",
    "import matplotlib.pyplot as plt\n",
    "import nbimporter\n",
    "import pandas as pd\n",
    "\n",
    "import central_system as cs\n",
    "import analyze_control as ac\n",
    "import read_load as rl\n",
    "\n",
    "import report_study_case"
   ]
  },
  {
   "cell_type": "markdown",
   "metadata": {},
   "source": [
    "# 居住者の使い方"
   ]
  },
  {
   "cell_type": "markdown",
   "metadata": {},
   "source": [
    "本モジュールでは負荷計算等の与条件となる居住者の使い方について示します。  "
   ]
  },
  {
   "cell_type": "markdown",
   "metadata": {},
   "source": [
    "## 0. 検討ケース"
   ]
  },
  {
   "cell_type": "markdown",
   "metadata": {},
   "source": [
    "試算するケースを取得します。"
   ]
  },
  {
   "cell_type": "code",
   "execution_count": 2,
   "metadata": {},
   "outputs": [
    {
     "data": {
      "text/plain": [
       "{'region': 6,\n",
       " 'house': {'a_mr': 29.81,\n",
       "  'a_or': 51.34,\n",
       "  'a_a': 120.08,\n",
       "  'r_env': 2.9555555555555557,\n",
       "  'insulation': 'h11',\n",
       "  'solar_gain': 'middle'},\n",
       " 'system': {'default_heat_source_spec': True,\n",
       "  'v_hs_rtd_h': 1800.0,\n",
       "  'v_hs_rtd_c': 1800.0,\n",
       "  'is_duct_insulated': True,\n",
       "  'vav_system': False,\n",
       "  'cap_rtd_h': None,\n",
       "  'cap_rtd_c': None}}"
      ]
     },
     "execution_count": 2,
     "metadata": {},
     "output_type": "execute_result"
    }
   ],
   "source": [
    "case = report_study_case.get_case()\n",
    "case"
   ]
  },
  {
   "cell_type": "markdown",
   "metadata": {},
   "source": [
    "## 1. 暖冷房期間"
   ]
  },
  {
   "cell_type": "markdown",
   "metadata": {},
   "source": [
    "暖冷房期間は地域に応じて以下のように定まるとする。"
   ]
  },
  {
   "cell_type": "markdown",
   "metadata": {},
   "source": [
    "| 地域 | 暖房期間 | 冷房期間 |\n",
    "| --- | --- | --- |\n",
    "| 1地域 | 9/24～6/7 | 7/10～8/31 |\n",
    "| 2地域 | 9/26～6/4 | 7/15～8/31 |\n",
    "| 3地域 | 9/30～5/31 | 7/10～8/31 |\n",
    "| 4地域 | 10/1～5/30 | 7/10～8/31 |\n",
    "| 5地域 | 10/10～5/15 | 7/6～8/31 |\n",
    "| 6地域 | 11/4～4/21 | 5/30～9/23 |\n",
    "| 7地域 | 11/26～3/27 | 5/15～10/13 |\n",
    "| 8地域 | なし | 3/25～12/14 |"
   ]
  },
  {
   "cell_type": "code",
   "execution_count": 3,
   "metadata": {},
   "outputs": [
    {
     "data": {
      "text/plain": [
       "(array([ True,  True,  True, ...,  True,  True,  True]),\n",
       " array([False, False, False, ..., False, False, False]))"
      ]
     },
     "execution_count": 3,
     "metadata": {},
     "output_type": "execute_result"
    }
   ],
   "source": [
    "heating_period, cooling_period = cs.get_heating_and_cooling_schedule(case['region'])\n",
    "heating_period, cooling_period"
   ]
  },
  {
   "cell_type": "code",
   "execution_count": 4,
   "metadata": {},
   "outputs": [],
   "source": [
    "def get_occupant_usage(region):\n",
    "\n",
    "    heating_period, cooling_period = cs.get_heating_and_cooling_schedule(region)\n",
    "    \n",
    "    return heating_period, cooling_period"
   ]
  },
  {
   "cell_type": "code",
   "execution_count": null,
   "metadata": {},
   "outputs": [],
   "source": []
  }
 ],
 "metadata": {
  "kernelspec": {
   "display_name": "Python 3",
   "language": "python",
   "name": "python3"
  },
  "language_info": {
   "codemirror_mode": {
    "name": "ipython",
    "version": 3
   },
   "file_extension": ".py",
   "mimetype": "text/x-python",
   "name": "python",
   "nbconvert_exporter": "python",
   "pygments_lexer": "ipython3",
   "version": "3.6.4"
  }
 },
 "nbformat": 4,
 "nbformat_minor": 2
}
