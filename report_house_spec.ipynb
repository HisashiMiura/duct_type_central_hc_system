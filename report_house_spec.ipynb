{
 "cells": [
  {
   "cell_type": "code",
   "execution_count": 1,
   "metadata": {},
   "outputs": [
    {
     "name": "stdout",
     "output_type": "stream",
     "text": [
      "Importing Jupyter notebook from report_study_case.ipynb\n"
     ]
    }
   ],
   "source": [
    "import numpy as np\n",
    "import matplotlib.pyplot as plt\n",
    "import nbimporter\n",
    "\n",
    "import read_conditions as rc\n",
    "import analyze_control as ac\n",
    "import central_system as cs\n",
    "\n",
    "import report_study_case"
   ]
  },
  {
   "cell_type": "markdown",
   "metadata": {},
   "source": [
    "# 住宅の仕様"
   ]
  },
  {
   "cell_type": "markdown",
   "metadata": {},
   "source": [
    "本モジュールでは、住宅の仕様の計算について示します。"
   ]
  },
  {
   "cell_type": "markdown",
   "metadata": {},
   "source": [
    "## 0. 検討ケースの取得"
   ]
  },
  {
   "cell_type": "code",
   "execution_count": 2,
   "metadata": {},
   "outputs": [
    {
     "data": {
      "text/plain": [
       "{'a_mr': 29.81,\n",
       " 'a_or': 51.34,\n",
       " 'a_a': 120.08,\n",
       " 'r_env': 2.9555555555555557,\n",
       " 'insulation': 'h11',\n",
       " 'solar_gain': 'middle'}"
      ]
     },
     "execution_count": 2,
     "metadata": {},
     "output_type": "execute_result"
    }
   ],
   "source": [
    "case = report_study_case.get_case()\n",
    "case['house']"
   ]
  },
  {
   "cell_type": "markdown",
   "metadata": {},
   "source": [
    "## 1. 面積"
   ]
  },
  {
   "cell_type": "markdown",
   "metadata": {},
   "source": [
    "### 非居室"
   ]
  },
  {
   "cell_type": "markdown",
   "metadata": {},
   "source": [
    "非居室の床面積 $A_{NR}$ は下式で表される。\n",
    "\n",
    "$$ A_{NR} = A_A - A_{MR} - A_{OR}$$\n",
    "\n",
    "$A_{NR}$：非居室の床面積, m<sup>2</sup>  \n",
    "$A_A$：床面積の合計, m<sup>2</sup>  \n",
    "$A_{MR}$：主たる居室の床面積, m<sup>2</sup>  \n",
    "$A_{OR}$：その他の居室の床面積, m<sup>2</sup>  "
   ]
  },
  {
   "cell_type": "code",
   "execution_count": 3,
   "metadata": {},
   "outputs": [
    {
     "data": {
      "text/plain": [
       "38.92999999999999"
      ]
     },
     "execution_count": 3,
     "metadata": {},
     "output_type": "execute_result"
    }
   ],
   "source": [
    "a_nr = cs.get_non_occupant_room_floor_area(case['house']['a_mr'], case['house']['a_or'], case['house']['a_a'], case['house']['r_env'])\n",
    "a_nr"
   ]
  },
  {
   "cell_type": "markdown",
   "metadata": {},
   "source": [
    "### 標準住戸及び当該住戸における暖冷房区画"
   ]
  },
  {
   "cell_type": "markdown",
   "metadata": {},
   "source": [
    "標準住戸における暖冷房区画 $i$ の床面積 $A_{HCZ,R,i}$ 及び暖冷房区画 $i$ の床面積 $A_{HCZ,i}$ は第2章で計算される。 "
   ]
  },
  {
   "cell_type": "code",
   "execution_count": 4,
   "metadata": {},
   "outputs": [
    {
     "data": {
      "text/plain": [
       "array([29.81, 16.56, 13.25, 10.76, 10.77,  3.31,  1.66,  3.31, 13.25,\n",
       "        4.97, 10.77,  1.66])"
      ]
     },
     "execution_count": 4,
     "metadata": {},
     "output_type": "execute_result"
    }
   ],
   "source": [
    "a_hcz_r = cs.get_referenced_floor_area()\n",
    "a_hcz_r"
   ]
  },
  {
   "cell_type": "code",
   "execution_count": 5,
   "metadata": {},
   "outputs": [
    {
     "data": {
      "text/plain": [
       "array([29.81, 16.56, 13.25, 10.76, 10.77,  3.31,  1.66,  3.31, 13.25,\n",
       "        4.97, 10.77,  1.66])"
      ]
     },
     "execution_count": 5,
     "metadata": {},
     "output_type": "execute_result"
    }
   ],
   "source": [
    "a_hcz = cs.get_floor_area(case['house']['a_mr'], case['house']['a_or'], case['house']['a_a'], case['house']['r_env'])\n",
    "a_hcz"
   ]
  },
  {
   "cell_type": "markdown",
   "metadata": {},
   "source": [
    "## 2. 間仕切り"
   ]
  },
  {
   "cell_type": "markdown",
   "metadata": {},
   "source": [
    "### 面積"
   ]
  },
  {
   "cell_type": "markdown",
   "metadata": {},
   "source": [
    "暖冷房空間 $i$ ( $i=1$ ) (主たる居室) から見た非暖冷房空間の間仕切りの面積\n",
    "$$ A_{prt,i} = A_{HCZ,i} r_{env} \\frac{ A_{NR} }{ A_{OR} + A_{NR} } $$\n",
    "\n",
    "暖冷房空間 $i$ ( $i=2,3,4,5$ ) (その他の居室) から見た非暖冷房空間の間仕切りの面積\n",
    "$$ A_{prt,i} = A_{HCZ,i} r_{env} \\frac{ A_{NR} }{ A_{MR} + A_{NR} } $$\n",
    "\n",
    "$A_{prt,i}$：暖冷房区画 $i$ から見た非暖冷房空間の間仕切りの面積, m<sup>2</sup>  \n",
    "$A_{HCZ,i}$：暖冷房区画 $i$ の床面積, m<sup>2</sup>  \n",
    "$r_{env}$：床面積の合計に対する外皮の部位の面積の合計の比  \n",
    "$A_{MR}$：主たる居室の床面積, m<sup>2</sup>  \n",
    "$A_{OR}$：その他の居室の床面積, m<sup>2</sup>  \n",
    "$A_{NR}$：非居室の床面積, m<sup>2</sup>  "
   ]
  },
  {
   "cell_type": "code",
   "execution_count": 6,
   "metadata": {},
   "outputs": [
    {
     "data": {
      "text/plain": [
       "array([37.99636619, 27.7187943 , 22.17838312, 18.01052093, 18.02725933])"
      ]
     },
     "execution_count": 6,
     "metadata": {},
     "output_type": "execute_result"
    }
   ],
   "source": [
    "a_prt = cs.get_partition_area(a_hcz, case['house']['a_mr'], case['house']['a_or'], a_nr, case['house']['r_env'])\n",
    "a_prt"
   ]
  },
  {
   "cell_type": "markdown",
   "metadata": {},
   "source": [
    "### 熱損失係数"
   ]
  },
  {
   "cell_type": "markdown",
   "metadata": {},
   "source": [
    "間仕切りの熱貫流率 $U_{prt}$ は 1/0.46 とする"
   ]
  },
  {
   "cell_type": "code",
   "execution_count": 7,
   "metadata": {},
   "outputs": [
    {
     "data": {
      "text/plain": [
       "2.1739130434782608"
      ]
     },
     "execution_count": 7,
     "metadata": {},
     "output_type": "execute_result"
    }
   ],
   "source": [
    "u_prt = cs.get_heat_loss_coefficient_of_partition()\n",
    "u_prt"
   ]
  },
  {
   "cell_type": "markdown",
   "metadata": {},
   "source": [
    "## 3. 外皮性能"
   ]
  },
  {
   "cell_type": "markdown",
   "metadata": {},
   "source": [
    "本来これは入力値である。（この notebook では、説明を簡単にするため、断熱レベル・日射熱取得レベルで指定するようにしている。）"
   ]
  },
  {
   "cell_type": "code",
   "execution_count": 8,
   "metadata": {},
   "outputs": [
    {
     "data": {
      "text/plain": [
       "(2.7, 0.101, 0.062)"
      ]
     },
     "execution_count": 8,
     "metadata": {},
     "output_type": "execute_result"
    }
   ],
   "source": [
    "q, mu_h, mu_c = cs.get_envelope_spec(case['region'], case['house']['insulation'], case['house']['solar_gain'])\n",
    "q, mu_h, mu_c"
   ]
  },
  {
   "cell_type": "markdown",
   "metadata": {},
   "source": [
    "## 4. 機械換気量"
   ]
  },
  {
   "cell_type": "markdown",
   "metadata": {},
   "source": [
    "（この値は建築基準法等に則って、住宅の仕様のみから決定される値のため、本モジュールで計算する。）"
   ]
  },
  {
   "cell_type": "markdown",
   "metadata": {},
   "source": [
    "$$V_{vent,i} = V_{vent,R,i} \\frac{ A_{HCZ,i} }{ A_{HCZ,R,i} } $$\n",
    "\n",
    "$V_{vent,i}$：暖冷房区画 $i$ の機械換気量, m<sup>3</sup>/h  \n",
    "$V_{vent,R,i}$：標準住戸における暖冷房区画 $i$ の機械換気量, m<sup>3</sup>/h  \n",
    "$A_{HCZ,i}$：暖冷房区画 $i$ の床面積, m<sup>2</sup>  \n",
    "$A_{HCZ,R,i}$：標準住戸における暖冷房区画 $i$ の床面積, m<sup>2</sup>  "
   ]
  },
  {
   "cell_type": "markdown",
   "metadata": {},
   "source": [
    "標準住戸における暖冷房区画 $i$ の機械換気量 $V_{vent,R,i}$ は下表で与えられる。\n",
    "\n",
    "| 空間番号 | 標準住戸における暖冷房区画iの機械換気量 |\n",
    "| --- | --- |\n",
    "| 1 | 60.0 |\n",
    "| 2 | 20.0 |\n",
    "| 3 | 40.0 |\n",
    "| 4 | 20.0 |\n",
    "| 5 | 20.0 |"
   ]
  },
  {
   "cell_type": "code",
   "execution_count": 9,
   "metadata": {},
   "outputs": [
    {
     "data": {
      "text/plain": [
       "array([60., 20., 40., 20., 20.])"
      ]
     },
     "execution_count": 9,
     "metadata": {},
     "output_type": "execute_result"
    }
   ],
   "source": [
    "v_vent = cs.get_mechanical_ventilation(a_hcz_r, a_hcz)\n",
    "v_vent"
   ]
  },
  {
   "cell_type": "markdown",
   "metadata": {},
   "source": [
    "## 4. 外部モジュールへの引き渡し"
   ]
  },
  {
   "cell_type": "markdown",
   "metadata": {},
   "source": [
    "本モジュールを外部のモジュールから呼び出して必要な値を取得する場合に利用する関数を定義します。"
   ]
  },
  {
   "cell_type": "code",
   "execution_count": 10,
   "metadata": {},
   "outputs": [],
   "source": [
    "def get_house_spec(region, house_spec):\n",
    "    \n",
    "    # the ratio of the total envelope area to the total floor area\n",
    "    r_env = house_spec['r_env']\n",
    "    \n",
    "    # total floor area, m2\n",
    "    a_a = house_spec['a_a']\n",
    "    \n",
    "    # main occupant room floor area, m2\n",
    "    a_mr = house_spec['a_mr']\n",
    "    \n",
    "    # other occupant room floor area, m2\n",
    "    a_or = house_spec['a_or']\n",
    "    \n",
    "    # non occupant room floor area, m2\n",
    "    a_nr = cs.get_non_occupant_room_floor_area(a_mr, a_or, a_a, r_env)\n",
    "    \n",
    "    # heating and cooling zone floor area of referenced house, m2\n",
    "    a_hcz_r = cs.get_referenced_floor_area()\n",
    "    \n",
    "    # heating and cooling zone floor area, m2 \n",
    "    a_hcz = cs.get_floor_area(a_mr, a_or, a_a, r_env)\n",
    "\n",
    "    # partition wall area, m2\n",
    "    a_prt = cs.get_partition_area(a_hcz, a_mr, a_or, a_nr, r_env)\n",
    "    \n",
    "    # partition wall u value, W/m2K\n",
    "    u_prt = cs.get_heat_loss_coefficient_of_partition()\n",
    "    \n",
    "    # q value, W/m2K, mu value\n",
    "    q, mu_h, mu_c = cs.get_envelope_spec(region, house_spec['insulation'], house_spec['solar_gain'])\n",
    "    \n",
    "    # required mechanical ventilation volume, m3/h \n",
    "    v_vent = cs.get_mechanical_ventilation(a_hcz_r, a_hcz)\n",
    "    \n",
    "    return r_env, a_a, a_mr, a_or, a_nr, a_hcz_r, a_hcz, a_prt, u_prt, q, mu_h, mu_c, v_vent\n"
   ]
  },
  {
   "cell_type": "code",
   "execution_count": null,
   "metadata": {},
   "outputs": [],
   "source": []
  }
 ],
 "metadata": {
  "kernelspec": {
   "display_name": "Python 3",
   "language": "python",
   "name": "python3"
  },
  "language_info": {
   "codemirror_mode": {
    "name": "ipython",
    "version": 3
   },
   "file_extension": ".py",
   "mimetype": "text/x-python",
   "name": "python",
   "nbconvert_exporter": "python",
   "pygments_lexer": "ipython3",
   "version": "3.6.4"
  }
 },
 "nbformat": 4,
 "nbformat_minor": 2
}
